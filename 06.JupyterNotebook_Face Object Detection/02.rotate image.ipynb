{
 "cells": [
  {
   "cell_type": "code",
   "execution_count": 16,
   "metadata": {},
   "outputs": [],
   "source": [
    "import cv2\n",
    "import numpy as np"
   ]
  },
  {
   "cell_type": "code",
   "execution_count": 17,
   "metadata": {},
   "outputs": [],
   "source": [
    "# 앞 부분과 비슷함\n",
    "# https://github.com/opencv/opencv/tree/master/data/haarcascades 다른cascade\n",
    "\n",
    "# creating face_cascade and eye_cascade objects\n",
    "face_cascade = cv2.CascadeClassifier('./haarcascade_frontalface_default.xml')\n",
    "eye_cascade = cv2.CascadeClassifier('./haarcascade_eye.xml')\n",
    "\n",
    "# 얼굴이미지 가져오기\n",
    "img = cv2.imread('./face.png')"
   ]
  },
  {
   "cell_type": "code",
   "execution_count": 18,
   "metadata": {},
   "outputs": [
    {
     "name": "stdout",
     "output_type": "stream",
     "text": [
      "(300, 332, 3)\n"
     ]
    },
    {
     "data": {
      "text/plain": [
       "-1"
      ]
     },
     "execution_count": 18,
     "metadata": {},
     "output_type": "execute_result"
    }
   ],
   "source": [
    "# 이미지 확인\n",
    "print(img.shape)\n",
    "cv2.imshow('image show', img)\n",
    "cv2.waitKey(0)"
   ]
  },
  {
   "cell_type": "code",
   "execution_count": 19,
   "metadata": {},
   "outputs": [],
   "source": [
    "# Converting the image into grayscale\n",
    "gray = cv2.cvtColor(img, cv2.COLOR_BGR2GRAY)"
   ]
  },
  {
   "cell_type": "code",
   "execution_count": 20,
   "metadata": {},
   "outputs": [],
   "source": [
    "faces = face_cascade.detectMultiScale(gray, 1.1, 4)  # 4 = 박스4개나오게 하는것"
   ]
  },
  {
   "cell_type": "code",
   "execution_count": 21,
   "metadata": {},
   "outputs": [],
   "source": [
    "# Defining and drawing the rectangles around the face\n",
    "for (x, y, w, h) in faces:\n",
    "    cv2.rectangle(img, (x, y), (x+w, y+h), (255, 0, 255), 2)\n",
    "    # 좌표에대한 데이터, (255, 0, 255) 색상, 2 선의굵기"
   ]
  },
  {
   "cell_type": "code",
   "execution_count": 22,
   "metadata": {},
   "outputs": [
    {
     "data": {
      "text/plain": [
       "-1"
      ]
     },
     "execution_count": 22,
     "metadata": {},
     "output_type": "execute_result"
    }
   ],
   "source": [
    "cv2.imshow('face', img)\n",
    "cv2.waitKey(0)"
   ]
  },
  {
   "attachments": {},
   "cell_type": "markdown",
   "metadata": {},
   "source": [
    "위의 작업까지가 얼굴 Obejct 인식\n",
    "\n",
    "### 관심 영역 만들기"
   ]
  },
  {
   "cell_type": "code",
   "execution_count": 23,
   "metadata": {},
   "outputs": [],
   "source": [
    "roi_gray = gray[y:(y+h), x:(x+w)]\n",
    "roi_color = img[y:(y+h), x:(x+w)]"
   ]
  },
  {
   "cell_type": "code",
   "execution_count": 24,
   "metadata": {},
   "outputs": [],
   "source": [
    "# eyes\n",
    "eyes = eye_cascade.detectMultiScale(\n",
    "    roi_gray, 1.1, 4)  # 바운딩박스안에있는 얼굴에만 gray_scale 줌\n",
    "index = 0"
   ]
  },
  {
   "cell_type": "code",
   "execution_count": 25,
   "metadata": {},
   "outputs": [],
   "source": [
    "# creating for loop in ordder to divide one eye from another\n",
    "for(ex, ey, ew, eh) in eyes:\n",
    "    if index == 0:\n",
    "        eye_1 = (ex, ey, ew, eh)\n",
    "    elif index == 1:\n",
    "        eye_2 = (ex, ey, ew, eh)\n",
    "    cv2.rectangle(roi_color, (ex, ey), (ex+ew, ey+eh), (0, 0, 255), 2)\n",
    "    index = index + 1\n",
    "\n",
    "if eye_1[0] < eye_2[0]:\n",
    "    left_eye = eye_1\n",
    "    right_eye = eye_2\n",
    "else:\n",
    "    left_eye = eye_2\n",
    "    right_eye = eye_1"
   ]
  },
  {
   "attachments": {},
   "cell_type": "markdown",
   "metadata": {},
   "source": [
    "### 직사각형 중심점의 좌표를 계산한 후, 두 눈을 인식했다면, 그 두 object의 중심점 사이의 선을 그림"
   ]
  },
  {
   "cell_type": "code",
   "execution_count": 26,
   "metadata": {},
   "outputs": [
    {
     "name": "stdout",
     "output_type": "stream",
     "text": [
      "(63, 104)\n"
     ]
    }
   ],
   "source": [
    "# central points of the rectangles\n",
    "left_eye_center = (int(left_eye[0] + (left_eye[2]/2)),\n",
    "                   int(left_eye[1] + (left_eye[3] / 2)))\n",
    "print(left_eye_center)"
   ]
  },
  {
   "cell_type": "code",
   "execution_count": 38,
   "metadata": {},
   "outputs": [
    {
     "name": "stdout",
     "output_type": "stream",
     "text": [
      "(138, 74)\n"
     ]
    }
   ],
   "source": [
    "right_eye_center = (\n",
    "    int(right_eye[0] + (right_eye[2]/2)), int(right_eye[1] + (right_eye[3] / 2)))\n",
    "right_eye_cetner_x = right_eye_center[0]\n",
    "right_eye_cetner_y = right_eye_center[1]\n",
    "print(right_eye_center)"
   ]
  },
  {
   "cell_type": "code",
   "execution_count": 33,
   "metadata": {},
   "outputs": [
    {
     "data": {
      "text/plain": [
       "-1"
      ]
     },
     "execution_count": 33,
     "metadata": {},
     "output_type": "execute_result"
    }
   ],
   "source": [
    "cv2.circle(roi_color, left_eye_center, 5, (255, 0, 0), -1)\n",
    "cv2.circle(roi_color, right_eye_center, 5, (255, 0, 0), -1)\n",
    "cv2.line(roi_color, right_eye_center, left_eye_center, (0, 200, 200), 1)\n",
    "cv2.imshow('face', img)\n",
    "cv2.waitKey(0)"
   ]
  },
  {
   "attachments": {},
   "cell_type": "markdown",
   "metadata": {},
   "source": [
    "### 이미지를 눈이 평평하게 될 때까지 회전시킴\n",
    "\n",
    "회전할 방향을 지정했다는 점에 유의!! \n",
    "\n",
    "왼쪽 눈 y좌표가 오른쪽 눈 y좌표 보다 크면 이미지를 시계방향으로 회전\n",
    "\n",
    "그렇지 않을 경우에는 반 시계 반향으로 회전시킴\n",
    "\n",
    "각도 계산을 위해 삼각형의 두 변의 길이부터 찾아야함"
   ]
  },
  {
   "cell_type": "code",
   "execution_count": 34,
   "metadata": {},
   "outputs": [
    {
     "data": {
      "text/plain": [
       "array([[[255,   0, 255],\n",
       "        [255,   0, 255],\n",
       "        [255,   0, 255],\n",
       "        ...,\n",
       "        [255,   0, 255],\n",
       "        [255,   0, 255],\n",
       "        [255,   0, 255]],\n",
       "\n",
       "       [[255,   0, 255],\n",
       "        [255,   0, 255],\n",
       "        [255,   0, 255],\n",
       "        ...,\n",
       "        [255,   0, 255],\n",
       "        [255,   0, 255],\n",
       "        [255,   0, 255]],\n",
       "\n",
       "       [[255,   0, 255],\n",
       "        [255,   0, 255],\n",
       "        [ 58,  60,  70],\n",
       "        ...,\n",
       "        [249, 237, 231],\n",
       "        [245, 231, 225],\n",
       "        [255,   0, 255]],\n",
       "\n",
       "       ...,\n",
       "\n",
       "       [[255,   0, 255],\n",
       "        [255,   0, 255],\n",
       "        [ 43,  51,  74],\n",
       "        ...,\n",
       "        [155, 186, 237],\n",
       "        [148, 177, 228],\n",
       "        [255,   0, 255]],\n",
       "\n",
       "       [[255,   0, 255],\n",
       "        [255,   0, 255],\n",
       "        [ 48,  55,  75],\n",
       "        ...,\n",
       "        [157, 188, 239],\n",
       "        [152, 181, 232],\n",
       "        [255,   0, 255]],\n",
       "\n",
       "       [[255,   0, 255],\n",
       "        [255,   0, 255],\n",
       "        [255,   0, 255],\n",
       "        ...,\n",
       "        [255,   0, 255],\n",
       "        [255,   0, 255],\n",
       "        [255,   0, 255]]], dtype=uint8)"
      ]
     },
     "execution_count": 34,
     "metadata": {},
     "output_type": "execute_result"
    }
   ],
   "source": [
    "if left_eye_center_y > right_eye_cetner_y:\n",
    "    A = (right_eye_cetner_x, left_eye_center_y)\n",
    "    direction = - 1  # 정수 -1 은 이미지가 시계방향으로 회전함을 나타냅니다.\n",
    "else:\n",
    "    A = (left_eye_center_x, right_eye_cetner_y)\n",
    "    direction = 1  # 정수 1은 이미지가 시계 반대 방향으로 회전함을 나타냅니다.\n",
    "cv2.circle(roi_color, A, 5, (255, 0, 0), -1)\n",
    "cv2.line(roi_color, left_eye_center, A, (0, 200, 200), 1)\n",
    "cv2.line(roi_color, right_eye_center, A, (0, 200, 200), 1)"
   ]
  },
  {
   "attachments": {},
   "cell_type": "markdown",
   "metadata": {},
   "source": [
    "### 이미지 각도 구하기"
   ]
  },
  {
   "cell_type": "code",
   "execution_count": 35,
   "metadata": {},
   "outputs": [
    {
     "name": "stdout",
     "output_type": "stream",
     "text": [
      "-21.80140948635181\n"
     ]
    }
   ],
   "source": [
    "# 각도 구하기\n",
    "# np.arctan = 함수 단위는 라디안 단위\n",
    "# 라디안 단위 -> 각도 : (theta * 180) / np.pi\n",
    "delta_x = right_eye_cetner_x - left_eye_center_x\n",
    "delta_y = right_eye_cetner_y - left_eye_center_y\n",
    "angle = np.arctan(delta_y / delta_x)\n",
    "angle = (angle * 180) / np.pi\n",
    "print(angle)\n"
   ]
  },
  {
   "attachments": {},
   "cell_type": "markdown",
   "metadata": {},
   "source": [
    "### 이미지를 각도(theta) 만큼 회전할 수 있음"
   ]
  },
  {
   "cell_type": "code",
   "execution_count": 41,
   "metadata": {},
   "outputs": [
    {
     "data": {
      "text/plain": [
       "-1"
      ]
     },
     "execution_count": 41,
     "metadata": {},
     "output_type": "execute_result"
    }
   ],
   "source": [
    "\n",
    "h, w = img.shape[:2]\n",
    "\n",
    "center = (w // 2, h // 2)\n",
    "M = cv2.getRotationMatrix2D(center, angle, 1.0)\n",
    "\n",
    "rotated = cv2.warpAffine(img, M, (w, h))\n",
    "\n",
    "# 결과 -> -21.80140948635181 도\n",
    "cv2.imshow('face11', rotated)\n",
    "cv2.waitKey(0)\n"
   ]
  }
 ],
 "metadata": {
  "kernelspec": {
   "display_name": "Python 3",
   "language": "python",
   "name": "python3"
  },
  "language_info": {
   "codemirror_mode": {
    "name": "ipython",
    "version": 3
   },
   "file_extension": ".py",
   "mimetype": "text/x-python",
   "name": "python",
   "nbconvert_exporter": "python",
   "pygments_lexer": "ipython3",
   "version": "3.10.5"
  },
  "orig_nbformat": 4,
  "vscode": {
   "interpreter": {
    "hash": "e89c93e4c07d4ac8f065cea982a638287e1c61026788fcbbad7e0263e2130583"
   }
  }
 },
 "nbformat": 4,
 "nbformat_minor": 2
}
