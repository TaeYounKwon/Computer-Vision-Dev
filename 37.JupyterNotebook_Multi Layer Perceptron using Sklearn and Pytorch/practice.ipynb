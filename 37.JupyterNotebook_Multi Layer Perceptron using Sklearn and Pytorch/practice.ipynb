{
 "cells": [
  {
   "attachments": {},
   "cell_type": "markdown",
   "metadata": {},
   "source": [
    "### 다중 퍼셉트론으로 손글씨 분류"
   ]
  },
  {
   "cell_type": "code",
   "execution_count": 4,
   "metadata": {},
   "outputs": [],
   "source": [
    "\n",
    "# 사이킷런에 있는 제공한 이미지 이용할겁니다.\n",
    "import matplotlib.pyplot as plt\n",
    "import torch\n",
    "import torch.nn as nn\n",
    "from torch import optim\n",
    "from sklearn.datasets import load_digits"
   ]
  },
  {
   "cell_type": "code",
   "execution_count": 5,
   "metadata": {},
   "outputs": [],
   "source": [
    "device = \"cuda\" if torch.cuda.is_available() else \"cpu\""
   ]
  },
  {
   "cell_type": "code",
   "execution_count": 10,
   "metadata": {},
   "outputs": [],
   "source": [
    "digits = load_digits()"
   ]
  },
  {
   "cell_type": "code",
   "execution_count": 11,
   "metadata": {},
   "outputs": [
    {
     "name": "stdout",
     "output_type": "stream",
     "text": [
      "[[ 0.  0.  5. 13.  9.  1.  0.  0.]\n",
      " [ 0.  0. 13. 15. 10. 15.  5.  0.]\n",
      " [ 0.  3. 15.  2.  0. 11.  8.  0.]\n",
      " [ 0.  4. 12.  0.  0.  8.  8.  0.]\n",
      " [ 0.  5.  8.  0.  0.  9.  8.  0.]\n",
      " [ 0.  4. 11.  0.  1. 12.  7.  0.]\n",
      " [ 0.  2. 14.  5. 10. 12.  0.  0.]\n",
      " [ 0.  0.  6. 13. 10.  0.  0.  0.]]\n"
     ]
    }
   ],
   "source": [
    "# 1st sample 출력 .images[index] --> 8x8 행렬\n",
    "print(digits.images[0])"
   ]
  },
  {
   "cell_type": "code",
   "execution_count": 12,
   "metadata": {},
   "outputs": [
    {
     "name": "stdout",
     "output_type": "stream",
     "text": [
      "0\n"
     ]
    }
   ],
   "source": [
    "# 실제 레이블도 숫자 0인지 첫 번째 샘플 레이어 확인 .target[index]\n",
    "print(digits.target[0])"
   ]
  },
  {
   "cell_type": "code",
   "execution_count": 13,
   "metadata": {},
   "outputs": [
    {
     "name": "stdout",
     "output_type": "stream",
     "text": [
      "전체 이미지 갯수 >>> 1797\n"
     ]
    }
   ],
   "source": [
    "# 전체 이미지 갯수?\n",
    "print(\"전체 이미지 갯수 >>>\", len(digits.images))"
   ]
  },
  {
   "cell_type": "code",
   "execution_count": 14,
   "metadata": {},
   "outputs": [
    {
     "data": {
      "image/png": "[encoded data removed]",
      "text/plain": [
       "<Figure size 640x480 with 4 Axes>"
      ]
     },
     "metadata": {},
     "output_type": "display_data"
    }
   ],
   "source": [
    "# 상위 4개만 샘플 이미지를 확인\n",
    "# zip() 함수 이용 (enumerate() 함수도 많이 사용함)\n",
    "\"\"\"\n",
    "image = [1,2,3,4]\n",
    "label = [사과, 바나나, 자몽, 수박]\n",
    "리스트 길이가 동일할 때 zip 이용 가능\n",
    "--> 1 사과 2 바나나 3 자몽 4 수박\n",
    "\"\"\"\n",
    "image_and_label_list = list(zip(digits.images, digits.target))\n",
    "for index, (image, label) in enumerate(image_and_label_list[:4]) :\n",
    "    plt.subplot(2, 5, index+1)\n",
    "    plt.axis('off')\n",
    "    plt.imshow(image, cmap=plt.cm.gray_r, interpolation='nearest')\n",
    "    plt.title('sample : %i' % label)\n",
    "plt.show()"
   ]
  },
  {
   "cell_type": "code",
   "execution_count": 15,
   "metadata": {},
   "outputs": [
    {
     "name": "stdout",
     "output_type": "stream",
     "text": [
      "0 번 index sample label :  0\n",
      "1 번 index sample label :  1\n",
      "2 번 index sample label :  2\n",
      "3 번 index sample label :  3\n",
      "4 번 index sample label :  4\n",
      "[[ 0.  0.  5. ...  0.  0.  0.]\n",
      " [ 0.  0.  0. ... 10.  0.  0.]\n",
      " [ 0.  0.  0. ... 16.  9.  0.]\n",
      " ...\n",
      " [ 0.  0.  1. ...  6.  0.  0.]\n",
      " [ 0.  0.  2. ... 12.  0.  0.]\n",
      " [ 0.  0. 10. ... 12.  1.  0.]] [0 1 2 ... 8 9 8]\n"
     ]
    }
   ],
   "source": [
    "# 상위 레이블 5개 확인\n",
    "for i in range(5) :\n",
    "    print(i, \"번 index sample label : \", digits.target[i])\n",
    "\n",
    "# train data and label\n",
    "x = digits.data # image data\n",
    "y = digits.target # each image label\n",
    "print(x, y)"
   ]
  },
  {
   "cell_type": "code",
   "execution_count": 16,
   "metadata": {},
   "outputs": [
    {
     "name": "stdout",
     "output_type": "stream",
     "text": [
      "Sequential(\n",
      "  (0): Linear(in_features=64, out_features=32, bias=True)\n",
      "  (1): ReLU()\n",
      "  (2): Linear(in_features=32, out_features=16, bias=True)\n",
      "  (3): ReLU()\n",
      "  (4): Linear(in_features=16, out_features=10, bias=True)\n",
      ")\n"
     ]
    }
   ],
   "source": [
    "model = nn.Sequential(\n",
    "    nn.Linear(64, 32), # input layer = 64, hidden layer 1 = 32\n",
    "    nn.ReLU(),\n",
    "    nn.Linear(32, 16), # input layer 32, hidden layer 2 = 16\n",
    "    nn.ReLU(),\n",
    "    nn.Linear(16, 10) # input layer = 16, output_layer = 10\n",
    "    # CrossEntrophyLoss() 이용 : output layer = 2 이상인 경우\n",
    ")\n",
    "print(model)"
   ]
  },
  {
   "cell_type": "code",
   "execution_count": 17,
   "metadata": {},
   "outputs": [
    {
     "name": "stdout",
     "output_type": "stream",
     "text": [
      "tensor([[ 0.,  0.,  5.,  ...,  0.,  0.,  0.],\n",
      "        [ 0.,  0.,  0.,  ..., 10.,  0.,  0.],\n",
      "        [ 0.,  0.,  0.,  ..., 16.,  9.,  0.],\n",
      "        ...,\n",
      "        [ 0.,  0.,  1.,  ...,  6.,  0.,  0.],\n",
      "        [ 0.,  0.,  2.,  ..., 12.,  0.,  0.],\n",
      "        [ 0.,  0., 10.,  ..., 12.,  1.,  0.]]) tensor([0, 1, 2,  ..., 8, 9, 8])\n"
     ]
    }
   ],
   "source": [
    "x = torch.tensor(x, dtype=torch.float32)\n",
    "y = torch.tensor(y, dtype=torch.int64)\n",
    "print(x, y)"
   ]
  },
  {
   "cell_type": "code",
   "execution_count": 18,
   "metadata": {},
   "outputs": [],
   "source": [
    "loss_fun = nn.CrossEntropyLoss() # softmax를 포함한 손실함수\n",
    "optimizer = optim.Adam(model.parameters())"
   ]
  },
  {
   "cell_type": "code",
   "execution_count": 19,
   "metadata": {},
   "outputs": [],
   "source": [
    "losses = [] # loss graph 확인\n",
    "epoch_number = 100"
   ]
  },
  {
   "cell_type": "code",
   "execution_count": 20,
   "metadata": {},
   "outputs": [
    {
     "name": "stdout",
     "output_type": "stream",
     "text": [
      "Epoch : [   0/100], loss : 2.353471\n",
      "Epoch : [  10/100], loss : 2.064597\n",
      "Epoch : [  20/100], loss : 1.758226\n",
      "Epoch : [  30/100], loss : 1.387455\n",
      "Epoch : [  40/100], loss : 1.043238\n",
      "Epoch : [  50/100], loss : 0.743216\n",
      "Epoch : [  60/100], loss : 0.522276\n",
      "Epoch : [  70/100], loss : 0.375361\n",
      "Epoch : [  80/100], loss : 0.281294\n",
      "Epoch : [  90/100], loss : 0.220195\n",
      "Epoch : [ 100/100], loss : 0.179626\n"
     ]
    },
    {
     "data": {
      "image/png": "[encoded data removed]",
      "text/plain": [
       "<Figure size 640x480 with 1 Axes>"
      ]
     },
     "metadata": {},
     "output_type": "display_data"
    }
   ],
   "source": [
    "# train loop\n",
    "for epoch in range(epoch_number + 1) :\n",
    "    output = model(x) # 예측된 값\n",
    "\n",
    "    loss = loss_fun(output, y)\n",
    "    optimizer.zero_grad()\n",
    "    loss.backward()\n",
    "    optimizer.step()\n",
    "\n",
    "    if epoch % 10 == 0 :\n",
    "        print(\"Epoch : [{:4d}/{}], loss : {:.6f}\".format(epoch, epoch_number, loss.item()))\n",
    "\n",
    "    # append\n",
    "    losses.append(loss.item())\n",
    "\n",
    "plt.title(\"loss\")\n",
    "plt.plot(losses)\n",
    "plt.show()"
   ]
  }
 ],
 "metadata": {
  "kernelspec": {
   "display_name": "Python 3",
   "language": "python",
   "name": "python3"
  },
  "language_info": {
   "codemirror_mode": {
    "name": "ipython",
    "version": 3
   },
   "file_extension": ".py",
   "mimetype": "text/x-python",
   "name": "python",
   "nbconvert_exporter": "python",
   "pygments_lexer": "ipython3",
   "version": "3.10.5"
  },
  "orig_nbformat": 4,
  "vscode": {
   "interpreter": {
    "hash": "e89c93e4c07d4ac8f065cea982a638287e1c61026788fcbbad7e0263e2130583"
   }
  }
 },
 "nbformat": 4,
 "nbformat_minor": 2
}
