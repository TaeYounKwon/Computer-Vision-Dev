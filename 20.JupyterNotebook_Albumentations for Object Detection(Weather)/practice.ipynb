{
 "cells": [
  {
   "cell_type": "code",
   "execution_count": 6,
   "metadata": {},
   "outputs": [],
   "source": [
    "import cv2\n",
    "import random\n",
    "import albumentations as A"
   ]
  },
  {
   "cell_type": "code",
   "execution_count": 7,
   "metadata": {},
   "outputs": [],
   "source": [
    "# define a function to visualize the image\n",
    "def visualize(image):\n",
    "    cv2.imshow(\"Visualization\", image)\n",
    "    cv2.waitKey(0)"
   ]
  },
  {
   "cell_type": "code",
   "execution_count": 10,
   "metadata": {},
   "outputs": [],
   "source": [
    "# load the image from the disk\n",
    "image = cv2.imread(\"./weather.png\")"
   ]
  },
  {
   "cell_type": "code",
   "execution_count": 11,
   "metadata": {},
   "outputs": [],
   "source": [
    "# visualize the original image\n",
    "visualize(image)"
   ]
  },
  {
   "attachments": {},
   "cell_type": "markdown",
   "metadata": {},
   "source": [
    "### Albumentations를 사용해 이미지안의 날씨 조정"
   ]
  },
  {
   "cell_type": "code",
   "execution_count": 14,
   "metadata": {},
   "outputs": [],
   "source": [
    "# Rain\n",
    "transform = A.Compose([\n",
    "    A.RandomRain(brightness_coefficient= 0.7, drop_width= 1, blur_value= 3, p= 1)  # 비\n",
    "])\n",
    "\n",
    "transformed = transform(image= image)\n",
    "visualize(transformed['image'])"
   ]
  },
  {
   "cell_type": "code",
   "execution_count": 15,
   "metadata": {},
   "outputs": [],
   "source": [
    "# Fog\n",
    "transform = A.Compose([\n",
    "    A.RandomFog(fog_coef_lower= 0.3, fog_coef_upper= 0.8, alpha_coef= 0.03, p= 1)  # 안개\n",
    "])\n",
    "\n",
    "transformed = transform(image= image)\n",
    "visualize(transformed['image'])"
   ]
  },
  {
   "cell_type": "code",
   "execution_count": 17,
   "metadata": {},
   "outputs": [],
   "source": [
    "# Snow\n",
    "transform = A.Compose([\n",
    "    A.RandomSnow(brightness_coeff= 2.5, snow_point_lower= 0.1, snow_point_upper= 0.3, p= 1) # 눈\n",
    "])\n",
    "\n",
    "transformed = transform(image= image)\n",
    "visualize(transformed['image'])"
   ]
  },
  {
   "cell_type": "code",
   "execution_count": 19,
   "metadata": {},
   "outputs": [],
   "source": [
    "# Sunshine\n",
    "transform = A.Compose([\n",
    "    A.RandomSunFlare(flare_roi= (0, 0, 1, 0.5), angle_lower= 0.3, p= 1)  #  눈뽕\n",
    "])\n",
    "\n",
    "transformed = transform(image= image)\n",
    "visualize(transformed['image'])"
   ]
  },
  {
   "cell_type": "code",
   "execution_count": 21,
   "metadata": {},
   "outputs": [],
   "source": [
    "# Random Shadow\n",
    "transform = A.Compose([\n",
    "    A.RandomShadow(num_shadows_lower= 2, num_shadows_upper= 2, shadow_dimension= 5,shadow_roi= (0, 0.5, 1, 1) , p= 1)  # 그림자\n",
    "])\n",
    "\n",
    "transformed = transform(image= image)\n",
    "visualize(transformed['image'])"
   ]
  },
  {
   "cell_type": "code",
   "execution_count": null,
   "metadata": {},
   "outputs": [],
   "source": []
  }
 ],
 "metadata": {
  "kernelspec": {
   "display_name": "Python 3",
   "language": "python",
   "name": "python3"
  },
  "language_info": {
   "codemirror_mode": {
    "name": "ipython",
    "version": 3
   },
   "file_extension": ".py",
   "mimetype": "text/x-python",
   "name": "python",
   "nbconvert_exporter": "python",
   "pygments_lexer": "ipython3",
   "version": "3.10.5"
  },
  "orig_nbformat": 4,
  "vscode": {
   "interpreter": {
    "hash": "e89c93e4c07d4ac8f065cea982a638287e1c61026788fcbbad7e0263e2130583"
   }
  }
 },
 "nbformat": 4,
 "nbformat_minor": 2
}
