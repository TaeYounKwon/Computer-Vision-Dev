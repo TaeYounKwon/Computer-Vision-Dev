{
 "cells": [
  {
   "attachments": {},
   "cell_type": "markdown",
   "metadata": {},
   "source": [
    "# 동시에 여러개 이미지 다운로드\n"
   ]
  },
  {
   "cell_type": "code",
   "execution_count": 2,
   "metadata": {},
   "outputs": [],
   "source": [
    "from selenium import webdriver\n",
    "from selenium.webdriver.common.keys import Keys\n",
    "from multiprocessing import Pool\n",
    "import time\n",
    "import os\n",
    "import urllib.request\n",
    "import pandas as pd\n",
    "import warnings\n",
    "warnings.filterwarnings('ignore')"
   ]
  },
  {
   "attachments": {},
   "cell_type": "markdown",
   "metadata": {},
   "source": [
    "### 폴더 생성"
   ]
  },
  {
   "cell_type": "code",
   "execution_count": 3,
   "metadata": {},
   "outputs": [],
   "source": [
    "def create_folder(directory):\n",
    "   \n",
    "    try:\n",
    "        if not os.path.exists(directory):\n",
    "            os.makedirs(directory)\n",
    "    except OSError:\n",
    "        print(\"error : Creating directory ... \" + directory)"
   ]
  },
  {
   "attachments": {},
   "cell_type": "markdown",
   "metadata": {},
   "source": [
    "### 검색 키워드 호출\n",
    "\n",
    "- csv 파일에 저장된 키워드를 추출해 검색 시작"
   ]
  },
  {
   "cell_type": "code",
   "execution_count": 4,
   "metadata": {},
   "outputs": [
    {
     "data": {
      "text/plain": [
       "['Aegean cat', 'American Bobtail cat', 'British Shorthair cat']"
      ]
     },
     "execution_count": 4,
     "metadata": {},
     "output_type": "execute_result"
    }
   ],
   "source": [
    "keywords = []\n",
    "\n",
    "key = pd.read_csv('./keyword.txt', encoding='utf-8', names=['keyword'])\n",
    "[keywords.append(key['keyword'][x]) for x in range(len(key))]\n",
    "keywords"
   ]
  },
  {
   "attachments": {},
   "cell_type": "markdown",
   "metadata": {},
   "source": [
    "### 함수를 통한 이미지 다운로드 시작\n",
    "\n",
    "- 앞과 비슷한 방법으로 실행"
   ]
  },
  {
   "cell_type": "code",
   "execution_count": 8,
   "metadata": {},
   "outputs": [],
   "source": [
    "for i in range(len(keywords)):\n",
    "    create_folder(\"./\" +\"0\"+ str(i+1) + \".\"+keywords[i])"
   ]
  },
  {
   "cell_type": "code",
   "execution_count": 10,
   "metadata": {},
   "outputs": [],
   "source": [
    "def image_download(keywords):\n",
    "# 크롬 드라이브 호출\n",
    "    options = webdriver.ChromeOptions()\n",
    "    options.add_experimental_option(\"detach\", True)\n",
    "    chromedriver = \"./chromedriver\"\n",
    "    driver = webdriver.Chrome(chromedriver, options=options)\n",
    "    driver.implicitly_wait(3)\n",
    "\n",
    "    # 검색\n",
    "    print('검색 >> ', keywords)\n",
    "    driver.get(\"https://www.google.co.kr/imghp?h1=ko\")\n",
    "    keyword = driver.find_element_by_xpath(\n",
    "        '/html/body/div[1]/div[3]/form/div[1]/div[1]/div[1]/div/div[2]/input')\n",
    "    keyword.send_keys(keywords)\n",
    "    keyword.send_keys(Keys.RETURN)\n",
    "\n",
    "    # 스크롤 내리기 -> 결과 더보기 버튼 클릭\n",
    "    print(\"Scroll Down ..... \", keywords)\n",
    "    elem = driver.find_element_by_tag_name('body')\n",
    "    for i in range(60):\n",
    "        elem.send_keys(Keys.PAGE_DOWN)\n",
    "        time.sleep(0.2)\n",
    "\n",
    "    try:\n",
    "        # //*[@id=\"islmp\"]/div/div/div/div[2]/div[1]/div[2]/div[2]/input\n",
    "        driver.find_element_by_xpath(\n",
    "            '//*[@id=\"islmp\"]/div/div/div/div[2]/div[1]/div[2]/div[2]/input').click()\n",
    "        for i in range(60):\n",
    "            elem.send_keys(Keys.PAGE_DOWN)\n",
    "            time.sleep(0.2)\n",
    "    except:\n",
    "        pass"
   ]
  },
  {
   "attachments": {},
   "cell_type": "markdown",
   "metadata": {},
   "source": [
    "### 멀티 프로세스 적용\n",
    "\n",
    "- processes=4로 설정하여 한번에 최대 4개 창을 동시에 활용할 수 있도록 적용\n"
   ]
  },
  {
   "cell_type": "code",
   "execution_count": 6,
   "metadata": {},
   "outputs": [],
   "source": [
    "if __name__ == '__main__':\n",
    "    pool = Pool(processes=3)\n",
    "    pool.map(image_download, keywords)\n"
   ]
  }
 ],
 "metadata": {
  "kernelspec": {
   "display_name": "Python 3",
   "language": "python",
   "name": "python3"
  },
  "language_info": {
   "codemirror_mode": {
    "name": "ipython",
    "version": 3
   },
   "file_extension": ".py",
   "mimetype": "text/x-python",
   "name": "python",
   "nbconvert_exporter": "python",
   "pygments_lexer": "ipython3",
   "version": "3.10.5 (tags/v3.10.5:f377153, Jun  6 2022, 16:14:13) [MSC v.1929 64 bit (AMD64)]"
  },
  "orig_nbformat": 4,
  "vscode": {
   "interpreter": {
    "hash": "e89c93e4c07d4ac8f065cea982a638287e1c61026788fcbbad7e0263e2130583"
   }
  }
 },
 "nbformat": 4,
 "nbformat_minor": 2
}
