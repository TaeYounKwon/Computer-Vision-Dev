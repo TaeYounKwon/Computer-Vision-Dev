{
 "cells": [
  {
   "cell_type": "code",
   "execution_count": 1,
   "metadata": {},
   "outputs": [],
   "source": [
    "import os\n",
    "import glob\n",
    "import cv2\n",
    "from xml.etree.ElementTree import parse"
   ]
  },
  {
   "cell_type": "code",
   "execution_count": 2,
   "metadata": {},
   "outputs": [],
   "source": [
    "# xml 파일 찾을 수 있는 함수 제작\n",
    "def find_xml_file(xml_folder_path):\n",
    "    all_root = []\n",
    "    for (path, dir, files) in os.walk(xml_folder_path):\n",
    "        for filename in files:\n",
    "            # image.xml -> .xml\n",
    "            ext = os.path.splitext(filename)[-1]\n",
    "            if ext == \".xml\":\n",
    "                root = os.path.join(path, filename)\n",
    "                # ./cavt_annotations/annotations.xml\n",
    "                all_root.append(root)\n",
    "            else:\n",
    "                print(\"no xml file..\")\n",
    "                continue\n",
    "    return all_root"
   ]
  },
  {
   "cell_type": "code",
   "execution_count": 3,
   "metadata": {},
   "outputs": [],
   "source": [
    "xml_dirs = find_xml_file(\"./annotations/annotations.xml\")\n",
    "# ['./cvat_annotations/annotations.xml']"
   ]
  },
  {
   "cell_type": "code",
   "execution_count": 4,
   "metadata": {},
   "outputs": [],
   "source": [
    "for xml_dir in xml_dirs:\n",
    "    tree = parse(xml_dir)\n",
    "    root = tree.getroot()\n",
    "    img_metas = root.findall(\"image\")\n",
    "\n",
    "    for img_meta in img_metas:\n",
    "        # xml 에 기록된 이미지 이름\n",
    "        image_name = img_meta.attrib['name']\n",
    "\n",
    "        image_path = os.path.join(\"./images\", image_name)\n",
    "        # ./images/aaa.png\n",
    "\n",
    "        # image read\n",
    "        image = cv2.imread(image_path)\n",
    "\n",
    "        # image size info\n",
    "        img_width = int(img_meta.attrib['width'])\n",
    "        img_height = int(img_meta.attrib['height'])\n",
    "\n",
    "        # box meta info\n",
    "        box_metas = img_meta.findall(\"box\")\n",
    "\n",
    "        for box_meta in box_metas:\n",
    "            box_label = box_meta.attrib['label']\n",
    "            box = [\n",
    "                int(float(box_meta.attrib['xtl'])),\n",
    "                int(float(box_meta.attrib['ytl'])),\n",
    "                int(float(box_meta.attrib['xbr'])),\n",
    "                int(float(box_meta.attrib['ybr']))\n",
    "            ]\n",
    "            print(box[0], box[1], box[2], box[3])\n",
    "\n",
    "            rect_img = cv2.rectangle(\n",
    "                image, (box[0], box[1]), (box[2], box[3]), (0, 225, 255), 2)\n",
    "\n",
    "        cv2.namedWindow(\"aaaa\")\n",
    "        cv2.moveWindow(\"aaaa\", 40, 30)\n",
    "        cv2.imshow(\"aaaa\", rect_img)\n",
    "        cv2.waitKey(0)"
   ]
  },
  {
   "cell_type": "code",
   "execution_count": null,
   "metadata": {},
   "outputs": [],
   "source": []
  }
 ],
 "metadata": {
  "kernelspec": {
   "display_name": "Python 3",
   "language": "python",
   "name": "python3"
  },
  "language_info": {
   "codemirror_mode": {
    "name": "ipython",
    "version": 3
   },
   "file_extension": ".py",
   "mimetype": "text/x-python",
   "name": "python",
   "nbconvert_exporter": "python",
   "pygments_lexer": "ipython3",
   "version": "3.10.5 (tags/v3.10.5:f377153, Jun  6 2022, 16:14:13) [MSC v.1929 64 bit (AMD64)]"
  },
  "orig_nbformat": 4,
  "vscode": {
   "interpreter": {
    "hash": "e89c93e4c07d4ac8f065cea982a638287e1c61026788fcbbad7e0263e2130583"
   }
  }
 },
 "nbformat": 4,
 "nbformat_minor": 2
}
