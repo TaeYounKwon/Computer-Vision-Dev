{
 "cells": [
  {
   "cell_type": "code",
   "execution_count": 1,
   "metadata": {},
   "outputs": [],
   "source": [
    "import os\n",
    "import json\n",
    "import cv2\n",
    "import numpy as np"
   ]
  },
  {
   "cell_type": "code",
   "execution_count": 2,
   "metadata": {},
   "outputs": [],
   "source": [
    "json_path = \"./annotations/instances_default.json\"\n",
    "\n",
    "with open(json_path, \"r\", encoding='UTF-8') as f:\n",
    "    coco_info = json.load(f)\n",
    "\n",
    "# 파일 읽기 실패\n",
    "assert len(coco_info) > 0, \"파일 읽기 실패\""
   ]
  },
  {
   "cell_type": "code",
   "execution_count": 3,
   "metadata": {},
   "outputs": [],
   "source": [
    "# 카테고리 수집\n",
    "categories = dict()\n",
    "for category in coco_info['categories']:\n",
    "    categories[category[\"id\"]] = category[\"name\"]"
   ]
  },
  {
   "cell_type": "code",
   "execution_count": 4,
   "metadata": {},
   "outputs": [],
   "source": [
    "# annotation 정보\n",
    "ann_info = dict()\n",
    "for annotation in coco_info['annotations']:\n",
    "    image_id = annotation[\"image_id\"]\n",
    "    bbox = annotation[\"bbox\"]\n",
    "    category_id = annotation[\"category_id\"]\n",
    "    segmentation = annotation[\"segmentation\"]\n",
    "\n",
    "    if image_id not in ann_info:\n",
    "        ann_info[image_id] = {\n",
    "            \"boxes\": [bbox], \n",
    "            \"categories\": [category_id],\n",
    "            \"segmentation\": [segmentation]\n",
    "        }\n",
    "    else:\n",
    "        ann_info[image_id][\"boxes\"].append(bbox)\n",
    "        ann_info[image_id][\"categories\"].append(categories[category_id])\n",
    "        ann_info[image_id][\"segmentation\"].append(segmentation)"
   ]
  },
  {
   "cell_type": "code",
   "execution_count": 6,
   "metadata": {},
   "outputs": [
    {
     "ename": "NameError",
     "evalue": "name 'poly_img' is not defined",
     "output_type": "error",
     "traceback": [
      "\u001b[1;31m---------------------------------------------------------------------------\u001b[0m",
      "\u001b[1;31mNameError\u001b[0m                                 Traceback (most recent call last)",
      "Cell \u001b[1;32mIn [6], line 23\u001b[0m\n\u001b[0;32m     20\u001b[0m         \u001b[39mprint\u001b[39m(poly)\n\u001b[0;32m     21\u001b[0m         poly_img \u001b[39m=\u001b[39m cv2\u001b[39m.\u001b[39mpolylines(img, [poly], \u001b[39mTrue\u001b[39;00m, (\u001b[39m255\u001b[39m,\u001b[39m0\u001b[39m,\u001b[39m0\u001b[39m), \u001b[39m2\u001b[39m)\n\u001b[1;32m---> 23\u001b[0m cv2\u001b[39m.\u001b[39mimshow(\u001b[39m\"\u001b[39m\u001b[39mSeg\u001b[39m\u001b[39m\"\u001b[39m, poly_img)\n\u001b[0;32m     24\u001b[0m cv2\u001b[39m.\u001b[39mwaitKey(\u001b[39m0\u001b[39m)\n",
      "\u001b[1;31mNameError\u001b[0m: name 'poly_img' is not defined"
     ]
    }
   ],
   "source": [
    "for image_info in coco_info['images']:\n",
    "    file_name = image_info['file_name']\n",
    "    width     = image_info['width']\n",
    "    height    = image_info['height']\n",
    "    img_id    = image_info['id']\n",
    "\n",
    "    file_path = os.path.join('./2022.12/12.13_d50_image/data/banana/images', file_name)\n",
    "    img = cv2.imread(file_path)\n",
    "    try : \n",
    "        annotation = ann_info[img_id]\n",
    "    except KeyError:\n",
    "        continue\n",
    "\n",
    "    ## box category\n",
    "    for bbox, category, segmentation in zip(annotation['boxes'], annotation['categories'], annotation['segmentation']):\n",
    "        x, y, w, h = bbox\n",
    "        import numpy as np\n",
    "        for seg in segmentation:\n",
    "            poly = np.array(seg, np.int32).reshape((int(len(seg)/2), 2))\n",
    "            print(poly)\n",
    "            poly_img = cv2.polylines(img, [poly], True, (255,0,0), 2)\n",
    "            \n",
    "    cv2.imshow(\"Seg\", poly_img)\n",
    "    cv2.waitKey(0)"
   ]
  }
 ],
 "metadata": {
  "kernelspec": {
   "display_name": "Python 3",
   "language": "python",
   "name": "python3"
  },
  "language_info": {
   "codemirror_mode": {
    "name": "ipython",
    "version": 3
   },
   "file_extension": ".py",
   "mimetype": "text/x-python",
   "name": "python",
   "nbconvert_exporter": "python",
   "pygments_lexer": "ipython3",
   "version": "3.10.5"
  },
  "orig_nbformat": 4,
  "vscode": {
   "interpreter": {
    "hash": "e89c93e4c07d4ac8f065cea982a638287e1c61026788fcbbad7e0263e2130583"
   }
  }
 },
 "nbformat": 4,
 "nbformat_minor": 2
}
