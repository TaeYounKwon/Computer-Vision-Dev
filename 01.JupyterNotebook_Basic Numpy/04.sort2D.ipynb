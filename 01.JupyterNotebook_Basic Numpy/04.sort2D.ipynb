{
 "cells": [
  {
   "cell_type": "code",
   "execution_count": 1,
   "metadata": {},
   "outputs": [],
   "source": [
    "import numpy as np"
   ]
  },
  {
   "cell_type": "code",
   "execution_count": 3,
   "metadata": {},
   "outputs": [
    {
     "name": "stdout",
     "output_type": "stream",
     "text": [
      "각 열을 기준으로 정렬 전 \n",
      " [[ 5  2  7  6]\n",
      " [ 2  3 10 15]]\n"
     ]
    }
   ],
   "source": [
    "array = np.array([[5, 2, 7, 6], [2, 3, 10, 15]])\n",
    "print(\"각 열을 기준으로 정렬 전 \\n\", array)"
   ]
  },
  {
   "cell_type": "code",
   "execution_count": 4,
   "metadata": {},
   "outputs": [
    {
     "name": "stdout",
     "output_type": "stream",
     "text": [
      "각 열을 기준으로 정렬 후 \n",
      " [[ 2  2  7  6]\n",
      " [ 5  3 10 15]]\n"
     ]
    }
   ],
   "source": [
    "array.sort(axis=0)\n",
    "print(\"각 열을 기준으로 정렬 후 \\n\", array)"
   ]
  },
  {
   "cell_type": "code",
   "execution_count": 5,
   "metadata": {},
   "outputs": [
    {
     "name": "stdout",
     "output_type": "stream",
     "text": [
      "각 열을 기준으로 정렬 후 \n",
      " [[ 2  2  6  7]\n",
      " [ 3  5 10 15]]\n"
     ]
    }
   ],
   "source": [
    "array.sort()\n",
    "print(\"각 열을 기준으로 정렬 후 \\n\", array)"
   ]
  }
 ],
 "metadata": {
  "kernelspec": {
   "display_name": "Python 3.10.5 64-bit",
   "language": "python",
   "name": "python3"
  },
  "language_info": {
   "codemirror_mode": {
    "name": "ipython",
    "version": 3
   },
   "file_extension": ".py",
   "mimetype": "text/x-python",
   "name": "python",
   "nbconvert_exporter": "python",
   "pygments_lexer": "ipython3",
   "version": "3.10.5"
  },
  "orig_nbformat": 4,
  "vscode": {
   "interpreter": {
    "hash": "e89c93e4c07d4ac8f065cea982a638287e1c61026788fcbbad7e0263e2130583"
   }
  }
 },
 "nbformat": 4,
 "nbformat_minor": 2
}
