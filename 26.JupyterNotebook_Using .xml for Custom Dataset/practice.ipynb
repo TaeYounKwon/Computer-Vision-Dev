{
 "cells": [
  {
   "attachments": {},
   "cell_type": "markdown",
   "metadata": {},
   "source": [
    "### 과제\n",
    "\n",
    "xml 정보로 custom dataset을 만들고,  이 스크립트가 돌아가면 됨\n",
    "\n",
    "return 정보(이미지, 박스 정보, 카테고리 id 정보)를 넘겨서 받아가지고 함수에 넣어서 돌아가게끔"
   ]
  },
  {
   "cell_type": "code",
   "execution_count": 32,
   "metadata": {},
   "outputs": [],
   "source": [
    "import random\n",
    "import cv2\n",
    "import albumentations as A\n",
    "import json\n",
    "from torch.utils.data.dataset import Dataset\n",
    "import os\n",
    "import glob\n",
    "from PIL import Image\n"
   ]
  },
  {
   "cell_type": "code",
   "execution_count": 33,
   "metadata": {},
   "outputs": [],
   "source": [
    "BOX_COLOR = (255,0,0) # red color\n",
    "TEXT_COLOR = (255,255,255) # white color"
   ]
  },
  {
   "cell_type": "code",
   "execution_count": 34,
   "metadata": {},
   "outputs": [],
   "source": [
    "class MyCustomDataset(Dataset):\n",
    "    def __init__(self, json_path, transform = None):        \n",
    "        self.json_file = json_path\n",
    "        self.trnasform = transform\n",
    "\n",
    "    def __getitem__(self, index): \n",
    "        json_path = self.json_file[index]\n",
    "        # open json file\n",
    "        with open(json_path) as f:\n",
    "            json_file = json.loads(f.read()) ## json 라이브러리 이용\n",
    "\n",
    "        category_ids, category_id_list= [], []\n",
    "        for item in json_file[\"categories\"]:\n",
    "            category_ids.append(item[\"id\"])\n",
    "            category_id_list.append(item[\"name\"])\n",
    "\n",
    "        # category dictionary\n",
    "        category_id_to_name = dict(zip(category_ids, category_id_list))      \n",
    "        image_path= os.path.join(\"./2022.12/12.16_d53_data/data\", \n",
    "                                json_file['images'][0]['file_name'])\n",
    "        image = cv2.imread(image_path)\n",
    "             \n",
    "        bboxes = []\n",
    "        annotations = sorted(json_file[\"annotations\"], key= itemgetter(\"category_id\"))\n",
    "        for i in range(len(annotations)):\n",
    "            bboxes.append(annotations[i][\"bbox\"])\n",
    "        return image, bboxes, category_ids, category_id_to_name\n",
    "\n",
    "    def __len__(self):\n",
    "        return len(self.json_file)"
   ]
  },
  {
   "cell_type": "code",
   "execution_count": 35,
   "metadata": {},
   "outputs": [],
   "source": [
    "### visualize a single bounding box on the image\n",
    "def visualize_bbox(image, bboxes, category_ids, category_id_to_name, color=BOX_COLOR, thickness=2) :\n",
    "    img = image.copy()\n",
    "    for bbox, category_id in zip(bboxes, category_ids) :\n",
    "        class_name = category_id_to_name[category_id]\n",
    "        # print('class_name >>> ', class_name)\n",
    "        \n",
    "        x_min, y_min, w, h = bbox\n",
    "        x_min, x_max, y_min, y_max = int(x_min), int(x_min + w), int(y_min), int(y_min + h)\n",
    "\n",
    "        cv2.rectangle(img, (x_min, y_min), (x_max, y_max), color=color, thickness=thickness)\n",
    "        cv2.putText(img, text=class_name, org=(x_min, y_min+30), fontFace=cv2.FONT_HERSHEY_COMPLEX, fontScale=1, color=color, thickness=thickness)\n",
    "    cv2.imshow(\"test\", img)\n",
    "    cv2.waitKey(0)\n",
    "    \n"
   ]
  },
  {
   "cell_type": "code",
   "execution_count": 40,
   "metadata": {},
   "outputs": [],
   "source": [
    "json_path = \"./instances_default.json\"\n",
    "image = cv2.imread(\"./01.jpg\")"
   ]
  },
  {
   "cell_type": "code",
   "execution_count": 37,
   "metadata": {},
   "outputs": [],
   "source": [
    "# 객체를 선언한 다음에 변수에 담아야 하고 이를 통해 호출한다. self가 들어갔으면 멤버 변수\n",
    "data = MyCustomDataset(json_path)"
   ]
  },
  {
   "cell_type": "code",
   "execution_count": 41,
   "metadata": {},
   "outputs": [
    {
     "ename": "PermissionError",
     "evalue": "[Errno 13] Permission denied: '.'",
     "output_type": "error",
     "traceback": [
      "\u001b[1;31m---------------------------------------------------------------------------\u001b[0m",
      "\u001b[1;31mPermissionError\u001b[0m                           Traceback (most recent call last)",
      "Cell \u001b[1;32mIn [41], line 1\u001b[0m\n\u001b[1;32m----> 1\u001b[0m bboxes \u001b[39m=\u001b[39m [data[\u001b[39m0\u001b[39;49m][\u001b[39m1\u001b[39m][\u001b[39m2\u001b[39m], data[\u001b[39m0\u001b[39m][\u001b[39m0\u001b[39m][\u001b[39m2\u001b[39m]]\n",
      "Cell \u001b[1;32mIn [34], line 9\u001b[0m, in \u001b[0;36mMyCustomDataset.__getitem__\u001b[1;34m(self, index)\u001b[0m\n\u001b[0;32m      7\u001b[0m json_path \u001b[39m=\u001b[39m \u001b[39mself\u001b[39m\u001b[39m.\u001b[39mjson_file[index]\n\u001b[0;32m      8\u001b[0m \u001b[39m# open json file\u001b[39;00m\n\u001b[1;32m----> 9\u001b[0m \u001b[39mwith\u001b[39;00m \u001b[39mopen\u001b[39;49m(json_path) \u001b[39mas\u001b[39;00m f:\n\u001b[0;32m     10\u001b[0m     json_file \u001b[39m=\u001b[39m json\u001b[39m.\u001b[39mloads(f\u001b[39m.\u001b[39mread()) \u001b[39m## json 라이브러리 이용\u001b[39;00m\n\u001b[0;32m     12\u001b[0m category_ids, category_id_list\u001b[39m=\u001b[39m [], []\n",
      "File \u001b[1;32m~\\AppData\\Roaming\\Python\\Python310\\site-packages\\IPython\\core\\interactiveshell.py:282\u001b[0m, in \u001b[0;36m_modified_open\u001b[1;34m(file, *args, **kwargs)\u001b[0m\n\u001b[0;32m    275\u001b[0m \u001b[39mif\u001b[39;00m file \u001b[39min\u001b[39;00m {\u001b[39m0\u001b[39m, \u001b[39m1\u001b[39m, \u001b[39m2\u001b[39m}:\n\u001b[0;32m    276\u001b[0m     \u001b[39mraise\u001b[39;00m \u001b[39mValueError\u001b[39;00m(\n\u001b[0;32m    277\u001b[0m         \u001b[39mf\u001b[39m\u001b[39m\"\u001b[39m\u001b[39mIPython won\u001b[39m\u001b[39m'\u001b[39m\u001b[39mt let you open fd=\u001b[39m\u001b[39m{\u001b[39;00mfile\u001b[39m}\u001b[39;00m\u001b[39m by default \u001b[39m\u001b[39m\"\u001b[39m\n\u001b[0;32m    278\u001b[0m         \u001b[39m\"\u001b[39m\u001b[39mas it is likely to crash IPython. If you know what you are doing, \u001b[39m\u001b[39m\"\u001b[39m\n\u001b[0;32m    279\u001b[0m         \u001b[39m\"\u001b[39m\u001b[39myou can use builtins\u001b[39m\u001b[39m'\u001b[39m\u001b[39m open.\u001b[39m\u001b[39m\"\u001b[39m\n\u001b[0;32m    280\u001b[0m     )\n\u001b[1;32m--> 282\u001b[0m \u001b[39mreturn\u001b[39;00m io_open(file, \u001b[39m*\u001b[39margs, \u001b[39m*\u001b[39m\u001b[39m*\u001b[39mkwargs)\n",
      "\u001b[1;31mPermissionError\u001b[0m: [Errno 13] Permission denied: '.'"
     ]
    }
   ],
   "source": [
    "for item in data:\n",
    "    image               = item[0]\n",
    "    bboxes              = item[1]\n",
    "    category_ids        = item[2]\n",
    "    category_id_to_name = item[3]"
   ]
  },
  {
   "cell_type": "code",
   "execution_count": null,
   "metadata": {},
   "outputs": [],
   "source": [
    "# transforms\n",
    "transfor = A.Compose([\n",
    "    # A.RandomSizedBBoxSafeCrop(width=448, height=336, erosion_rate=0.2),\n",
    "    A.VerticalFlip(p=1),\n",
    "    A.HorizontalFlip(p=1),\n",
    "], bbox_params=A.BboxParams(format='coco', label_fields=['category_ids']))"
   ]
  },
  {
   "cell_type": "code",
   "execution_count": null,
   "metadata": {},
   "outputs": [
    {
     "ename": "TypeError",
     "evalue": "image must be numpy array type",
     "output_type": "error",
     "traceback": [
      "\u001b[1;31m---------------------------------------------------------------------------\u001b[0m",
      "\u001b[1;31mTypeError\u001b[0m                                 Traceback (most recent call last)",
      "Cell \u001b[1;32mIn [31], line 1\u001b[0m\n\u001b[1;32m----> 1\u001b[0m transformed \u001b[39m=\u001b[39m transfor(image\u001b[39m=\u001b[39;49m image, bboxes\u001b[39m=\u001b[39;49m bboxes, category_ids\u001b[39m=\u001b[39;49m category_ids)\n\u001b[0;32m      3\u001b[0m visualize_bbox(transformed[\u001b[39m'\u001b[39m\u001b[39mimage\u001b[39m\u001b[39m'\u001b[39m], transformed[\u001b[39m'\u001b[39m\u001b[39mbboxes\u001b[39m\u001b[39m'\u001b[39m], transformed[\u001b[39m'\u001b[39m\u001b[39mcategory_ids\u001b[39m\u001b[39m'\u001b[39m],\n\u001b[0;32m      4\u001b[0m                category_id_to_name,\n\u001b[0;32m      5\u001b[0m                color\u001b[39m=\u001b[39m BOX_COLOR, thickness\u001b[39m=\u001b[39m\u001b[39m2\u001b[39m)\n",
      "File \u001b[1;32mc:\\Users\\tempe\\AppData\\Local\\Programs\\Python\\Python310\\lib\\site-packages\\albumentations\\core\\composition.py:190\u001b[0m, in \u001b[0;36mCompose.__call__\u001b[1;34m(self, force_apply, *args, **data)\u001b[0m\n\u001b[0;32m    188\u001b[0m     \u001b[39mraise\u001b[39;00m \u001b[39mKeyError\u001b[39;00m(\u001b[39m\"\u001b[39m\u001b[39mYou have to pass data to augmentations as named arguments, for example: aug(image=image)\u001b[39m\u001b[39m\"\u001b[39m)\n\u001b[0;32m    189\u001b[0m \u001b[39mif\u001b[39;00m \u001b[39mself\u001b[39m\u001b[39m.\u001b[39mis_check_args:\n\u001b[1;32m--> 190\u001b[0m     \u001b[39mself\u001b[39m\u001b[39m.\u001b[39m_check_args(\u001b[39m*\u001b[39m\u001b[39m*\u001b[39mdata)\n\u001b[0;32m    191\u001b[0m \u001b[39massert\u001b[39;00m \u001b[39misinstance\u001b[39m(force_apply, (\u001b[39mbool\u001b[39m, \u001b[39mint\u001b[39m)), \u001b[39m\"\u001b[39m\u001b[39mforce_apply must have bool or int type\u001b[39m\u001b[39m\"\u001b[39m\n\u001b[0;32m    192\u001b[0m need_to_run \u001b[39m=\u001b[39m force_apply \u001b[39mor\u001b[39;00m random\u001b[39m.\u001b[39mrandom() \u001b[39m<\u001b[39m \u001b[39mself\u001b[39m\u001b[39m.\u001b[39mp\n",
      "File \u001b[1;32mc:\\Users\\tempe\\AppData\\Local\\Programs\\Python\\Python310\\lib\\site-packages\\albumentations\\core\\composition.py:267\u001b[0m, in \u001b[0;36mCompose._check_args\u001b[1;34m(self, **kwargs)\u001b[0m\n\u001b[0;32m    265\u001b[0m \u001b[39mif\u001b[39;00m internal_data_name \u001b[39min\u001b[39;00m checked_single:\n\u001b[0;32m    266\u001b[0m     \u001b[39mif\u001b[39;00m \u001b[39mnot\u001b[39;00m \u001b[39misinstance\u001b[39m(data, np\u001b[39m.\u001b[39mndarray):\n\u001b[1;32m--> 267\u001b[0m         \u001b[39mraise\u001b[39;00m \u001b[39mTypeError\u001b[39;00m(\u001b[39m\"\u001b[39m\u001b[39m{}\u001b[39;00m\u001b[39m must be numpy array type\u001b[39m\u001b[39m\"\u001b[39m\u001b[39m.\u001b[39mformat(data_name))\n\u001b[0;32m    268\u001b[0m \u001b[39mif\u001b[39;00m internal_data_name \u001b[39min\u001b[39;00m checked_multi:\n\u001b[0;32m    269\u001b[0m     \u001b[39mif\u001b[39;00m data:\n",
      "\u001b[1;31mTypeError\u001b[0m: image must be numpy array type"
     ]
    }
   ],
   "source": [
    "transformed = transfor(image= image, bboxes= bboxes, category_ids= category_ids)\n",
    "\n",
    "visualize_bbox(transformed['image'], transformed['bboxes'], transformed['category_ids'],\n",
    "               category_id_to_name,\n",
    "               color= BOX_COLOR, thickness=2)"
   ]
  },
  {
   "cell_type": "code",
   "execution_count": null,
   "metadata": {},
   "outputs": [],
   "source": []
  }
 ],
 "metadata": {
  "kernelspec": {
   "display_name": "Python 3",
   "language": "python",
   "name": "python3"
  },
  "language_info": {
   "codemirror_mode": {
    "name": "ipython",
    "version": 3
   },
   "file_extension": ".py",
   "mimetype": "text/x-python",
   "name": "python",
   "nbconvert_exporter": "python",
   "pygments_lexer": "ipython3",
   "version": "3.10.5"
  },
  "orig_nbformat": 4,
  "vscode": {
   "interpreter": {
    "hash": "e89c93e4c07d4ac8f065cea982a638287e1c61026788fcbbad7e0263e2130583"
   }
  }
 },
 "nbformat": 4,
 "nbformat_minor": 2
}
