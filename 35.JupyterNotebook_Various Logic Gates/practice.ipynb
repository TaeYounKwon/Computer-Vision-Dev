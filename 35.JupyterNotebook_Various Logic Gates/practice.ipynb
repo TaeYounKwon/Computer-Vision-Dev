{
 "cells": [
  {
   "cell_type": "code",
   "execution_count": 12,
   "metadata": {},
   "outputs": [
    {
     "name": "stdout",
     "output_type": "stream",
     "text": [
      "AND gate:  0 0 0 1\n"
     ]
    }
   ],
   "source": [
    "# AND GATE\n",
    "def and_gate(x1, x2) :\n",
    "    w1 = 0.5\n",
    "    w2 = 0.5\n",
    "    b = -0.7\n",
    "\n",
    "    # 단층 퍼셉트론 공식 => w1x1 + w2x2 + ... + wnxn + b\n",
    "    result = w1*x1 + w2*x2 + b \n",
    "\n",
    "    if result <= 0 :\n",
    "        return 0\n",
    "    else :\n",
    "        return 1\n",
    "\n",
    "print(\"AND gate: \", and_gate(0, 0), and_gate(1, 0), and_gate(0, 1), and_gate(1, 1))"
   ]
  },
  {
   "cell_type": "code",
   "execution_count": 9,
   "metadata": {},
   "outputs": [
    {
     "name": "stdout",
     "output_type": "stream",
     "text": [
      "NAND gate:  1 1 1 0\n"
     ]
    }
   ],
   "source": [
    "# NAND GATE\n",
    "def nand_gate(x1, x2) :\n",
    "    w1 = -0.5\n",
    "    w2 = -0.5\n",
    "    b = 0.7\n",
    "\n",
    "    result = w1*x1 + w2*x2 + b \n",
    "\n",
    "    if result <= 0 :\n",
    "        return 0\n",
    "    else :\n",
    "        return 1\n",
    "\n",
    "print(\"NAND gate: \", nand_gate(0, 0), nand_gate(0, 1), nand_gate(1, 0), nand_gate(1, 1))"
   ]
  },
  {
   "cell_type": "code",
   "execution_count": 10,
   "metadata": {},
   "outputs": [
    {
     "name": "stdout",
     "output_type": "stream",
     "text": [
      "OR gate:  0 1 1 1\n"
     ]
    }
   ],
   "source": [
    "# OR GATE\n",
    "def or_gate(x1, x2) :\n",
    "    w1 = 0.5\n",
    "    w2 = 0.5\n",
    "    b = -0.2\n",
    "    \n",
    "    result = w1*x1 + w2*x2 + b \n",
    "\n",
    "    if result <= 0 :\n",
    "        return 0\n",
    "    else :\n",
    "        return 1\n",
    "\n",
    "print(\"OR gate: \", or_gate(0, 0), or_gate(0, 1), or_gate(1, 0), or_gate(1, 1))"
   ]
  },
  {
   "cell_type": "code",
   "execution_count": 11,
   "metadata": {},
   "outputs": [
    {
     "name": "stdout",
     "output_type": "stream",
     "text": [
      "XOR gate:  0 1 1 0\n"
     ]
    }
   ],
   "source": [
    "# XOR GATE\n",
    "def xor_gate(x1,x2) :\n",
    "    s1 = nand_gate(x1, x2)\n",
    "    s2 = or_gate(x1, x2)\n",
    "    y = and_gate(s1, s2)\n",
    "    return y\n",
    "    \n",
    "print(\"XOR gate: \", xor_gate(0, 0), xor_gate(0, 1), xor_gate(1, 0), xor_gate(1, 1))"
   ]
  }
 ],
 "metadata": {
  "kernelspec": {
   "display_name": "Python 3",
   "language": "python",
   "name": "python3"
  },
  "language_info": {
   "codemirror_mode": {
    "name": "ipython",
    "version": 3
   },
   "file_extension": ".py",
   "mimetype": "text/x-python",
   "name": "python",
   "nbconvert_exporter": "python",
   "pygments_lexer": "ipython3",
   "version": "3.10.5"
  },
  "orig_nbformat": 4,
  "vscode": {
   "interpreter": {
    "hash": "e89c93e4c07d4ac8f065cea982a638287e1c61026788fcbbad7e0263e2130583"
   }
  }
 },
 "nbformat": 4,
 "nbformat_minor": 2
}
