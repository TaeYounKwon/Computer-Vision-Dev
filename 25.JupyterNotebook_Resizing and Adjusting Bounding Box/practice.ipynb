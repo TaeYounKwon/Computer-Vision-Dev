{
 "cells": [
  {
   "cell_type": "code",
   "execution_count": 1,
   "metadata": {},
   "outputs": [],
   "source": [
    "import cv2\n",
    "import numpy as np"
   ]
  },
  {
   "cell_type": "code",
   "execution_count": 2,
   "metadata": {},
   "outputs": [],
   "source": [
    "def cvTest():\n",
    "    image = cv2.imread(\"./cat.png\")\n",
    "\n",
    "    y_ = image.shape[0]\n",
    "    x_ = image.shape[1]\n",
    "\n",
    "    target_size = 256\n",
    "    x_scale = target_size / x_  \n",
    "    y_scale = target_size / y_\n",
    "    print(\"x_scale : \", x_scale, \" ,y_sclae : \", y_scale)\n",
    "\n",
    "    img = cv2.resize(image, (target_size, target_size))\n",
    "    # cv2.imshow('test', img)\n",
    "    # cv2.waitKey(0)\n",
    "\n",
    "    bboxes = [[3.96, 183.38, 200.88, 214.43], [468.94, 92.01, 171.06, 248.45]]\n",
    "    for boxs in bboxes:\n",
    "        x_min, y_min, w, h = boxs\n",
    "\n",
    "        # xywh to xyxy\n",
    "        x_min, x_max, y_min, y_max = int(x_min), int(x_min + w), int(y_min), int(y_min + h)\n",
    "\n",
    "        x1 = int(np.round(x_min * x_scale ))\n",
    "        y1 = int(np.round(y_min * y_scale ))\n",
    "        x2 = int(np.round(x_max * x_scale ))\n",
    "        y2 = int(np.round(y_max * y_scale ))\n",
    "\n",
    "        cv2.rectangle(img, (x1, y1), (x2,y2), (255,0,0), 1)\n",
    "    \n",
    "    cv2.imshow('test', img)\n",
    "    cv2.waitKey(0)"
   ]
  },
  {
   "cell_type": "code",
   "execution_count": 3,
   "metadata": {},
   "outputs": [
    {
     "name": "stdout",
     "output_type": "stream",
     "text": [
      "x_scale :  0.4  ,y_sclae :  0.5333333333333333\n"
     ]
    }
   ],
   "source": [
    "if __name__ == '__main__':\n",
    "    cvTest()"
   ]
  }
 ],
 "metadata": {
  "kernelspec": {
   "display_name": "Python 3",
   "language": "python",
   "name": "python3"
  },
  "language_info": {
   "codemirror_mode": {
    "name": "ipython",
    "version": 3
   },
   "file_extension": ".py",
   "mimetype": "text/x-python",
   "name": "python",
   "nbconvert_exporter": "python",
   "pygments_lexer": "ipython3",
   "version": "3.10.5"
  },
  "orig_nbformat": 4,
  "vscode": {
   "interpreter": {
    "hash": "e89c93e4c07d4ac8f065cea982a638287e1c61026788fcbbad7e0263e2130583"
   }
  }
 },
 "nbformat": 4,
 "nbformat_minor": 2
}
