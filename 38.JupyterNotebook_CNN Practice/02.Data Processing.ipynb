{
 "cells": [
  {
   "cell_type": "code",
   "execution_count": 7,
   "metadata": {},
   "outputs": [],
   "source": [
    "from utils import *\n",
    "from PIL import Image,  ImageOps"
   ]
  },
  {
   "cell_type": "code",
   "execution_count": 8,
   "metadata": {},
   "outputs": [],
   "source": [
    "train_path = \"./dataset/train\"\n",
    "test_path  = \"./dataset/test\""
   ]
  },
  {
   "cell_type": "code",
   "execution_count": 9,
   "metadata": {},
   "outputs": [],
   "source": [
    "train_data = image_file(train_path)\n",
    "test_data  = image_file(test_path)"
   ]
  },
  {
   "cell_type": "code",
   "execution_count": 10,
   "metadata": {},
   "outputs": [
    {
     "name": "stdout",
     "output_type": "stream",
     "text": [
      "train 길이\t: 569\n",
      "test 길이\t: 310\n"
     ]
    }
   ],
   "source": [
    "print(\"train 길이\\t:\", len(train_data))\n",
    "print(\"test 길이\\t:\", len(test_data))"
   ]
  },
  {
   "cell_type": "code",
   "execution_count": 11,
   "metadata": {},
   "outputs": [],
   "source": [
    "# resize flag\n",
    "train_image_resize = True\n",
    "if train_image_resize == True:\n",
    "    for idx in range(10):\n",
    "        os.makedirs(f\"./data/train/{idx}/\", exist_ok= True)\n",
    "    for i in train_data:\n",
    "        f_name = i.split(\"\\\\\")[1]       # '0'\n",
    "        f_name_temp = i.split(\"\\\\\")[-1] # 'zero_00100.png'\n",
    "        file_name = f_name_temp.split('.')[0]\n",
    "\n",
    "        img = Image.open(i)\n",
    "        img = ImageOps.exif_transpose(img)\n",
    "        img_new = expand2square(img, (0,0,0)).resize((400,400))\n",
    "        for num in range(10):\n",
    "            if f_name == str(num):\n",
    "                img_new.save(f\"./data/train/{str(num)}/{file_name}.png\")    "
   ]
  },
  {
   "cell_type": "code",
   "execution_count": 12,
   "metadata": {},
   "outputs": [],
   "source": [
    "# resize flag\n",
    "test_image_resize = True\n",
    "if test_image_resize == True:\n",
    "    for idx in range(10):\n",
    "        os.makedirs(f\"./data/test/{idx}/\", exist_ok= True)\n",
    "    for i in test_data:\n",
    "        f_name = i.split(\"\\\\\")[1]       # '0'\n",
    "        f_name_temp = i.split(\"\\\\\")[-1] # 'zero_00100.png'\n",
    "        file_name = f_name_temp.split('.')[0]\n",
    "\n",
    "        img = Image.open(i)\n",
    "        img = ImageOps.exif_transpose(img)\n",
    "        img_new = expand2square(img, (0,0,0)).resize((400,400))\n",
    "        for num in range(10):\n",
    "            if f_name == str(num):\n",
    "                img_new.save(f\"./data/test/{str(num)}/{file_name}.png\")    "
   ]
  },
  {
   "cell_type": "code",
   "execution_count": null,
   "metadata": {},
   "outputs": [],
   "source": []
  }
 ],
 "metadata": {
  "kernelspec": {
   "display_name": "Python 3",
   "language": "python",
   "name": "python3"
  },
  "language_info": {
   "codemirror_mode": {
    "name": "ipython",
    "version": 3
   },
   "file_extension": ".py",
   "mimetype": "text/x-python",
   "name": "python",
   "nbconvert_exporter": "python",
   "pygments_lexer": "ipython3",
   "version": "3.10.5"
  },
  "orig_nbformat": 4,
  "vscode": {
   "interpreter": {
    "hash": "e89c93e4c07d4ac8f065cea982a638287e1c61026788fcbbad7e0263e2130583"
   }
  }
 },
 "nbformat": 4,
 "nbformat_minor": 2
}
