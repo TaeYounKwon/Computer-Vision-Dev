{
 "cells": [
  {
   "cell_type": "code",
   "execution_count": 1,
   "metadata": {},
   "outputs": [],
   "source": [
    "from PIL import Image # pip install Pillow\n",
    "import os"
   ]
  },
  {
   "cell_type": "code",
   "execution_count": 2,
   "metadata": {},
   "outputs": [],
   "source": [
    "def expand2square(pil_img, background_color):\n",
    "    width, height = pil_img.size\n",
    "    # print(width, height)\n",
    "    if width == height:\n",
    "        return pil_img\n",
    "    elif width > height:\n",
    "        result = Image.new(pil_img.mode, (width, width), background_color)\n",
    "        # image add (추가 이미지 , 붙일 위치 (가로 , 세로 ))\n",
    "        result.paste(pil_img, (0, (width - height) // 2))\n",
    "        return result\n",
    "    else:\n",
    "        result = Image.new(pil_img.mode, (height, height), background_color)\n",
    "        result.paste(pil_img, ((height - width) // 2, 0))\n",
    "        return result"
   ]
  },
  {
   "cell_type": "code",
   "execution_count": 3,
   "metadata": {},
   "outputs": [],
   "source": [
    "img = Image.open(\"./images.png\")\n",
    "img_new = expand2square(img, (0, 0, 0)).resize((224, 224))\n",
    "img_new.save(\"./test.png\", quality=100)\n",
    "# <PIL.JpegImagePlugin.JpegImageFile\n",
    "# image mode=RGB size=174x290 at 0x1046E9580>"
   ]
  },
  {
   "cell_type": "code",
   "execution_count": 4,
   "metadata": {},
   "outputs": [],
   "source": [
    "def image_file(image_folder_path):\n",
    "    all_root = []\n",
    "    for (path, dir, files) in os.walk(image_folder_path):\n",
    "        for filename in files:\n",
    "            # image.xml -> .xml\n",
    "            ext = os.path.splitext(filename)[-1]\n",
    "            # ext_list = [\".jpg\", \".png\", \".jpeg\"]\n",
    "            if ext == \".jpg\":\n",
    "                root = os.path.join(path, filename)\n",
    "                # ./cavt_annotations/annotations.xml\n",
    "                all_root.append(root)\n",
    "            else:\n",
    "                print(\"no image file..\")\n",
    "                continue\n",
    "    return all_root"
   ]
  },
  {
   "cell_type": "code",
   "execution_count": 5,
   "metadata": {},
   "outputs": [],
   "source": [
    "img_path_list = image_file(\"./images/\")\n",
    "\n",
    "for img_path in img_path_list:\n",
    "    # image_name_temp = img_path.split(\"/\")\n",
    "    image_name_temp = os.path.basename(img_path)\n",
    "    image_name = image_name_temp.replace(\".jpg\", \"\")\n",
    "    # kiwi_1\n",
    "\n",
    "    img = Image.open(img_path)\n",
    "    img_new = expand2square(img, (0, 0, 0)).resize((224, 224))\n",
    "    os.makedirs(\"./resize\", exist_ok=True)\n",
    "    img_new.save(f\"./resize/{image_name}.png\", quality=100)"
   ]
  },
  {
   "cell_type": "code",
   "execution_count": null,
   "metadata": {},
   "outputs": [],
   "source": []
  }
 ],
 "metadata": {
  "kernelspec": {
   "display_name": "Python 3",
   "language": "python",
   "name": "python3"
  },
  "language_info": {
   "codemirror_mode": {
    "name": "ipython",
    "version": 3
   },
   "file_extension": ".py",
   "mimetype": "text/x-python",
   "name": "python",
   "nbconvert_exporter": "python",
   "pygments_lexer": "ipython3",
   "version": "3.10.5"
  },
  "orig_nbformat": 4,
  "vscode": {
   "interpreter": {
    "hash": "e89c93e4c07d4ac8f065cea982a638287e1c61026788fcbbad7e0263e2130583"
   }
  }
 },
 "nbformat": 4,
 "nbformat_minor": 2
}
