{
 "cells": [
  {
   "cell_type": "markdown",
   "metadata": {},
   "source": [
    "# 배경 제거\n",
    "배경을 제거하고자 하는 전경 주위에 사각형 박스를 그리고 그랩컷(grabCut) 알고리즘을 적용하여 배경을\n",
    "제거한다.\n",
    "grabCut의 경우 잘 작동하더라도 여전히 이미지에 제거하지 못한 배경이 발생할 수 있다.\n",
    "이렇게 제거 되지 못한 부분은 다시 적용하여 제거할 수 있지만 실전에서 수 천장의 이미지를 수동으로 고\n",
    "치는 것은 불가능한 일이므로 머신러닝을 적용한다거나 할 때도 일부러 noise를 적용하는 것처럼 일부 배\n",
    "경이 남아있는 것을 수용하는 것이 좋다."
   ]
  },
  {
   "cell_type": "code",
   "execution_count": 1,
   "metadata": {},
   "outputs": [],
   "source": [
    "# 배경 제거\n",
    "import cv2\n",
    "from utils import image_show\n",
    "import numpy as np"
   ]
  },
  {
   "cell_type": "code",
   "execution_count": 2,
   "metadata": {},
   "outputs": [
    {
     "name": "stdout",
     "output_type": "stream",
     "text": [
      "(500, 500, 3)\n"
     ]
    }
   ],
   "source": [
    "# 이미지 읽기\n",
    "image_path = \"./test.jpg\"\n",
    "\n",
    "image = cv2.imread(image_path)\n",
    "print(image.shape)"
   ]
  },
  {
   "cell_type": "code",
   "execution_count": 3,
   "metadata": {},
   "outputs": [],
   "source": [
    "# 사각형 좌표 : 사각점의 x y  넓이 높이\n",
    "rectangle = (0, 0, 400, 400)"
   ]
  },
  {
   "cell_type": "code",
   "execution_count": 4,
   "metadata": {},
   "outputs": [],
   "source": [
    "# 초기 마스크 생성\n",
    "mask = np.zeros(image.shape[:2], np.uint8)"
   ]
  },
  {
   "cell_type": "code",
   "execution_count": 5,
   "metadata": {},
   "outputs": [],
   "source": [
    "# grabCut 에 사용할 임시 배열 생성\n",
    "bgdModel = np.zeros((1, 65), np.float64)\n",
    "fgdModel = np.zeros((1, 65), np.float64)"
   ]
  },
  {
   "cell_type": "code",
   "execution_count": 6,
   "metadata": {},
   "outputs": [
    {
     "data": {
      "text/plain": [
       "(array([[2, 2, 2, ..., 0, 0, 0],\n",
       "        [2, 2, 2, ..., 0, 0, 0],\n",
       "        [2, 2, 2, ..., 0, 0, 0],\n",
       "        ...,\n",
       "        [0, 0, 0, ..., 0, 0, 0],\n",
       "        [0, 0, 0, ..., 0, 0, 0],\n",
       "        [0, 0, 0, ..., 0, 0, 0]], dtype=uint8),\n",
       " array([[8.55372972e-01, 9.58700845e-03, 4.53700486e-02, 8.39332109e-02,\n",
       "         5.73675994e-03, 2.42000000e+02, 2.42000000e+02, 2.42000000e+02,\n",
       "         4.97669735e+01, 5.06035673e+01, 1.84570196e+02, 1.83115015e+02,\n",
       "         1.83325228e+02, 1.84685957e+02, 2.24924093e+02, 2.24923764e+02,\n",
       "         2.24923633e+02, 3.12019231e+01, 2.49278846e+01, 1.97993269e+02,\n",
       "         1.00000000e-02, 0.00000000e+00, 0.00000000e+00, 0.00000000e+00,\n",
       "         1.00000000e-02, 0.00000000e+00, 0.00000000e+00, 0.00000000e+00,\n",
       "         1.00000000e-02, 6.38332925e+02, 6.54363317e+02, 7.52019156e+01,\n",
       "         6.54363317e+02, 6.80205902e+02, 8.95862283e+01, 7.52019156e+01,\n",
       "         8.95862283e+01, 2.18228962e+02, 1.23991625e+03, 1.23788806e+03,\n",
       "         1.22666566e+03, 1.23788806e+03, 1.24173167e+03, 1.23343101e+03,\n",
       "         1.22666566e+03, 1.23343101e+03, 1.27430685e+03, 3.20634945e+02,\n",
       "         3.20625062e+02, 3.20621109e+02, 3.20625062e+02, 3.20615639e+02,\n",
       "         3.20611489e+02, 3.20621109e+02, 3.20611489e+02, 3.20607733e+02,\n",
       "         3.12653476e+00, 1.79148484e+00, 1.16578217e+00, 1.79148484e+00,\n",
       "         2.65729937e+00, 6.91822300e-01, 1.16578217e+00, 6.91822300e-01,\n",
       "         3.52399316e+00]]),\n",
       " array([[ 5.44292929e-03,  5.71129190e-01,  2.16392822e-01,\n",
       "          1.25711292e-01,  8.13237670e-02,  2.53561497e+02,\n",
       "          2.54435829e+02,  2.54435829e+02,  3.30208440e+01,\n",
       "          2.81282999e+01,  1.96206783e+02,  5.14723250e+01,\n",
       "          5.44460959e+01,  1.99632860e+02,  1.82930308e+02,\n",
       "          2.23783746e+02,  2.43897777e+02,  8.91549749e+01,\n",
       "          1.07438261e+02,  1.42400859e+02,  3.92466728e+00,\n",
       "          1.53870571e+00,  1.53870571e+00,  1.53870571e+00,\n",
       "          1.80133661e+00,  1.79133661e+00,  1.53870571e+00,\n",
       "          1.79133661e+00,  1.80133661e+00,  2.45156189e+01,\n",
       "          3.82349671e+01, -2.13557270e+01,  3.82349671e+01,\n",
       "          5.99268426e+01, -3.37225347e+01, -2.13557270e+01,\n",
       "         -3.37225347e+01,  2.10421709e+01,  8.69345878e+02,\n",
       "          1.16644200e+03,  3.30706061e+02,  1.16644200e+03,\n",
       "          1.59865129e+03,  4.50095248e+02,  3.30706061e+02,\n",
       "          4.50095248e+02,  2.96912555e+02,  8.02347771e+02,\n",
       "          3.75766591e+02,  1.37110611e+02,  3.75766591e+02,\n",
       "          2.16721005e+02,  8.36285075e+01,  1.37110611e+02,\n",
       "          8.36285075e+01,  5.48282863e+01,  2.82109230e+03,\n",
       "          3.31711766e+03,  2.99768305e+03,  3.31711766e+03,\n",
       "          4.25332028e+03,  3.12164161e+03,  2.99768305e+03,\n",
       "          3.12164161e+03,  4.40986150e+03]]))"
      ]
     },
     "execution_count": 6,
     "metadata": {},
     "output_type": "execute_result"
    }
   ],
   "source": [
    "# grabCut 실행\n",
    "# image -> 원본 이미지 , bgdModel -> 배경을 위한 임시 배열 fgdModel-> 전경배경 ,\n",
    "# 5- > 반복횟수 cv2.GC_INIT_WITH_RECT -> 사각형 초기화\n",
    "cv2.grabCut(image, mask, rectangle, bgdModel,\n",
    "            fgdModel, 5, cv2.GC_INIT_WITH_RECT)"
   ]
  },
  {
   "cell_type": "code",
   "execution_count": 7,
   "metadata": {},
   "outputs": [],
   "source": [
    "# 배경인 곳은 0 그 외에는 1로 설정한 마스크 생성\n",
    "mask_2 = np.where((mask == 2) | (mask == 0), 0, 1).astype('uint8')"
   ]
  },
  {
   "cell_type": "code",
   "execution_count": 8,
   "metadata": {},
   "outputs": [
    {
     "data": {
      "text/plain": [
       "True"
      ]
     },
     "execution_count": 8,
     "metadata": {},
     "output_type": "execute_result"
    }
   ],
   "source": [
    "# 이미지에 새로운 마스크 곱해서 -> 배경 제외\n",
    "image_rgb_nobg = image * mask_2[:, :, np.newaxis]\n",
    "image_show(image_rgb_nobg)\n",
    "cv2.imwrite(\"01.Remove Background.png\",image_rgb_nobg)"
   ]
  },
  {
   "cell_type": "markdown",
   "metadata": {},
   "source": [
    "# 설명 \n",
    "\n",
    "위에서 먼저 전경이 들어있는 영역 주위를 사각형으로 표시 하였는데, grabCut은 이 사각형 밖에 있는 모든 것이 배경이 라고 가정하고 이 정보를 사용하여 사각형 안에 있는 배경을 찾는다"
   ]
  }
 ],
 "metadata": {
  "kernelspec": {
   "display_name": "Python 3.10.5 64-bit",
   "language": "python",
   "name": "python3"
  },
  "language_info": {
   "codemirror_mode": {
    "name": "ipython",
    "version": 3
   },
   "file_extension": ".py",
   "mimetype": "text/x-python",
   "name": "python",
   "nbconvert_exporter": "python",
   "pygments_lexer": "ipython3",
   "version": "3.10.5"
  },
  "orig_nbformat": 4,
  "vscode": {
   "interpreter": {
    "hash": "e89c93e4c07d4ac8f065cea982a638287e1c61026788fcbbad7e0263e2130583"
   }
  }
 },
 "nbformat": 4,
 "nbformat_minor": 2
}
