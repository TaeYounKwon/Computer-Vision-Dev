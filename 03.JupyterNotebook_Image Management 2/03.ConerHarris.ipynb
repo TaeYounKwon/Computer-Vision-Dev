{
 "cells": [
  {
   "cell_type": "markdown",
   "metadata": {},
   "source": [
    "# 모서리 감지\n",
    "\n",
    "• cornerHarris - 해리스 모서리 감지의 OpenCV 구현\n",
    "\n",
    "• 해리스 모서리 감지기는 두 개의 경계선이 교차하는 지점을 감지하는 방법으로 사용됩니다.\n",
    "\n",
    "• 모서리는 정보가 많은 포인트입니다.\n",
    "\n",
    "• 해리스 모서리 감지기는 윈도(이웃, 패치)안의 픽셀이 작은 움직임에도 크게 변하는 윈도를 찾습니다.\n",
    "\n",
    "• cornerHarris 매개변수 block_size : 각 픽셀에서 모서리 감지에 사용되는 이웃 픽셀 크기\n",
    "\n",
    "• cornerHarris 매개변수 aperture : 사용하는 소벨 커널 크기"
   ]
  },
  {
   "cell_type": "code",
   "execution_count": 1,
   "metadata": {},
   "outputs": [],
   "source": [
    "import cv2\n",
    "import numpy as np\n",
    "from utils import image_show"
   ]
  },
  {
   "cell_type": "code",
   "execution_count": 10,
   "metadata": {},
   "outputs": [],
   "source": [
    "# 모서리 감지\n",
    "image_path = \"./test01.png\""
   ]
  },
  {
   "cell_type": "code",
   "execution_count": 11,
   "metadata": {},
   "outputs": [],
   "source": [
    "image_read = cv2.imread(image_path)"
   ]
  },
  {
   "cell_type": "code",
   "execution_count": 12,
   "metadata": {},
   "outputs": [],
   "source": [
    "image_gray = cv2.cvtColor(image_read, cv2.COLOR_BGR2GRAY)\n",
    "image_gray = np.float32(image_gray)"
   ]
  },
  {
   "cell_type": "code",
   "execution_count": 17,
   "metadata": {},
   "outputs": [],
   "source": [
    "# 모서리 감지 매개 변수 설정\n",
    "block_size = 2  \n",
    "aperture = 29\n",
    "free_parameter = 0.04"
   ]
  },
  {
   "cell_type": "code",
   "execution_count": 18,
   "metadata": {},
   "outputs": [
    {
     "name": "stdout",
     "output_type": "stream",
     "text": [
      "[[-0.00478922 -0.00478922 -0.00478922 ... -0.47754344 -0.47754344\n",
      "  -0.47754344]\n",
      " [-0.00478922 -0.00478922 -0.00478922 ... -0.47754344 -0.47754344\n",
      "  -0.47754344]\n",
      " [-0.00478922 -0.00478922 -0.00478922 ... -0.47754344 -0.47754344\n",
      "  -0.47754344]\n",
      " ...\n",
      " [-0.00478922 -0.00478922 -0.00478922 ... -0.47754344 -0.47754344\n",
      "  -0.47754344]\n",
      " [-0.00478922 -0.00478922 -0.00478922 ... -0.47754344 -0.47754344\n",
      "  -0.47754344]\n",
      " [-0.00478922 -0.00478922 -0.00478922 ... -0.47754344 -0.47754344\n",
      "  -0.47754344]]\n"
     ]
    }
   ],
   "source": [
    "detector_response = cv2.cornerHarris(\n",
    "    image_gray, block_size, aperture, free_parameter)\n",
    "print(detector_response)"
   ]
  },
  {
   "cell_type": "code",
   "execution_count": 15,
   "metadata": {},
   "outputs": [],
   "source": [
    "threshold = 0.02\n",
    "image_read[detector_response > threshold *\n",
    "           detector_response.max()] = [255, 255, 255]"
   ]
  },
  {
   "cell_type": "code",
   "execution_count": 16,
   "metadata": {},
   "outputs": [
    {
     "data": {
      "text/plain": [
       "True"
      ]
     },
     "execution_count": 16,
     "metadata": {},
     "output_type": "execute_result"
    }
   ],
   "source": [
    "image_gray = cv2.cvtColor(image_read, cv2.COLOR_BGR2GRAY)\n",
    "image_show(image_gray)\n",
    "cv2.imwrite(\"03.ConerHarris.png\",image_gray)"
   ]
  }
 ],
 "metadata": {
  "kernelspec": {
   "display_name": "Python 3.10.5 64-bit",
   "language": "python",
   "name": "python3"
  },
  "language_info": {
   "codemirror_mode": {
    "name": "ipython",
    "version": 3
   },
   "file_extension": ".py",
   "mimetype": "text/x-python",
   "name": "python",
   "nbconvert_exporter": "python",
   "pygments_lexer": "ipython3",
   "version": "3.10.5"
  },
  "orig_nbformat": 4,
  "vscode": {
   "interpreter": {
    "hash": "e89c93e4c07d4ac8f065cea982a638287e1c61026788fcbbad7e0263e2130583"
   }
  }
 },
 "nbformat": 4,
 "nbformat_minor": 2
}
