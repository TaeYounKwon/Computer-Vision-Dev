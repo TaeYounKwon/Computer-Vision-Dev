{
 "cells": [
  {
   "cell_type": "code",
   "execution_count": 1,
   "metadata": {},
   "outputs": [],
   "source": [
    "import cv2\n",
    "import numpy as np\n",
    "from utils import image_show"
   ]
  },
  {
   "cell_type": "code",
   "execution_count": 2,
   "metadata": {},
   "outputs": [],
   "source": [
    "image_path = \"./test01.png\"\n",
    "image_read = cv2.imread(image_path)\n",
    "image_gray = cv2.cvtColor(image_read, cv2.COLOR_BGR2GRAY)"
   ]
  },
  {
   "cell_type": "code",
   "execution_count": 3,
   "metadata": {},
   "outputs": [],
   "source": [
    "# 감지할 모서리 개수\n",
    "corners_to_detect = 4\n",
    "minimum_quality_score = 0.05\n",
    "mininum_distance = 25"
   ]
  },
  {
   "cell_type": "code",
   "execution_count": 4,
   "metadata": {},
   "outputs": [],
   "source": [
    "# 모서리 감지\n",
    "corners = cv2.goodFeaturesToTrack(\n",
    "    image_gray, corners_to_detect, minimum_quality_score, mininum_distance)"
   ]
  },
  {
   "cell_type": "code",
   "execution_count": 5,
   "metadata": {},
   "outputs": [],
   "source": [
    "for corner in corners:\n",
    "    x, y = corner[0]\n",
    "    cv2.circle(image_read, (int(x), int(y)), 10, (0, 255, 0), -1)"
   ]
  },
  {
   "cell_type": "code",
   "execution_count": 6,
   "metadata": {},
   "outputs": [
    {
     "data": {
      "text/plain": [
       "True"
      ]
     },
     "execution_count": 6,
     "metadata": {},
     "output_type": "execute_result"
    }
   ],
   "source": [
    "image_gray_temp = cv2.cvtColor(image_read, cv2.COLOR_BGR2GRAY)\n",
    "image_show(image_gray_temp)\n",
    "cv2.imwrite(\"04.Mark Coner.png\",image_gray_temp)"
   ]
  },
  {
   "cell_type": "code",
   "execution_count": 7,
   "metadata": {},
   "outputs": [],
   "source": [
    "# 피자판으로 모서리 찾아보기!\n",
    "image_path = \"./test.jpg\"\n",
    "image_read = cv2.imread(image_path)\n",
    "image_gray = cv2.cvtColor(image_read, cv2.COLOR_BGR2GRAY)\n"
   ]
  },
  {
   "cell_type": "code",
   "execution_count": 8,
   "metadata": {},
   "outputs": [
    {
     "data": {
      "text/plain": [
       "True"
      ]
     },
     "execution_count": 8,
     "metadata": {},
     "output_type": "execute_result"
    }
   ],
   "source": [
    "# 감지할 모서리 개수\n",
    "corners_to_detect = 4\n",
    "minimum_quality_score = 0.05\n",
    "mininum_distance = 25\n",
    "\n",
    "# 모서리 감지\n",
    "corners = cv2.goodFeaturesToTrack(\n",
    "    image_gray, corners_to_detect, minimum_quality_score, mininum_distance)\n",
    "\n",
    "for corner in corners:\n",
    "    x, y = corner[0]\n",
    "    cv2.circle(image_read, (int(x), int(y)), 10, (0, 255, 0), -1)\n",
    "    \n",
    "image_gray_temp = cv2.cvtColor(image_read, cv2.COLOR_BGR2GRAY)\n",
    "image_show(image_gray_temp)\n",
    "cv2.imwrite(\"04.Mark Coner_Pizza.png\",image_gray_temp)"
   ]
  },
  {
   "cell_type": "markdown",
   "metadata": {},
   "source": [
    "피자 박스의 모서리 뿐만 아니라 피자 판 안에있는 모형때문에 모서리 감지를 잘 못하는걸 볼 수 있음!"
   ]
  },
  {
   "cell_type": "markdown",
   "metadata": {},
   "source": []
  }
 ],
 "metadata": {
  "kernelspec": {
   "display_name": "Python 3.10.5 64-bit",
   "language": "python",
   "name": "python3"
  },
  "language_info": {
   "codemirror_mode": {
    "name": "ipython",
    "version": 3
   },
   "file_extension": ".py",
   "mimetype": "text/x-python",
   "name": "python",
   "nbconvert_exporter": "python",
   "pygments_lexer": "ipython3",
   "version": "3.10.5"
  },
  "orig_nbformat": 4,
  "vscode": {
   "interpreter": {
    "hash": "e89c93e4c07d4ac8f065cea982a638287e1c61026788fcbbad7e0263e2130583"
   }
  }
 },
 "nbformat": 4,
 "nbformat_minor": 2
}
