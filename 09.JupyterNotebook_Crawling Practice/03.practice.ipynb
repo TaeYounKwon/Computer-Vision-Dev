{
 "cells": [
  {
   "cell_type": "code",
   "execution_count": 1,
   "metadata": {},
   "outputs": [],
   "source": [
    "from selenium import webdriver\n",
    "from selenium.webdriver.common.keys import Keys\n",
    "from multiprocessing import Pool\n",
    "import time\n",
    "import os\n",
    "import urllib.request\n",
    "import pandas as pd"
   ]
  },
  {
   "cell_type": "code",
   "execution_count": 2,
   "metadata": {},
   "outputs": [],
   "source": [
    "def create_folder(directory):\n",
    "    # 폴더 생성\n",
    "    try:\n",
    "        if not os.path.exists(directory):\n",
    "            os.makedirs(directory)\n",
    "    except OSError:\n",
    "        print(\"error : Creating directory ... \" + directory)"
   ]
  },
  {
   "cell_type": "code",
   "execution_count": 4,
   "metadata": {},
   "outputs": [
    {
     "data": {
      "text/plain": [
       "['Aegean cat', 'American Bobtail cat', 'British Shorthair cat']"
      ]
     },
     "execution_count": 4,
     "metadata": {},
     "output_type": "execute_result"
    }
   ],
   "source": [
    "# 검색 키워드 호출\n",
    "key = pd.read_csv('./keyword.txt', encoding='utf-8', names=['keyword'])\n",
    "keyword = []\n",
    "[keyword.append(key['keyword'][x]) for x in range(len(key))]\n",
    "keyword"
   ]
  },
  {
   "cell_type": "code",
   "execution_count": 5,
   "metadata": {},
   "outputs": [],
   "source": [
    "\n",
    "def image_download(keywords):\n",
    "    create_folder(\"./\" + keywords + \"_high_resolution\")\n",
    "\n",
    "    # 크롬 드라이브 호출\n",
    "    options = webdriver.ChromeOptions()\n",
    "    options.add_experimental_option(\"detach\", True)\n",
    "    chromedriver = \"./chromedriver\"\n",
    "    driver = webdriver.Chrome(chromedriver, options=options)\n",
    "    driver.implicitly_wait(3)\n",
    "\n",
    "    # 검색\n",
    "    print('검색 >> ', keywords)\n",
    "    driver.get(\"https://www.google.co.kr/imghp?h1=ko\")\n",
    "    keyword = driver.find_element_by_xpath(\n",
    "        '/html/body/div[1]/div[3]/form/div[1]/div[1]/div[1]/div/div[2]/input')\n",
    "    keyword.send_keys(keywords)\n",
    "    keyword.send_keys(Keys.RETURN)\n",
    "\n",
    "    # 스크롤 내리기 -> 결과 더보기 버튼 클릭\n",
    "    print(\"스크롤 ..... \", keywords)\n",
    "    elem = driver.find_element_by_tag_name('body')\n",
    "    for i in range(20):\n",
    "        elem.send_keys(Keys.PAGE_DOWN)\n",
    "        time.sleep(0.2)\n",
    "\n",
    "    try:\n",
    "        # //*[@id=\"islmp\"]/div/div/div/div[2]/div[1]/div[2]/div[2]/input\n",
    "        driver.find_element_by_xpath(\n",
    "            '//*[@id=\"islmp\"]/div/div/div/div[2]/div[1]/div[2]/div[2]/input').click()\n",
    "        for i in range(20):\n",
    "            elem.send_keys(Keys.PAGE_DOWN)\n",
    "            time.sleep(0.2)\n",
    "    except:\n",
    "        pass\n",
    "\n",
    "    images = driver.find_elements_by_css_selector(\"img.rg_i.Q4LuWd\")\n",
    "    print(keywords+' 찾은 이미지 개수:', len(images))\n",
    "\n",
    "    links = []\n",
    "    for i in range(1, len(images)):\n",
    "        try:\n",
    "            print('//*[@id=\"islrg\"]/div[1]/div['+str(i)+']/a[1]/div[1]/img')\n",
    "\n",
    "            driver.find_element_by_xpath(\n",
    "                '//*[@id=\"islrg\"]/div[1]/div['+str(i)+']/a[1]/div[1]/img').click()\n",
    "            links.append(driver.find_element_by_xpath(\n",
    "                '//*[@id=\"Sva75c\"]/div[2]/div/div[2]/div[2]/div[2]/c-wiz/div[2]/div[1]/div[1]/div[2]/div/a/img').get_attribute('src'))\n",
    "            # driver.find_element_by_xpath('//*[@id=\"Sva75c\"]/div[2]/div/div[2]/div[2]/div[2]/c-wiz/div[2]/div[1]/div[1]/div[2]/div/a').click()\n",
    "            print(keywords+' 링크 수집 중..... number :'+str(i)+'/'+str(len(images)))\n",
    "        except:\n",
    "            continue\n",
    "\n",
    "    forbidden = 0\n",
    "    for k, i in enumerate(links):\n",
    "        try:\n",
    "            url = i\n",
    "            start = time.time()\n",
    "            urllib.request.urlretrieve(\n",
    "                url, \"./\"+keywords+\"_high_resolution/\"+keywords+\"_\"+str(k-forbidden)+\".jpg\")\n",
    "            print(str(k+1)+'/'+str(len(links))+' '+keywords +\n",
    "                  ' 다운로드 중....... Download time : '+str(time.time() - start)[:5]+' 초')\n",
    "        except:\n",
    "            forbidden += 1\n",
    "            continue\n",
    "    print(keywords+' ---다운로드 완료---')"
   ]
  },
  {
   "cell_type": "code",
   "execution_count": 6,
   "metadata": {},
   "outputs": [],
   "source": [
    "if __name__ == '__main__':\n",
    "    pool = Pool(processes=3)\n",
    "    pool.map(image_download, keyword)"
   ]
  }
 ],
 "metadata": {
  "kernelspec": {
   "display_name": "Python 3",
   "language": "python",
   "name": "python3"
  },
  "language_info": {
   "codemirror_mode": {
    "name": "ipython",
    "version": 3
   },
   "file_extension": ".py",
   "mimetype": "text/x-python",
   "name": "python",
   "nbconvert_exporter": "python",
   "pygments_lexer": "ipython3",
   "version": "3.10.5"
  },
  "orig_nbformat": 4,
  "vscode": {
   "interpreter": {
    "hash": "e89c93e4c07d4ac8f065cea982a638287e1c61026788fcbbad7e0263e2130583"
   }
  }
 },
 "nbformat": 4,
 "nbformat_minor": 2
}
