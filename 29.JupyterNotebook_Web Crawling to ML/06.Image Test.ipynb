{
 "cells": [
  {
   "cell_type": "code",
   "execution_count": 1,
   "metadata": {},
   "outputs": [],
   "source": [
    "import os\n",
    "import torch\n",
    "import albumentations as A\n",
    "from torchvision import models\n",
    "from torch.utils.data import DataLoader\n",
    "from albumentations.pytorch import ToTensorV2\n",
    "from glob import glob\n",
    "\n",
    "from required.dataset_temp import CustomDataset\n",
    "from required.utils import save_model"
   ]
  },
  {
   "cell_type": "code",
   "execution_count": 2,
   "metadata": {},
   "outputs": [],
   "source": [
    "def test(model, test_loader, device):\n",
    "    model.eval()\n",
    "\n",
    "    correct = 0\n",
    "    total = 0\n",
    "    with torch.no_grad():\n",
    "        for batch_index, (data, target) in enumerate(test_loader):\n",
    "            data, target = data.to(device), target.to(device)  # target은 정답(라벨)\n",
    "            output = model(data)                               # output은 모델이 예측한 값 \n",
    "            _, argmax = torch.max(output, 1)\n",
    "            \n",
    "            total += target.size(0)  # 전체 사이즈\n",
    "            correct += (target == argmax).sum().item()  # target과 output 비교\n",
    "        \n",
    "        acc = correct / total * 100\n",
    "        print(\"acc for {} image : {:.2f}%\".format(total, acc))\n",
    "\n",
    "        return acc  "
   ]
  },
  {
   "cell_type": "code",
   "execution_count": 3,
   "metadata": {},
   "outputs": [
    {
     "name": "stderr",
     "output_type": "stream",
     "text": [
      "c:\\Users\\tempe\\AppData\\Local\\Programs\\Python\\Python310\\lib\\site-packages\\torchvision\\models\\_utils.py:208: UserWarning: The parameter 'pretrained' is deprecated since 0.13 and may be removed in the future, please use 'weights' instead.\n",
      "  warnings.warn(\n",
      "c:\\Users\\tempe\\AppData\\Local\\Programs\\Python\\Python310\\lib\\site-packages\\torchvision\\models\\_utils.py:223: UserWarning: Arguments other than a weight enum or `None` for 'weights' are deprecated since 0.13 and may be removed in the future. The current behavior is equivalent to passing `weights=None`.\n",
      "  warnings.warn(msg)\n"
     ]
    }
   ],
   "source": [
    "\n",
    "def main():\n",
    "    test_transform = A.Compose([\n",
    "        A.Resize(height=256, width=256),\n",
    "        ToTensorV2()\n",
    "    ])    \n",
    "\n",
    "    device = torch.device(\"cuda\" if torch.cuda.is_available() else \"cpu\")\n",
    "    model = models.__dict__[\"resnet18\"](pretrained=False, num_classes = 5)  # resmodel18 모델, num_classes 중요 !!!\n",
    "    model = model.to(device)\n",
    "\n",
    "    model_pt_paths = glob(os.path.join(\"./model_save\", \"*\", \"final.pt\"))\n",
    "\n",
    "    best_acc = 0  # accuracy of the best model (제일 처음에는 0으로 초기화)\n",
    "    best_trans_name = \"None\"  # 제일 처음 초기화\n",
    "\n",
    "    for pt_path in model_pt_paths:\n",
    "        transform_name = pt_path.split(\"\\\\\")[1]  # transform0\n",
    "        \n",
    "        model.load_state_dict(torch.load(pt_path, map_location= device))\n",
    "        test_dataset = CustomDataset(\"./data/val\", transform= test_transform)\n",
    "        test_loader = DataLoader(test_dataset, batch_size= 1, shuffle= False)\n",
    "        \n",
    "        print(f\"===== The Result of {transform_name} =====\\n\")\n",
    "        new_acc = test(model, test_loader, device)\n",
    "\n",
    "        if new_acc > best_acc:\n",
    "            print(f\"{transform_name}이 {best_trans_name}보다 정확도가 높습니다\\n\")\n",
    "            save_model(\n",
    "                model= model,\n",
    "                save_dir= \"./model_save\",\n",
    "                file_name= f\"best.pt\"\n",
    "            )\n",
    "            best_acc = new_acc\n",
    "            best_trans_name = transform_name\n",
    "        elif new_acc == best_acc:\n",
    "            print(f\"{transform_name}이 {best_trans_name}보다 정확도가 같습니다\\n\")\n",
    "        else:\n",
    "            print(f\"{best_trans_name}의 정확도가 더 높습니다\\n\")\n",
    "        \n",
    "if __name__ == '__main__':\n",
    "    main()"
   ]
  },
  {
   "cell_type": "code",
   "execution_count": null,
   "metadata": {},
   "outputs": [],
   "source": []
  }
 ],
 "metadata": {
  "kernelspec": {
   "display_name": "Python 3",
   "language": "python",
   "name": "python3"
  },
  "language_info": {
   "codemirror_mode": {
    "name": "ipython",
    "version": 3
   },
   "file_extension": ".py",
   "mimetype": "text/x-python",
   "name": "python",
   "nbconvert_exporter": "python",
   "pygments_lexer": "ipython3",
   "version": "3.10.5"
  },
  "orig_nbformat": 4,
  "vscode": {
   "interpreter": {
    "hash": "e89c93e4c07d4ac8f065cea982a638287e1c61026788fcbbad7e0263e2130583"
   }
  }
 },
 "nbformat": 4,
 "nbformat_minor": 2
}
