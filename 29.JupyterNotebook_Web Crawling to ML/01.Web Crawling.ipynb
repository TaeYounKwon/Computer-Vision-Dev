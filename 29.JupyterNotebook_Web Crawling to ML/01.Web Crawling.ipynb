{
 "cells": [
  {
   "cell_type": "code",
   "execution_count": 7,
   "metadata": {},
   "outputs": [],
   "source": [
    "import os\n",
    "import time\n",
    "import pandas as pd\n",
    "import urllib.request\n",
    "\n",
    "from selenium import webdriver\n",
    "from selenium.webdriver.common.keys import Keys\n",
    "from multiprocessing import Pool"
   ]
  },
  {
   "cell_type": "code",
   "execution_count": 8,
   "metadata": {},
   "outputs": [
    {
     "data": {
      "text/plain": [
       "['banana', 'kiwi', 'orange', 'pineapple', 'watermelon']"
      ]
     },
     "execution_count": 8,
     "metadata": {},
     "output_type": "execute_result"
    }
   ],
   "source": [
    "# 키워드 가져오기\n",
    "keys = pd.read_csv(\"./keyword.txt\", encoding=\"utf-8\", names=['keyword'])\n",
    "\n",
    "keyword = []\n",
    "[keyword.append(keys['keyword'][x]) for x in range(len(keys))]\n",
    "keyword"
   ]
  },
  {
   "cell_type": "code",
   "execution_count": 9,
   "metadata": {},
   "outputs": [],
   "source": [
    "def create_folder(dir):\n",
    "    # 이미지저장할 폴더 구성\n",
    "    try:\n",
    "        if not os.path.exists(dir):\n",
    "            os.makedirs(dir)\n",
    "    except OSError:\n",
    "        print(\"Error creating folder\", + dir)"
   ]
  },
  {
   "cell_type": "code",
   "execution_count": 10,
   "metadata": {},
   "outputs": [],
   "source": [
    "def image_download(keyword):\n",
    "    # image download 함수\n",
    "    create_folder(\"./\" + keyword + \"/\")\n",
    "\n",
    "    # 크롬 드라이브 호출\n",
    "    options = webdriver.ChromeOptions()\n",
    "    options.add_experimental_option(\"detach\", True)\n",
    "    chromedriver = \"./chromedriver\"\n",
    "    driver = webdriver.Chrome(chromedriver, options=options)\n",
    "    driver.implicitly_wait(3)\n",
    "\n",
    "    print(\"keyword: \" + keyword)\n",
    "    driver.get('https://www.google.co.kr/imghp?hl=ko')\n",
    "    keywords = driver.find_element_by_xpath(\n",
    "        '/html/body/div[1]/div[3]/form/div[1]/div[1]/div[1]/div/div[2]/input')\n",
    "    keywords.send_keys(keyword)\n",
    "    driver.find_element_by_xpath(\n",
    "        '/html/body/div[1]/div[3]/form/div[1]/div[1]/div[1]/button').click()\n",
    "\n",
    "    print(keyword+' 스크롤 중 .............')\n",
    "    elem = driver.find_element_by_tag_name(\"body\")\n",
    "    for i in range(60):\n",
    "        elem.send_keys(Keys.PAGE_DOWN)\n",
    "        time.sleep(0.1)\n",
    "\n",
    "    try:\n",
    "        driver.find_element_by_xpath(\n",
    "            '//*[@id=\"islmp\"]/div/div/div/div[2]/div[1]/div[2]/div[2]/input').click()\n",
    "        for i in range(60):\n",
    "            elem.send_keys(Keys.PAGE_DOWN)\n",
    "            time.sleep(0.1)\n",
    "    except:\n",
    "        pass\n",
    "\n",
    "    images = driver.find_elements_by_css_selector(\"img.rg_i.Q4LuWd\")\n",
    "    print(keyword+' 찾은 이미지 개수:', len(images))\n",
    "\n",
    "    links = []\n",
    "    for i in range(1, len(images)):\n",
    "        try:\n",
    "            print('//*[@id=\"islrg\"]/div[1]/div['+str(i)+']/a[1]/div[1]/img')\n",
    "\n",
    "            driver.find_element_by_xpath(\n",
    "                '//*[@id=\"islrg\"]/div[1]/div['+str(i)+']/a[1]/div[1]/img').click()\n",
    "            links.append(driver.find_element_by_xpath(\n",
    "                '//*[@id=\"Sva75c\"]/div[2]/div/div[2]/div[2]/div[2]/c-wiz/div[2]/div[1]/div[1]/div[2]/div/a/img').get_attribute('src'))\n",
    "            # driver.find_element_by_xpath('//*[@id=\"Sva75c\"]/div[2]/div/div[2]/div[2]/div[2]/c-wiz/div[2]/div[1]/div[1]/div[2]/div/a').click()\n",
    "            print(keyword+' 링크 수집 중..... number :'+str(i)+'/'+str(len(images)))\n",
    "        except:\n",
    "            continue\n",
    "\n",
    "    forbidden = 0\n",
    "    for k, i in enumerate(links):\n",
    "        try:\n",
    "            url = i\n",
    "            start = time.time()\n",
    "            urllib.request.urlretrieve(\n",
    "                url, \"./\"+keyword+\"/\"+str(k-forbidden)+\".jpg\")\n",
    "            print(str(k+1)+'/'+str(len(links))+' '+keyword +\n",
    "                  ' 다운로드 중....... Download time : '+str(time.time() - start)[:5]+' 초')\n",
    "        except:\n",
    "            forbidden += 1\n",
    "            continue\n",
    "    print(keyword+' ---다운로드 완료---')\n",
    "\n",
    "    driver.close()\n"
   ]
  },
  {
   "cell_type": "code",
   "execution_count": 11,
   "metadata": {},
   "outputs": [],
   "source": [
    "if __name__ == '__main__':\n",
    "    pool = Pool(processes=5)  # 5개의 프로세스를 사용합니다.\n",
    "    pool.map(image_download, keyword)"
   ]
  }
 ],
 "metadata": {
  "kernelspec": {
   "display_name": "Python 3",
   "language": "python",
   "name": "python3"
  },
  "language_info": {
   "codemirror_mode": {
    "name": "ipython",
    "version": 3
   },
   "file_extension": ".py",
   "mimetype": "text/x-python",
   "name": "python",
   "nbconvert_exporter": "python",
   "pygments_lexer": "ipython3",
   "version": "3.10.5 (tags/v3.10.5:f377153, Jun  6 2022, 16:14:13) [MSC v.1929 64 bit (AMD64)]"
  },
  "orig_nbformat": 4,
  "vscode": {
   "interpreter": {
    "hash": "e89c93e4c07d4ac8f065cea982a638287e1c61026788fcbbad7e0263e2130583"
   }
  }
 },
 "nbformat": 4,
 "nbformat_minor": 2
}
