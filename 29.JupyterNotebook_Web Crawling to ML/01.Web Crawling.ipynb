{
 "cells": [
  {
   "cell_type": "code",
   "execution_count": 1,
   "metadata": {},
   "outputs": [],
   "source": [
    "import os\n",
    "import time\n",
    "import pandas as pd\n",
    "import urllib.request\n",
    "\n",
    "from selenium import webdriver\n",
    "from selenium.webdriver.common.keys import Keys\n",
    "from multiprocessing import Pool"
   ]
  },
  {
   "cell_type": "code",
   "execution_count": 4,
   "metadata": {},
   "outputs": [],
   "source": [
    "# 파일 경로\n",
    "folder_path = './sample'\n",
    "chromedriver_path = './chromedriver.exe'"
   ]
  },
  {
   "cell_type": "code",
   "execution_count": 5,
   "metadata": {},
   "outputs": [
    {
     "data": {
      "text/plain": [
       "['banana', 'kiwi', 'orange', 'pineapple', 'watermelon']"
      ]
     },
     "execution_count": 5,
     "metadata": {},
     "output_type": "execute_result"
    }
   ],
   "source": [
    "# 검색 키워드 호출\n",
    "key = pd.read_csv('./keyword - fruit.txt', encoding= 'utf-8', names =['keyword'])\n",
    "keyword = []\n",
    "[keyword.append(key['keyword'][x]) for x in range(len(key))]\n",
    "keyword"
   ]
  },
  {
   "cell_type": "code",
   "execution_count": 6,
   "metadata": {},
   "outputs": [],
   "source": [
    "def create_folder(directory):   # 폴더 생성\n",
    "    try:\n",
    "        if not os.path.exists(directory):\n",
    "            os.makedirs(directory)\n",
    "    except OSError:\n",
    "        print(\"error : Creating directory ... \" + directory)"
   ]
  },
  {
   "cell_type": "code",
   "execution_count": 5,
   "metadata": {},
   "outputs": [],
   "source": [
    "def image_download(keywords):\n",
    "    create_folder(folder_path + '/' + keywords )\n",
    "\n",
    "    # 크롬 드라이브 호출\n",
    "    options = webdriver.ChromeOptions()\n",
    "    options.add_experimental_option(\"detach\", True)\n",
    "    \n",
    "    driver = webdriver.Chrome(chromedriver_path, options= options)\n",
    "    driver.implicitly_wait(3)\n",
    "\n",
    "    # 검색\n",
    "    print('검색 >> ', keywords)\n",
    "    driver.get(\"https://www.google.co.kr/imghp?h1=en\")\n",
    "    keyword = driver.find_element_by_xpath(\n",
    "        '/html/body/div[1]/div[3]/form/div[1]/div[1]/div[1]/div/div[2]/input')\n",
    "    keyword.send_keys(keywords)\n",
    "    keyword.send_keys(Keys.RETURN)\n",
    "\n",
    "    # 스크롤 내리기 -> 결과 더보기 버튼 클릭\n",
    "    elem = driver.find_element_by_tag_name('body')\n",
    "    N = 20\n",
    "    for i in range(N):\n",
    "        elem.send_keys(Keys.PAGE_DOWN)\n",
    "        time.sleep(0.2)\n",
    "    try:\n",
    "        driver.find_element_by_xpath(\n",
    "            '//*[@id=\"islmp\"]/div/div/div/div[2]/div[1]/div[2]/div[2]/input').click()\n",
    "        for i in range(N):\n",
    "            elem.send_keys(Keys.PAGE_DOWN)\n",
    "            time.sleep(0.2)\n",
    "    except:\n",
    "        pass\n",
    "\n",
    "    images = driver.find_elements_by_css_selector(\"img.rg_i.Q4LuWd\")\n",
    "    print(keywords+' 찾은 이미지 개수:', len(images))\n",
    "\n",
    "    links = []\n",
    "    for i in range(1, len(images)):\n",
    "        try:\n",
    "            driver.find_element_by_xpath(\n",
    "                '//*[@id=\"islrg\"]/div[1]/div['+str(i)+']/a[1]/div[1]/img').click()\n",
    "            links.append(driver.find_element_by_xpath(\n",
    "                '//*[@id=\"Sva75c\"]/div[2]/div/div[2]/div[2]/div[2]/c-wiz/div[2]/div[1]/div[1]/div[2]/div/a/img').get_attribute('src'))\n",
    "            # driver.find_element_by_xpath('//*[@id=\"Sva75c\"]/div[2]/div/div[2]/div[2]/div[2]/c-wiz/div[2]/div[1]/div[1]/div[2]/div/a').click()\n",
    "            print(keywords+' 링크 수집 중..... number :'+str(i)+'/'+str(len(images)))\n",
    "        except:\n",
    "            continue\n",
    "    print(\"링크 수집 완료 !!!\")\n",
    "\n",
    "    forbidden = 0\n",
    "    for index, i in enumerate(links):\n",
    "        try:\n",
    "            url = i \n",
    "            start = time.time()  \n",
    "            urllib.request.urlretrieve(url, folder_path + '/'+ keywords +'/' + keywords + \"_\" + str(index) +\".jpg\" )\n",
    "            print(str(index+1) + '/'+str(len(links)) + \" \" + keywords+ ' 다운로드 중...... Download time : ' + str(time.time() - start)[:5]+ ' 초' )\n",
    "        except:\n",
    "            forbidden += 1\n",
    "            continue\n",
    "    print(keywords + ' ---다운로드 완료---')      "
   ]
  },
  {
   "cell_type": "code",
   "execution_count": 6,
   "metadata": {},
   "outputs": [],
   "source": [
    "if __name__ == '__main__':\n",
    "    pool = Pool(processes= 3)\n",
    "    pool.map(image_download, keyword)"
   ]
  },
  {
   "cell_type": "code",
   "execution_count": null,
   "metadata": {},
   "outputs": [],
   "source": []
  }
 ],
 "metadata": {
  "kernelspec": {
   "display_name": "Python 3",
   "language": "python",
   "name": "python3"
  },
  "language_info": {
   "codemirror_mode": {
    "name": "ipython",
    "version": 3
   },
   "file_extension": ".py",
   "mimetype": "text/x-python",
   "name": "python",
   "nbconvert_exporter": "python",
   "pygments_lexer": "ipython3",
   "version": "3.10.5 (tags/v3.10.5:f377153, Jun  6 2022, 16:14:13) [MSC v.1929 64 bit (AMD64)]"
  },
  "orig_nbformat": 4,
  "vscode": {
   "interpreter": {
    "hash": "e89c93e4c07d4ac8f065cea982a638287e1c61026788fcbbad7e0263e2130583"
   }
  }
 },
 "nbformat": 4,
 "nbformat_minor": 2
}
