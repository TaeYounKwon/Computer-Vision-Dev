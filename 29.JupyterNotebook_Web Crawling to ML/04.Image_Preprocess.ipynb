{
 "cells": [
  {
   "cell_type": "code",
   "execution_count": 1,
   "metadata": {},
   "outputs": [],
   "source": [
    "import os\n",
    "import cv2\n",
    "import argparse\n",
    "import glob\n",
    "from PIL import Image"
   ]
  },
  {
   "cell_type": "code",
   "execution_count": 2,
   "metadata": {},
   "outputs": [],
   "source": [
    "def parse_opt() :\n",
    "    parser = argparse.ArgumentParser()\n",
    "    parser.add_argument(\"--image-folder-path\", type=str, default=\"./sample\")\n",
    "    opt = parser.parse_args()\n",
    "    return opt"
   ]
  },
  {
   "cell_type": "code",
   "execution_count": 4,
   "metadata": {},
   "outputs": [],
   "source": [
    "def image_file_check(opt) :\n",
    "    image_path = opt.image_folder_path\n",
    "    print(image_path)\n",
    "    # 각 폴더별 데이터 양 체크\n",
    "    \n",
    "    # 전체 데이터\n",
    "    all_data = glob.glob(os.path.join(image_path, \"*\", \"*.jpg\"))\n",
    "    print(\"전체 데이터 갯수 : \", len(all_data))\n",
    "    \n",
    "    # 바나나\n",
    "    banana_data = glob.glob(os.path.join(image_path, \"banana\", \"*.jpg\"))\n",
    "    print(\"바나나 데이터 갯수 >> \", len(banana_data))\n",
    "    \n",
    "    # 키위\n",
    "    kiwi_data = glob.glob(os.path.join(image_path, \"kiwi\", \"*.jpg\"))\n",
    "    print(\"키위 데이터 갯수 >> \", len(kiwi_data))\n",
    "    \n",
    "    # 오렌지\n",
    "    orange_data = glob.glob(os.path.join(image_path, \"orange\", \"*.jpg\"))\n",
    "    print(\"오렌지 데이터 갯수 >> \", len(orange_data))\n",
    "    \n",
    "    # 파인애플\n",
    "    pineapple_data = glob.glob(os.path.join(image_path, \"pineapple\", \"*.jpg\"))\n",
    "    print(\"파인애플 데이터 갯수 >> \", len(pineapple_data))\n",
    "    \n",
    "    # 수박\n",
    "    watermelon_data = glob.glob(os.path.join(image_path, \"watermelon\", \"*.jpg\"))\n",
    "    print(\"수박 데이터 갯수 >> \", len(watermelon_data))\n",
    "    \n",
    "    return banana_data, orange_data, kiwi_data, pineapple_data, watermelon_data"
   ]
  },
  {
   "cell_type": "code",
   "execution_count": 42,
   "metadata": {},
   "outputs": [],
   "source": [
    "def expand2square(img, background_color) :\n",
    "    width_temp, height_temp  = img.size\n",
    "    if width_temp == height_temp :\n",
    "        return img\n",
    "    \n",
    "    elif width_temp > height_temp :\n",
    "        result = Image.new(img.mode, (width_temp, width_temp), background_color)\n",
    "        result.paste(img, (0, (width_temp - height_temp) // 2))\n",
    "        return result\n",
    "    \n",
    "    else :\n",
    "        result = Image.new(img.mode, (height_temp, height_temp), background_color)\n",
    "        result.paste(img, ((height_temp - width_temp) // 2, 0))\n",
    "        return result"
   ]
  },
  {
   "cell_type": "code",
   "execution_count": 5,
   "metadata": {},
   "outputs": [],
   "source": [
    "def image_processing(banana_data, kiwi_data, orange_data, pineapple_data, watermelon_data) :\n",
    "    orange = orange_data\n",
    "    kiwi = kiwi_data\n",
    "    banana = banana_data\n",
    "    pineapple = pineapple_data\n",
    "    watermelon = watermelon_data\n",
    "    \n",
    "    # 이미지 읽고 가로,  세로 얻기 --> expand2square()에 던지기\n",
    "    for i in banana :\n",
    "        file_name = i.split('\\\\')\n",
    "        file_name_temp = file_name\n",
    "        file_name = file_name[2]\n",
    "        file_name = file_name.replace('.jpg','.png')\n",
    "        banana_img = Image.open(i)\n",
    "        banana_img_resize = expand2square(banana_img, (0,0,0)).resize((400, 400))\n",
    "        os.makedirs(\"./sample/banana\", exist_ok=True)\n",
    "        banana_img_resize.save(f\"./data/image/banana/banana_{file_name}\")\n",
    "        \n",
    "    for i in kiwi :\n",
    "        file_name = i.split('\\\\')\n",
    "        file_name_temp = file_name\n",
    "        file_name = file_name[2]\n",
    "        file_name = file_name.replace('.jpg','.png')\n",
    "        kiwi_img = Image.open(i)\n",
    "        kiwi_img_resize = expand2square(kiwi_img, (0,0,0)).resize((400, 400))\n",
    "        os.makedirs(\"./sample/kiwi\", exist_ok=True)\n",
    "        kiwi_img_resize.save(f\"./data/image/kiwi/kiwi_{file_name}\")\n",
    "\n",
    "    for i in orange :\n",
    "        file_name = i.split('\\\\')\n",
    "        file_name_temp = file_name\n",
    "        file_name = file_name[2]\n",
    "        file_name = file_name.replace('.jpg','.png')\n",
    "        orange_img = Image.open(i)\n",
    "        orange_img_resize = expand2square(orange_img, (0,0,0)).resize((400, 400))\n",
    "        os.makedirs(\"./sample/orange\", exist_ok=True)\n",
    "        orange_img_resize.save(f\"./data/image/orange/orange_{file_name}\")\n",
    "\n",
    "    for i in pineapple :\n",
    "        file_name = i.split('\\\\')\n",
    "        file_name_temp = file_name\n",
    "        file_name = file_name[2]\n",
    "        file_name = file_name.replace('.jpg','.png')\n",
    "        pineapple_img = Image.open(i)\n",
    "        pineapple_img_resize = expand2square(pineapple_img, (0,0,0)).resize((400, 400))\n",
    "        os.makedirs(\"./sample/pineapple\", exist_ok=True)\n",
    "        pineapple_img_resize.save(f\"./data/image/pineapple/pineapple_{file_name}\")\n",
    "\n",
    "    for i in watermelon :\n",
    "        file_name = i.split('\\\\')\n",
    "        file_name_temp = file_name\n",
    "        file_name = file_name[2]\n",
    "        file_name = file_name.replace('.jpg','.png')\n",
    "        watermelon_img = Image.open(i)\n",
    "        watermelon_img_resize = expand2square(watermelon_img, (0,0,0)).resize((400, 400))\n",
    "        os.makedirs(\"./sample/watermelon\", exist_ok=True)\n",
    "        watermelon_img_resize.save(f\"./data/image/watermelon/watermelon_{file_name}\")\n",
    "\n",
    "\n",
    "   \n"
   ]
  },
  {
   "cell_type": "code",
   "execution_count": 6,
   "metadata": {},
   "outputs": [
    {
     "name": "stderr",
     "output_type": "stream",
     "text": [
      "usage: ipykernel_launcher.py [-h] [--image-folder-path IMAGE_FOLDER_PATH]\n",
      "ipykernel_launcher.py: error: unrecognized arguments: --ip=127.0.0.1 --stdin=9023 --control=9021 --hb=9020 --Session.signature_scheme=\"hmac-sha256\" --Session.key=b\"9b0df998-7510-48ba-a499-09d2f0042e7d\" --shell=9022 --transport=\"tcp\" --iopub=9024 --f=c:\\Users\\tempe\\AppData\\Roaming\\jupyter\\runtime\\kernel-v2-12504nA0jzZubOS5X.json\n"
     ]
    },
    {
     "ename": "SystemExit",
     "evalue": "2",
     "output_type": "error",
     "traceback": [
      "An exception has occurred, use %tb to see the full traceback.\n",
      "\u001b[1;31mSystemExit\u001b[0m\u001b[1;31m:\u001b[0m 2\n"
     ]
    },
    {
     "name": "stderr",
     "output_type": "stream",
     "text": [
      "C:\\Users\\tempe\\AppData\\Roaming\\Python\\Python310\\site-packages\\IPython\\core\\interactiveshell.py:3441: UserWarning: To exit: use 'exit', 'quit', or Ctrl-D.\n",
      "  warn(\"To exit: use 'exit', 'quit', or Ctrl-D.\", stacklevel=1)\n"
     ]
    }
   ],
   "source": [
    "if __name__ == '__main__':\n",
    "    opt = parse_opt()\n",
    "    banana_data, kiwi_data, orange_data, pineapple_data, watermelon_data = image_file_check(opt)\n",
    "    image_processing(banana_data, kiwi_data, orange_data, pineapple_data, watermelon_data)"
   ]
  },
  {
   "cell_type": "code",
   "execution_count": null,
   "metadata": {},
   "outputs": [],
   "source": []
  }
 ],
 "metadata": {
  "kernelspec": {
   "display_name": "Python 3",
   "language": "python",
   "name": "python3"
  },
  "language_info": {
   "codemirror_mode": {
    "name": "ipython",
    "version": 3
   },
   "file_extension": ".py",
   "mimetype": "text/x-python",
   "name": "python",
   "nbconvert_exporter": "python",
   "pygments_lexer": "ipython3",
   "version": "3.10.5"
  },
  "orig_nbformat": 4,
  "vscode": {
   "interpreter": {
    "hash": "e89c93e4c07d4ac8f065cea982a638287e1c61026788fcbbad7e0263e2130583"
   }
  }
 },
 "nbformat": 4,
 "nbformat_minor": 2
}
