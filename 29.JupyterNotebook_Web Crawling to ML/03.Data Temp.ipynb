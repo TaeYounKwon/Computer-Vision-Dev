{
 "cells": [
  {
   "attachments": {},
   "cell_type": "markdown",
   "metadata": {},
   "source": [
    "### Data Resizing and Padding\n"
   ]
  },
  {
   "cell_type": "code",
   "execution_count": 11,
   "metadata": {},
   "outputs": [],
   "source": [
    "import cv2\n",
    "import os\n",
    "import glob\n",
    "import numpy as np\n",
    "\n",
    "from torch.utils.data import Dataset\n",
    "\n",
    "os.environ['KMP_DUPLICATE_LIB_OK']='True'"
   ]
  },
  {
   "cell_type": "code",
   "execution_count": 12,
   "metadata": {},
   "outputs": [],
   "source": [
    "label_dict = {\n",
    "    'banana'    : 0, \n",
    "    'kiwi'      : 1,\n",
    "    'orange'    : 2,\n",
    "    'pineapple' : 3,\n",
    "    'watermelon': 4,\n",
    "    }"
   ]
  },
  {
   "cell_type": "code",
   "execution_count": 19,
   "metadata": {},
   "outputs": [],
   "source": [
    "class custom_dataset(Dataset) :\n",
    "    def __init__(self, image_file_path, transform=None) :\n",
    "        self.image_file_paths = glob.glob(os.path.join(image_file_path, \"*\", \"*.png\"))\n",
    "        print(self.image_file_paths)\n",
    "        self.transform = transform\n",
    "\n",
    "    def __getitem__(self, index) :\n",
    "        # image loader\n",
    "        image_path = self.image_file_paths[index] # 여기서의 index는 랜덤. 단, 모든 데이터를 1번씩은 뽑아줌\n",
    "        image = cv2.imread(image_path)\n",
    "        \n",
    "        image = cv2.cvtColor(image, cv2.COLOR_BGR2RGB)\n",
    "        \n",
    "        # label 붙이기\n",
    "        label_temp = os.path.basename(image_path)\n",
    "        label_temp = image_path.split(\"\\\\\")\n",
    "        \n",
    "        label_temp = label_temp[1]\n",
    "        label = label_dict[label_temp]\n",
    "\n",
    "        if self.transform is not None:\n",
    "            image = self.transform(image=image)[\"image\"]\n",
    "\n",
    "        return image, label\n",
    "    \n",
    "    def __len__(self) :\n",
    "        # print(len(self.image_file_paths))\n",
    "        return len(self.image_file_paths)\n",
    "        "
   ]
  },
  {
   "cell_type": "code",
   "execution_count": 20,
   "metadata": {},
   "outputs": [
    {
     "name": "stdout",
     "output_type": "stream",
     "text": [
      "['./data/train\\\\banana\\\\banana_0.png', './data/train\\\\banana\\\\banana_1.png', './data/train\\\\banana\\\\banana_10.png', './data/train\\\\banana\\\\banana_100.png', './data/train\\\\banana\\\\banana_101.png', './data/train\\\\banana\\\\banana_102.png', './data/train\\\\banana\\\\banana_103.png', './data/train\\\\banana\\\\banana_104.png', './data/train\\\\banana\\\\banana_105.png', './data/train\\\\banana\\\\banana_106.png', './data/train\\\\banana\\\\banana_107.png', './data/train\\\\banana\\\\banana_108.png', './data/train\\\\banana\\\\banana_109.png', './data/train\\\\banana\\\\banana_11.png', './data/train\\\\banana\\\\banana_110.png', './data/train\\\\banana\\\\banana_111.png', './data/train\\\\banana\\\\banana_112.png', './data/train\\\\banana\\\\banana_113.png', './data/train\\\\banana\\\\banana_114.png', './data/train\\\\banana\\\\banana_115.png', './data/train\\\\banana\\\\banana_116.png', './data/train\\\\banana\\\\banana_117.png', './data/train\\\\banana\\\\banana_118.png', './data/train\\\\banana\\\\banana_119.png', './data/train\\\\banana\\\\banana_12.png', './data/train\\\\banana\\\\banana_120.png', './data/train\\\\banana\\\\banana_121.png', './data/train\\\\banana\\\\banana_122.png', './data/train\\\\banana\\\\banana_123.png', './data/train\\\\banana\\\\banana_124.png', './data/train\\\\banana\\\\banana_125.png', './data/train\\\\banana\\\\banana_126.png', './data/train\\\\banana\\\\banana_127.png', './data/train\\\\banana\\\\banana_128.png', './data/train\\\\banana\\\\banana_13.png', './data/train\\\\banana\\\\banana_14.png', './data/train\\\\banana\\\\banana_15.png', './data/train\\\\banana\\\\banana_16.png', './data/train\\\\banana\\\\banana_17.png', './data/train\\\\banana\\\\banana_18.png', './data/train\\\\banana\\\\banana_19.png', './data/train\\\\banana\\\\banana_2.png', './data/train\\\\banana\\\\banana_20.png', './data/train\\\\banana\\\\banana_21.png', './data/train\\\\banana\\\\banana_22.png', './data/train\\\\banana\\\\banana_23.png', './data/train\\\\banana\\\\banana_24.png', './data/train\\\\banana\\\\banana_26.png', './data/train\\\\banana\\\\banana_27.png', './data/train\\\\banana\\\\banana_28.png', './data/train\\\\banana\\\\banana_29.png', './data/train\\\\banana\\\\banana_3.png', './data/train\\\\banana\\\\banana_30.png', './data/train\\\\banana\\\\banana_31.png', './data/train\\\\banana\\\\banana_32.png', './data/train\\\\banana\\\\banana_33.png', './data/train\\\\banana\\\\banana_34.png', './data/train\\\\banana\\\\banana_35.png', './data/train\\\\banana\\\\banana_36.png', './data/train\\\\banana\\\\banana_37.png', './data/train\\\\banana\\\\banana_38.png', './data/train\\\\banana\\\\banana_39.png', './data/train\\\\banana\\\\banana_4.png', './data/train\\\\banana\\\\banana_40.png', './data/train\\\\banana\\\\banana_41.png', './data/train\\\\banana\\\\banana_42.png', './data/train\\\\banana\\\\banana_43.png', './data/train\\\\banana\\\\banana_44.png', './data/train\\\\banana\\\\banana_45.png', './data/train\\\\banana\\\\banana_46.png', './data/train\\\\banana\\\\banana_47.png', './data/train\\\\banana\\\\banana_48.png', './data/train\\\\banana\\\\banana_49.png', './data/train\\\\banana\\\\banana_5.png', './data/train\\\\banana\\\\banana_50.png', './data/train\\\\banana\\\\banana_51.png', './data/train\\\\banana\\\\banana_52.png', './data/train\\\\banana\\\\banana_53.png', './data/train\\\\banana\\\\banana_54.png', './data/train\\\\banana\\\\banana_55.png', './data/train\\\\banana\\\\banana_56.png', './data/train\\\\banana\\\\banana_57.png', './data/train\\\\banana\\\\banana_58.png', './data/train\\\\banana\\\\banana_59.png', './data/train\\\\banana\\\\banana_6.png', './data/train\\\\banana\\\\banana_60.png', './data/train\\\\banana\\\\banana_61.png', './data/train\\\\banana\\\\banana_62.png', './data/train\\\\banana\\\\banana_63.png', './data/train\\\\banana\\\\banana_64.png', './data/train\\\\banana\\\\banana_65.png', './data/train\\\\banana\\\\banana_66.png', './data/train\\\\banana\\\\banana_67.png', './data/train\\\\banana\\\\banana_68.png', './data/train\\\\banana\\\\banana_69.png', './data/train\\\\banana\\\\banana_7.png', './data/train\\\\banana\\\\banana_70.png', './data/train\\\\banana\\\\banana_71.png', './data/train\\\\banana\\\\banana_72.png', './data/train\\\\banana\\\\banana_73.png', './data/train\\\\banana\\\\banana_74.png', './data/train\\\\banana\\\\banana_75.png', './data/train\\\\banana\\\\banana_76.png', './data/train\\\\banana\\\\banana_77.png', './data/train\\\\banana\\\\banana_78.png', './data/train\\\\banana\\\\banana_79.png', './data/train\\\\banana\\\\banana_8.png', './data/train\\\\banana\\\\banana_80.png', './data/train\\\\banana\\\\banana_81.png', './data/train\\\\banana\\\\banana_82.png', './data/train\\\\banana\\\\banana_83.png', './data/train\\\\banana\\\\banana_84.png', './data/train\\\\banana\\\\banana_85.png', './data/train\\\\banana\\\\banana_86.png', './data/train\\\\banana\\\\banana_87.png', './data/train\\\\banana\\\\banana_88.png', './data/train\\\\banana\\\\banana_89.png', './data/train\\\\banana\\\\banana_9.png', './data/train\\\\banana\\\\banana_90.png', './data/train\\\\banana\\\\banana_91.png', './data/train\\\\banana\\\\banana_92.png', './data/train\\\\banana\\\\banana_93.png', './data/train\\\\banana\\\\banana_94.png', './data/train\\\\banana\\\\banana_95.png', './data/train\\\\banana\\\\banana_96.png', './data/train\\\\banana\\\\banana_97.png', './data/train\\\\banana\\\\banana_98.png', './data/train\\\\banana\\\\banana_99.png', './data/train\\\\kiwi\\\\kiwi_0.png', './data/train\\\\kiwi\\\\kiwi_1.png', './data/train\\\\kiwi\\\\kiwi_10.png', './data/train\\\\kiwi\\\\kiwi_11.png', './data/train\\\\kiwi\\\\kiwi_12.png', './data/train\\\\kiwi\\\\kiwi_13.png', './data/train\\\\kiwi\\\\kiwi_14.png', './data/train\\\\kiwi\\\\kiwi_15.png', './data/train\\\\kiwi\\\\kiwi_16.png', './data/train\\\\kiwi\\\\kiwi_17.png', './data/train\\\\kiwi\\\\kiwi_18.png', './data/train\\\\kiwi\\\\kiwi_19.png', './data/train\\\\kiwi\\\\kiwi_2.png', './data/train\\\\kiwi\\\\kiwi_20.png', './data/train\\\\kiwi\\\\kiwi_21.png', './data/train\\\\kiwi\\\\kiwi_22.png', './data/train\\\\kiwi\\\\kiwi_23.png', './data/train\\\\kiwi\\\\kiwi_24.png', './data/train\\\\kiwi\\\\kiwi_25.png', './data/train\\\\kiwi\\\\kiwi_26.png', './data/train\\\\kiwi\\\\kiwi_27.png', './data/train\\\\kiwi\\\\kiwi_28.png', './data/train\\\\kiwi\\\\kiwi_29.png', './data/train\\\\kiwi\\\\kiwi_3.png', './data/train\\\\kiwi\\\\kiwi_30.png', './data/train\\\\kiwi\\\\kiwi_31.png', './data/train\\\\kiwi\\\\kiwi_32.png', './data/train\\\\kiwi\\\\kiwi_33.png', './data/train\\\\kiwi\\\\kiwi_34.png', './data/train\\\\kiwi\\\\kiwi_35.png', './data/train\\\\kiwi\\\\kiwi_37.png', './data/train\\\\kiwi\\\\kiwi_38.png', './data/train\\\\kiwi\\\\kiwi_39.png', './data/train\\\\kiwi\\\\kiwi_4.png', './data/train\\\\kiwi\\\\kiwi_40.png', './data/train\\\\kiwi\\\\kiwi_41.png', './data/train\\\\kiwi\\\\kiwi_42.png', './data/train\\\\kiwi\\\\kiwi_43.png', './data/train\\\\kiwi\\\\kiwi_44.png', './data/train\\\\kiwi\\\\kiwi_45.png', './data/train\\\\kiwi\\\\kiwi_46.png', './data/train\\\\kiwi\\\\kiwi_47.png', './data/train\\\\kiwi\\\\kiwi_48.png', './data/train\\\\kiwi\\\\kiwi_49.png', './data/train\\\\kiwi\\\\kiwi_5.png', './data/train\\\\kiwi\\\\kiwi_50.png', './data/train\\\\kiwi\\\\kiwi_51.png', './data/train\\\\kiwi\\\\kiwi_52.png', './data/train\\\\kiwi\\\\kiwi_53.png', './data/train\\\\kiwi\\\\kiwi_54.png', './data/train\\\\kiwi\\\\kiwi_55.png', './data/train\\\\kiwi\\\\kiwi_56.png', './data/train\\\\kiwi\\\\kiwi_57.png', './data/train\\\\kiwi\\\\kiwi_6.png', './data/train\\\\kiwi\\\\kiwi_7.png', './data/train\\\\kiwi\\\\kiwi_8.png', './data/train\\\\kiwi\\\\kiwi_9.png', './data/train\\\\orange\\\\orange_0.png', './data/train\\\\orange\\\\orange_1.png', './data/train\\\\orange\\\\orange_10.png', './data/train\\\\orange\\\\orange_11.png', './data/train\\\\orange\\\\orange_12.png', './data/train\\\\orange\\\\orange_13.png', './data/train\\\\orange\\\\orange_14.png', './data/train\\\\orange\\\\orange_15.png', './data/train\\\\orange\\\\orange_16.png', './data/train\\\\orange\\\\orange_17.png', './data/train\\\\orange\\\\orange_18.png', './data/train\\\\orange\\\\orange_19.png', './data/train\\\\orange\\\\orange_2.png', './data/train\\\\orange\\\\orange_20.png', './data/train\\\\orange\\\\orange_21.png', './data/train\\\\orange\\\\orange_22.png', './data/train\\\\orange\\\\orange_23.png', './data/train\\\\orange\\\\orange_24.png', './data/train\\\\orange\\\\orange_26.png', './data/train\\\\orange\\\\orange_27.png', './data/train\\\\orange\\\\orange_28.png', './data/train\\\\orange\\\\orange_29.png', './data/train\\\\orange\\\\orange_3.png', './data/train\\\\orange\\\\orange_30.png', './data/train\\\\orange\\\\orange_31.png', './data/train\\\\orange\\\\orange_32.png', './data/train\\\\orange\\\\orange_33.png', './data/train\\\\orange\\\\orange_34.png', './data/train\\\\orange\\\\orange_35.png', './data/train\\\\orange\\\\orange_36.png', './data/train\\\\orange\\\\orange_37.png', './data/train\\\\orange\\\\orange_38.png', './data/train\\\\orange\\\\orange_39.png', './data/train\\\\orange\\\\orange_4.png', './data/train\\\\orange\\\\orange_40.png', './data/train\\\\orange\\\\orange_41.png', './data/train\\\\orange\\\\orange_42.png', './data/train\\\\orange\\\\orange_43.png', './data/train\\\\orange\\\\orange_44.png', './data/train\\\\orange\\\\orange_45.png', './data/train\\\\orange\\\\orange_46.png', './data/train\\\\orange\\\\orange_47.png', './data/train\\\\orange\\\\orange_48.png', './data/train\\\\orange\\\\orange_49.png', './data/train\\\\orange\\\\orange_5.png', './data/train\\\\orange\\\\orange_50.png', './data/train\\\\orange\\\\orange_51.png', './data/train\\\\orange\\\\orange_52.png', './data/train\\\\orange\\\\orange_53.png', './data/train\\\\orange\\\\orange_54.png', './data/train\\\\orange\\\\orange_55.png', './data/train\\\\orange\\\\orange_56.png', './data/train\\\\orange\\\\orange_57.png', './data/train\\\\orange\\\\orange_58.png', './data/train\\\\orange\\\\orange_59.png', './data/train\\\\orange\\\\orange_6.png', './data/train\\\\orange\\\\orange_60.png', './data/train\\\\orange\\\\orange_61.png', './data/train\\\\orange\\\\orange_62.png', './data/train\\\\orange\\\\orange_63.png', './data/train\\\\orange\\\\orange_64.png', './data/train\\\\orange\\\\orange_65.png', './data/train\\\\orange\\\\orange_66.png', './data/train\\\\orange\\\\orange_67.png', './data/train\\\\orange\\\\orange_68.png', './data/train\\\\orange\\\\orange_69.png', './data/train\\\\orange\\\\orange_7.png', './data/train\\\\orange\\\\orange_70.png', './data/train\\\\orange\\\\orange_71.png', './data/train\\\\orange\\\\orange_72.png', './data/train\\\\orange\\\\orange_73.png', './data/train\\\\orange\\\\orange_74.png', './data/train\\\\orange\\\\orange_75.png', './data/train\\\\orange\\\\orange_76.png', './data/train\\\\orange\\\\orange_77.png', './data/train\\\\orange\\\\orange_78.png', './data/train\\\\orange\\\\orange_79.png', './data/train\\\\orange\\\\orange_8.png', './data/train\\\\orange\\\\orange_80.png', './data/train\\\\orange\\\\orange_9.png', './data/train\\\\pineapple\\\\pineapple_0.png', './data/train\\\\pineapple\\\\pineapple_1.png', './data/train\\\\pineapple\\\\pineapple_10.png', './data/train\\\\pineapple\\\\pineapple_100.png', './data/train\\\\pineapple\\\\pineapple_101.png', './data/train\\\\pineapple\\\\pineapple_102.png', './data/train\\\\pineapple\\\\pineapple_103.png', './data/train\\\\pineapple\\\\pineapple_104.png', './data/train\\\\pineapple\\\\pineapple_105.png', './data/train\\\\pineapple\\\\pineapple_107.png', './data/train\\\\pineapple\\\\pineapple_108.png', './data/train\\\\pineapple\\\\pineapple_109.png', './data/train\\\\pineapple\\\\pineapple_11.png', './data/train\\\\pineapple\\\\pineapple_110.png', './data/train\\\\pineapple\\\\pineapple_12.png', './data/train\\\\pineapple\\\\pineapple_13.png', './data/train\\\\pineapple\\\\pineapple_14.png', './data/train\\\\pineapple\\\\pineapple_15.png', './data/train\\\\pineapple\\\\pineapple_16.png', './data/train\\\\pineapple\\\\pineapple_17.png', './data/train\\\\pineapple\\\\pineapple_18.png', './data/train\\\\pineapple\\\\pineapple_19.png', './data/train\\\\pineapple\\\\pineapple_2.png', './data/train\\\\pineapple\\\\pineapple_20.png', './data/train\\\\pineapple\\\\pineapple_21.png', './data/train\\\\pineapple\\\\pineapple_22.png', './data/train\\\\pineapple\\\\pineapple_23.png', './data/train\\\\pineapple\\\\pineapple_24.png', './data/train\\\\pineapple\\\\pineapple_25.png', './data/train\\\\pineapple\\\\pineapple_27.png', './data/train\\\\pineapple\\\\pineapple_28.png', './data/train\\\\pineapple\\\\pineapple_29.png', './data/train\\\\pineapple\\\\pineapple_3.png', './data/train\\\\pineapple\\\\pineapple_30.png', './data/train\\\\pineapple\\\\pineapple_31.png', './data/train\\\\pineapple\\\\pineapple_32.png', './data/train\\\\pineapple\\\\pineapple_33.png', './data/train\\\\pineapple\\\\pineapple_34.png', './data/train\\\\pineapple\\\\pineapple_35.png', './data/train\\\\pineapple\\\\pineapple_36.png', './data/train\\\\pineapple\\\\pineapple_37.png', './data/train\\\\pineapple\\\\pineapple_38.png', './data/train\\\\pineapple\\\\pineapple_39.png', './data/train\\\\pineapple\\\\pineapple_4.png', './data/train\\\\pineapple\\\\pineapple_40.png', './data/train\\\\pineapple\\\\pineapple_41.png', './data/train\\\\pineapple\\\\pineapple_42.png', './data/train\\\\pineapple\\\\pineapple_43.png', './data/train\\\\pineapple\\\\pineapple_44.png', './data/train\\\\pineapple\\\\pineapple_45.png', './data/train\\\\pineapple\\\\pineapple_46.png', './data/train\\\\pineapple\\\\pineapple_47.png', './data/train\\\\pineapple\\\\pineapple_48.png', './data/train\\\\pineapple\\\\pineapple_49.png', './data/train\\\\pineapple\\\\pineapple_5.png', './data/train\\\\pineapple\\\\pineapple_50.png', './data/train\\\\pineapple\\\\pineapple_51.png', './data/train\\\\pineapple\\\\pineapple_52.png', './data/train\\\\pineapple\\\\pineapple_53.png', './data/train\\\\pineapple\\\\pineapple_54.png', './data/train\\\\pineapple\\\\pineapple_55.png', './data/train\\\\pineapple\\\\pineapple_56.png', './data/train\\\\pineapple\\\\pineapple_57.png', './data/train\\\\pineapple\\\\pineapple_58.png', './data/train\\\\pineapple\\\\pineapple_59.png', './data/train\\\\pineapple\\\\pineapple_6.png', './data/train\\\\pineapple\\\\pineapple_60.png', './data/train\\\\pineapple\\\\pineapple_61.png', './data/train\\\\pineapple\\\\pineapple_62.png', './data/train\\\\pineapple\\\\pineapple_63.png', './data/train\\\\pineapple\\\\pineapple_64.png', './data/train\\\\pineapple\\\\pineapple_65.png', './data/train\\\\pineapple\\\\pineapple_66.png', './data/train\\\\pineapple\\\\pineapple_67.png', './data/train\\\\pineapple\\\\pineapple_68.png', './data/train\\\\pineapple\\\\pineapple_69.png', './data/train\\\\pineapple\\\\pineapple_7.png', './data/train\\\\pineapple\\\\pineapple_70.png', './data/train\\\\pineapple\\\\pineapple_71.png', './data/train\\\\pineapple\\\\pineapple_72.png', './data/train\\\\pineapple\\\\pineapple_73.png', './data/train\\\\pineapple\\\\pineapple_74.png', './data/train\\\\pineapple\\\\pineapple_75.png', './data/train\\\\pineapple\\\\pineapple_76.png', './data/train\\\\pineapple\\\\pineapple_77.png', './data/train\\\\pineapple\\\\pineapple_78.png', './data/train\\\\pineapple\\\\pineapple_79.png', './data/train\\\\pineapple\\\\pineapple_8.png', './data/train\\\\pineapple\\\\pineapple_80.png', './data/train\\\\pineapple\\\\pineapple_81.png', './data/train\\\\pineapple\\\\pineapple_82.png', './data/train\\\\pineapple\\\\pineapple_83.png', './data/train\\\\pineapple\\\\pineapple_84.png', './data/train\\\\pineapple\\\\pineapple_85.png', './data/train\\\\pineapple\\\\pineapple_86.png', './data/train\\\\pineapple\\\\pineapple_87.png', './data/train\\\\pineapple\\\\pineapple_88.png', './data/train\\\\pineapple\\\\pineapple_89.png', './data/train\\\\pineapple\\\\pineapple_9.png', './data/train\\\\pineapple\\\\pineapple_90.png', './data/train\\\\pineapple\\\\pineapple_91.png', './data/train\\\\pineapple\\\\pineapple_92.png', './data/train\\\\pineapple\\\\pineapple_93.png', './data/train\\\\pineapple\\\\pineapple_94.png', './data/train\\\\pineapple\\\\pineapple_95.png', './data/train\\\\pineapple\\\\pineapple_96.png', './data/train\\\\pineapple\\\\pineapple_97.png', './data/train\\\\pineapple\\\\pineapple_98.png', './data/train\\\\pineapple\\\\pineapple_99.png', './data/train\\\\watermelon\\\\watermelon_0.png', './data/train\\\\watermelon\\\\watermelon_1.png', './data/train\\\\watermelon\\\\watermelon_10.png', './data/train\\\\watermelon\\\\watermelon_11.png', './data/train\\\\watermelon\\\\watermelon_12.png', './data/train\\\\watermelon\\\\watermelon_13.png', './data/train\\\\watermelon\\\\watermelon_14.png', './data/train\\\\watermelon\\\\watermelon_15.png', './data/train\\\\watermelon\\\\watermelon_16.png', './data/train\\\\watermelon\\\\watermelon_17.png', './data/train\\\\watermelon\\\\watermelon_18.png', './data/train\\\\watermelon\\\\watermelon_19.png', './data/train\\\\watermelon\\\\watermelon_2.png', './data/train\\\\watermelon\\\\watermelon_20.png', './data/train\\\\watermelon\\\\watermelon_21.png', './data/train\\\\watermelon\\\\watermelon_22.png', './data/train\\\\watermelon\\\\watermelon_23.png', './data/train\\\\watermelon\\\\watermelon_24.png', './data/train\\\\watermelon\\\\watermelon_26.png', './data/train\\\\watermelon\\\\watermelon_27.png', './data/train\\\\watermelon\\\\watermelon_28.png', './data/train\\\\watermelon\\\\watermelon_29.png', './data/train\\\\watermelon\\\\watermelon_3.png', './data/train\\\\watermelon\\\\watermelon_30.png', './data/train\\\\watermelon\\\\watermelon_31.png', './data/train\\\\watermelon\\\\watermelon_32.png', './data/train\\\\watermelon\\\\watermelon_33.png', './data/train\\\\watermelon\\\\watermelon_34.png', './data/train\\\\watermelon\\\\watermelon_35.png', './data/train\\\\watermelon\\\\watermelon_36.png', './data/train\\\\watermelon\\\\watermelon_37.png', './data/train\\\\watermelon\\\\watermelon_38.png', './data/train\\\\watermelon\\\\watermelon_39.png', './data/train\\\\watermelon\\\\watermelon_4.png', './data/train\\\\watermelon\\\\watermelon_40.png', './data/train\\\\watermelon\\\\watermelon_41.png', './data/train\\\\watermelon\\\\watermelon_42.png', './data/train\\\\watermelon\\\\watermelon_43.png', './data/train\\\\watermelon\\\\watermelon_44.png', './data/train\\\\watermelon\\\\watermelon_45.png', './data/train\\\\watermelon\\\\watermelon_46.png', './data/train\\\\watermelon\\\\watermelon_47.png', './data/train\\\\watermelon\\\\watermelon_48.png', './data/train\\\\watermelon\\\\watermelon_49.png', './data/train\\\\watermelon\\\\watermelon_5.png', './data/train\\\\watermelon\\\\watermelon_50.png', './data/train\\\\watermelon\\\\watermelon_51.png', './data/train\\\\watermelon\\\\watermelon_52.png', './data/train\\\\watermelon\\\\watermelon_53.png', './data/train\\\\watermelon\\\\watermelon_54.png', './data/train\\\\watermelon\\\\watermelon_55.png', './data/train\\\\watermelon\\\\watermelon_56.png', './data/train\\\\watermelon\\\\watermelon_57.png', './data/train\\\\watermelon\\\\watermelon_58.png', './data/train\\\\watermelon\\\\watermelon_59.png', './data/train\\\\watermelon\\\\watermelon_6.png', './data/train\\\\watermelon\\\\watermelon_60.png', './data/train\\\\watermelon\\\\watermelon_61.png', './data/train\\\\watermelon\\\\watermelon_62.png', './data/train\\\\watermelon\\\\watermelon_63.png', './data/train\\\\watermelon\\\\watermelon_64.png', './data/train\\\\watermelon\\\\watermelon_65.png', './data/train\\\\watermelon\\\\watermelon_66.png', './data/train\\\\watermelon\\\\watermelon_67.png', './data/train\\\\watermelon\\\\watermelon_68.png', './data/train\\\\watermelon\\\\watermelon_69.png', './data/train\\\\watermelon\\\\watermelon_7.png', './data/train\\\\watermelon\\\\watermelon_70.png', './data/train\\\\watermelon\\\\watermelon_71.png', './data/train\\\\watermelon\\\\watermelon_72.png', './data/train\\\\watermelon\\\\watermelon_73.png', './data/train\\\\watermelon\\\\watermelon_74.png', './data/train\\\\watermelon\\\\watermelon_75.png', './data/train\\\\watermelon\\\\watermelon_76.png', './data/train\\\\watermelon\\\\watermelon_77.png', './data/train\\\\watermelon\\\\watermelon_78.png', './data/train\\\\watermelon\\\\watermelon_79.png', './data/train\\\\watermelon\\\\watermelon_8.png', './data/train\\\\watermelon\\\\watermelon_80.png', './data/train\\\\watermelon\\\\watermelon_9.png']\n"
     ]
    }
   ],
   "source": [
    "# 디버깅 용도\n",
    "if __name__ == '__main__' :\n",
    "    test = custom_dataset(\"./data/train\", transform=None)\n",
    "    for i in test :\n",
    "        pass"
   ]
  }
 ],
 "metadata": {
  "kernelspec": {
   "display_name": "Python 3",
   "language": "python",
   "name": "python3"
  },
  "language_info": {
   "codemirror_mode": {
    "name": "ipython",
    "version": 3
   },
   "file_extension": ".py",
   "mimetype": "text/x-python",
   "name": "python",
   "nbconvert_exporter": "python",
   "pygments_lexer": "ipython3",
   "version": "3.10.5"
  },
  "orig_nbformat": 4,
  "vscode": {
   "interpreter": {
    "hash": "e89c93e4c07d4ac8f065cea982a638287e1c61026788fcbbad7e0263e2130583"
   }
  }
 },
 "nbformat": 4,
 "nbformat_minor": 2
}
