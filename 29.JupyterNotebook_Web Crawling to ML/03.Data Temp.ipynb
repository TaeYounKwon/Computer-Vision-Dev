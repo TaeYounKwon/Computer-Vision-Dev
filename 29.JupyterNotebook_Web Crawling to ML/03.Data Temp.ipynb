{
 "cells": [
  {
   "cell_type": "code",
   "execution_count": 1,
   "metadata": {},
   "outputs": [],
   "source": [
    "import cv2\n",
    "import os\n",
    "import glob\n",
    "import numpy as np\n",
    "from torch.utils.data import Dataset"
   ]
  },
  {
   "cell_type": "code",
   "execution_count": 2,
   "metadata": {},
   "outputs": [],
   "source": [
    "fruit_dict = {\n",
    "    'banana'    : 0, \n",
    "    'kiwi'      : 1,\n",
    "    'orange'    : 2,\n",
    "    'pineapple' : 3,\n",
    "    'watermelon': 4,\n",
    "    }"
   ]
  },
  {
   "cell_type": "code",
   "execution_count": 3,
   "metadata": {},
   "outputs": [],
   "source": [
    "class CustomDataset(Dataset):\n",
    "    def __init__(self, image_file_path, transform=None):\n",
    "        \"\"\"\n",
    "        data\n",
    "            train\n",
    "                라벨 폴더명 \n",
    "                    이미지\n",
    "        \"./data/train\"\n",
    "        \"\"\"\n",
    "        self.image_file_paths = glob.glob(os.path.join(image_file_path, \"*\", \"*.png\"))  \n",
    "        # data/train 안에 있는 5가지의 카테고리의 모든 이미지 데이터를 불러오고 리스트화\n",
    "        self.transform = transform\n",
    "\n",
    "    def __getitem__(self, index):\n",
    "        # image loader\n",
    "        image_path = self.image_file_paths[index]\n",
    "        image = cv2.imread(image_path)\n",
    "        \n",
    "        # cv2 -> BGR -> RGB\n",
    "        image = cv2.cvtColor(image, cv2.COLOR_BGR2RGB).astype(np.float32)  # float32 중요 !!!\n",
    "\n",
    "        # label\n",
    "        labe_temp = image_path.split(\"\\\\\")  # ['./2022.12/12.19_d54_data/data/train', 'banana', 'banana_0.png']\n",
    "        labe_temp = labe_temp[1]  # banana\n",
    "        label = fruit_dict[labe_temp] # banna에 해당하는 숫자 반환\n",
    "\n",
    "        if self.transform is not None:  # transform 있을 경우\n",
    "            image = self.transform(image= image)[\"image\"]  \n",
    "\n",
    "        return image, label\n",
    "        \n",
    "    def __len__(self):\n",
    "        return len(self.image_file_paths)\n"
   ]
  },
  {
   "cell_type": "code",
   "execution_count": null,
   "metadata": {},
   "outputs": [],
   "source": [
    "if __name__ == '__main__':\n",
    "    file_path = \"./data/train\"\n",
    "    test = CustomDataset(file_path, transform= None)\n",
    "    for i in test:\n",
    "        pass"
   ]
  }
 ],
 "metadata": {
  "kernelspec": {
   "display_name": "Python 3",
   "language": "python",
   "name": "python3"
  },
  "language_info": {
   "codemirror_mode": {
    "name": "ipython",
    "version": 3
   },
   "file_extension": ".py",
   "mimetype": "text/x-python",
   "name": "python",
   "nbconvert_exporter": "python",
   "pygments_lexer": "ipython3",
   "version": "3.10.5 (tags/v3.10.5:f377153, Jun  6 2022, 16:14:13) [MSC v.1929 64 bit (AMD64)]"
  },
  "orig_nbformat": 4,
  "vscode": {
   "interpreter": {
    "hash": "e89c93e4c07d4ac8f065cea982a638287e1c61026788fcbbad7e0263e2130583"
   }
  }
 },
 "nbformat": 4,
 "nbformat_minor": 2
}
