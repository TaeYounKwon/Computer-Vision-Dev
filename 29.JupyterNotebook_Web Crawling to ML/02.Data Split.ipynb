{
 "cells": [
  {
   "cell_type": "code",
   "execution_count": 2,
   "metadata": {},
   "outputs": [],
   "source": [
    "import os\n",
    "import cv2\n",
    "import glob\n",
    "import shutil\n",
    "from sklearn.model_selection import train_test_split"
   ]
  },
  {
   "cell_type": "code",
   "execution_count": 4,
   "metadata": {},
   "outputs": [],
   "source": [
    "image_path = \"./sample\"\n",
    "RANDOM_SEED = 7777"
   ]
  },
  {
   "cell_type": "code",
   "execution_count": 5,
   "metadata": {},
   "outputs": [],
   "source": [
    "# 데이터셋 크기가 크지 않으므로 testdata는 생성 X\n",
    "for item in os.listdir(image_path): # [banana, kiwi, orange, pineapple, watermelon]\n",
    "    data = glob.glob(os.path.join(image_path, item, '*.png'))\n",
    "    train_data, val_data = train_test_split(data, test_size= 0.1, random_state= RANDOM_SEED)  # train val 9:1\n",
    "    \n",
    "    new_train_path = f\"{image_path.replace('sample', 'data/train')}/{item}\" # ./dataset/images -> ./data/train/banana\n",
    "    new_val_path   = f\"{image_path.replace('sample', 'data/val')}/{item}\"   # ./dataset/images -> ./data/val/banana\n",
    "\n",
    "    os.makedirs(new_train_path, exist_ok= True)  # create train folder\n",
    "    os.makedirs(new_val_path, exist_ok= True)  # create val folder\n",
    "\n",
    "    # train\n",
    "    for i in train_data:\n",
    "        file_name = os.path.basename(i)\n",
    "        img = cv2.imread(i)  # .data/train/banana/banana_xx.png\n",
    "        cv2.imwrite(f\"{new_train_path}/{file_name}\", img)\n",
    "        \n",
    "    # validation\n",
    "    for i in val_data:\n",
    "        file_name = os.path.basename(i)\n",
    "        img = cv2.imread(i)  # .data/train/banana/banana_xx.png\n",
    "        cv2.imwrite(f\"{new_val_path}/{file_name}\", img)"
   ]
  },
  {
   "cell_type": "code",
   "execution_count": null,
   "metadata": {},
   "outputs": [],
   "source": []
  }
 ],
 "metadata": {
  "kernelspec": {
   "display_name": "Python 3",
   "language": "python",
   "name": "python3"
  },
  "language_info": {
   "codemirror_mode": {
    "name": "ipython",
    "version": 3
   },
   "file_extension": ".py",
   "mimetype": "text/x-python",
   "name": "python",
   "nbconvert_exporter": "python",
   "pygments_lexer": "ipython3",
   "version": "3.10.5"
  },
  "orig_nbformat": 4,
  "vscode": {
   "interpreter": {
    "hash": "e89c93e4c07d4ac8f065cea982a638287e1c61026788fcbbad7e0263e2130583"
   }
  }
 },
 "nbformat": 4,
 "nbformat_minor": 2
}
