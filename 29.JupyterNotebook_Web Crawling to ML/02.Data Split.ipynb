{
 "cells": [
  {
   "cell_type": "code",
   "execution_count": 28,
   "metadata": {},
   "outputs": [],
   "source": [
    "from sklearn.model_selection import train_test_split\n",
    "import os\n",
    "import glob\n",
    "import natsort\n",
    "import cv2\n",
    "import shutil"
   ]
  },
  {
   "cell_type": "code",
   "execution_count": 29,
   "metadata": {},
   "outputs": [],
   "source": [
    "image_path = \"./sample/\"\n",
    "RANDOM_SEED = 7777"
   ]
  },
  {
   "cell_type": "code",
   "execution_count": 30,
   "metadata": {},
   "outputs": [],
   "source": [
    "banana_data = glob.glob(os.path.join(image_path, \"banana\", \"*.png\"))\n",
    "kiwi_data = glob.glob(os.path.join(image_path, \"kiwi\", \"*.png\"))\n",
    "orange_data = glob.glob(os.path.join(image_path, \"orange\", \"*.png\"))\n",
    "pineapple_data = glob.glob(os.path.join(image_path, \"pineapple\", \"*.png\"))\n",
    "watermelon_data = glob.glob(os.path.join(image_path, \"watermelon\", \"*.png\"))"
   ]
  },
  {
   "cell_type": "code",
   "execution_count": 31,
   "metadata": {},
   "outputs": [],
   "source": [
    "# test data X\n",
    "# train val 9:1\n",
    "banana_data_train, banana_data_val = train_test_split(banana_data, test_size=0.1, random_state=7777)\n",
    "kiwi_data_train, kwi_data_val = train_test_split(kiwi_data, test_size=0.1, random_state=7777)\n",
    "orange_data_train, orange_data_val = train_test_split(orange_data, test_size=0.1, random_state=7777)\n",
    "pineapple_data_train, pineapple_data_val = train_test_split(pineapple_data, test_size=0.1, random_state=7777)\n",
    "watermelon_data_train, watermelon_data_val = train_test_split(watermelon_data, test_size=0.1, random_state=7777)"
   ]
  },
  {
   "cell_type": "code",
   "execution_count": 32,
   "metadata": {},
   "outputs": [],
   "source": [
    "for i in banana_data_train:\n",
    "    file_name = os.path.basename(i)\n",
    "    os.makedirs(\"./data/train/banana/\", exist_ok=True)\n",
    "    shutil.move(i, f\"./data/train/banana/{file_name}\")"
   ]
  },
  {
   "cell_type": "code",
   "execution_count": 33,
   "metadata": {},
   "outputs": [],
   "source": [
    "for i in kiwi_data_train:\n",
    "    file_name = os.path.basename(i)\n",
    "    os.makedirs(\"./data/train/kiwi/\", exist_ok=True)\n",
    "    shutil.move(i, f\"./data/train/kiwi/{file_name}\")"
   ]
  },
  {
   "cell_type": "code",
   "execution_count": 34,
   "metadata": {},
   "outputs": [],
   "source": [
    "for i in orange_data_train:\n",
    "    file_name = os.path.basename(i)\n",
    "    os.makedirs(\"./data/train/orange/\", exist_ok=True)\n",
    "    shutil.move(i, f\"./data/train/orange/{file_name}\")"
   ]
  },
  {
   "cell_type": "code",
   "execution_count": 35,
   "metadata": {},
   "outputs": [],
   "source": [
    "for i in pineapple_data_train:\n",
    "    file_name = os.path.basename(i)\n",
    "    os.makedirs(\"./data/train/pineapple/\", exist_ok=True)\n",
    "    shutil.move(i, f\"./data/train/pineapple/{file_name}\")"
   ]
  },
  {
   "cell_type": "code",
   "execution_count": 36,
   "metadata": {},
   "outputs": [],
   "source": [
    "for i in watermelon_data_train:\n",
    "    file_name = os.path.basename(i)\n",
    "    os.makedirs(\"./data/train/watermelon/\", exist_ok=True)\n",
    "    shutil.move(i, f\"./data/train/watermelon/{file_name}\")"
   ]
  }
 ],
 "metadata": {
  "kernelspec": {
   "display_name": "Python 3",
   "language": "python",
   "name": "python3"
  },
  "language_info": {
   "codemirror_mode": {
    "name": "ipython",
    "version": 3
   },
   "file_extension": ".py",
   "mimetype": "text/x-python",
   "name": "python",
   "nbconvert_exporter": "python",
   "pygments_lexer": "ipython3",
   "version": "3.10.5"
  },
  "orig_nbformat": 4,
  "vscode": {
   "interpreter": {
    "hash": "e89c93e4c07d4ac8f065cea982a638287e1c61026788fcbbad7e0263e2130583"
   }
  }
 },
 "nbformat": 4,
 "nbformat_minor": 2
}
