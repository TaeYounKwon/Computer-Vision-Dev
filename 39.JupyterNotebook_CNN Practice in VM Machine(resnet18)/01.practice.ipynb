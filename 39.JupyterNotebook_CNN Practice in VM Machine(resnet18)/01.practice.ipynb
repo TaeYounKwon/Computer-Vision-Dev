{
 "cells": [
  {
   "cell_type": "code",
   "execution_count": 8,
   "metadata": {},
   "outputs": [],
   "source": [
    "import random\n",
    "import torch\n",
    "import os\n",
    "import glob\n",
    "import torchvision.transforms as transforms\n",
    "import matplotlib.pyplot as plt\n",
    "import numpy as np\n",
    "import torch.nn as nn\n",
    "import timm\n",
    "import tensorflow\n",
    "\n",
    "from torch.utils.data import Dataset\n",
    "from PIL import Image\n",
    "from PIL import ImageFilter\n",
    "from torch.utils.data import DataLoader\n",
    "from custom_dataset import custom_dataset\n",
    "from torchvision import models\n",
    "from timm.loss import LabelSmoothingCrossEntropy\n",
    "\n",
    "from custom_dataset import *"
   ]
  },
  {
   "cell_type": "code",
   "execution_count": 9,
   "metadata": {},
   "outputs": [
    {
     "name": "stdout",
     "output_type": "stream",
     "text": [
      "cpu\n"
     ]
    }
   ],
   "source": [
    "device = torch.device(\"cuda\" if torch.cuda.is_available() else \"cpu\")\n",
    "print(device)"
   ]
  },
  {
   "cell_type": "code",
   "execution_count": 10,
   "metadata": {},
   "outputs": [
    {
     "data": {
      "text/plain": [
       "[name: \"/device:CPU:0\"\n",
       " device_type: \"CPU\"\n",
       " memory_limit: 268435456\n",
       " locality {\n",
       " }\n",
       " incarnation: 772084601440325322\n",
       " xla_global_id: -1]"
      ]
     },
     "execution_count": 10,
     "metadata": {},
     "output_type": "execute_result"
    }
   ],
   "source": [
    "from tensorflow.python.client import device_lib\n",
    "device_lib.list_local_devices()"
   ]
  },
  {
   "cell_type": "code",
   "execution_count": 5,
   "metadata": {},
   "outputs": [
    {
     "data": {
      "text/plain": [
       "device(type='cpu')"
      ]
     },
     "execution_count": 5,
     "metadata": {},
     "output_type": "execute_result"
    }
   ],
   "source": [
    "use_cuda = torch.cuda.is_available()\n",
    "device = torch.device(\"cuda\" if use_cuda else \"cpu\")\n",
    "device"
   ]
  },
  {
   "cell_type": "code",
   "execution_count": 6,
   "metadata": {},
   "outputs": [],
   "source": [
    "# dataset\n",
    "train_data = custom_dataset(\"./data/train\")\n",
    "test_data  = custom_dataset(\"./data/train\")\n",
    "\n",
    "# dataloader\n",
    "train_loader = DataLoader(train_data,batch_size=12, shuffle=True)\n",
    "test_loader = DataLoader(test_data, batch_size=12, shuffle=False)"
   ]
  },
  {
   "cell_type": "code",
   "execution_count": 7,
   "metadata": {},
   "outputs": [
    {
     "name": "stderr",
     "output_type": "stream",
     "text": [
      "c:\\Users\\tempe\\AppData\\Local\\Programs\\Python\\Python310\\lib\\site-packages\\torchvision\\models\\_utils.py:208: UserWarning: The parameter 'pretrained' is deprecated since 0.13 and may be removed in the future, please use 'weights' instead.\n",
      "  warnings.warn(\n",
      "c:\\Users\\tempe\\AppData\\Local\\Programs\\Python\\Python310\\lib\\site-packages\\torchvision\\models\\_utils.py:223: UserWarning: Arguments other than a weight enum or `None` for 'weights' are deprecated since 0.13 and may be removed in the future. The current behavior is equivalent to passing `weights=ResNet18_Weights.IMAGENET1K_V1`. You can also use `weights=ResNet18_Weights.DEFAULT` to get the most up-to-date weights.\n",
      "  warnings.warn(msg)\n"
     ]
    }
   ],
   "source": [
    "# model call\n",
    "net = models.__dict__[\"resnet18\"](pretrained=True)\n",
    "net.fc = nn.Linear(512,10)\n",
    "net.to(device)\n",
    "\n",
    "# loss function\n",
    "criterion = LabelSmoothingCrossEntropy()\n",
    "criterion = criterion.to(device) # this is better than nn.CrossEntropyLoss\n",
    "# optimizer\n",
    "optimizer = torch.optim.AdamW(net.parameters(), lr=0.001)"
   ]
  },
  {
   "cell_type": "code",
   "execution_count": 7,
   "metadata": {},
   "outputs": [
    {
     "name": "stdout",
     "output_type": "stream",
     "text": [
      "Epoch : 1, Loss : 1.4389\n",
      "Accuracy : 79.44\n",
      "\n",
      "Epoch : 2, Loss : 0.8420\n",
      "Accuracy : 82.95\n",
      "\n",
      "Epoch : 3, Loss : 0.7448\n",
      "Accuracy : 92.44\n",
      "\n",
      "Epoch : 4, Loss : 0.6948\n",
      "Accuracy : 90.86\n",
      "\n",
      "Epoch : 5, Loss : 0.6413\n",
      "Accuracy : 99.65\n",
      "\n",
      "Epoch : 6, Loss : 0.5727\n",
      "Accuracy : 99.82\n",
      "\n",
      "Epoch : 7, Loss : 0.5618\n",
      "Accuracy : 100.00\n",
      "\n",
      "Epoch : 8, Loss : 0.5559\n",
      "Accuracy : 100.00\n",
      "\n"
     ]
    }
   ],
   "source": [
    "net.train()\n",
    "total_step = len(train_loader)\n",
    "curr_lr = 0.001\n",
    "best_score = 0\n",
    "num_epochs = 100\n",
    "for epoch in range(num_epochs + 1) :\n",
    "    total_loss = 0\n",
    "    for i,(images, labels) in enumerate(train_loader) :\n",
    "        images = images.to(device)\n",
    "        labels = labels.to(device)\n",
    "        output = net(images)\n",
    "        loss = criterion(output, labels)\n",
    "\n",
    "        optimizer.zero_grad()\n",
    "        loss.backward()\n",
    "        optimizer.step()\n",
    "\n",
    "        total_loss += loss.item()\n",
    "\n",
    "        if (i+1) % 100 == 0 :\n",
    "            print(\"{} / {}\".format(12*(i+1), train_data.__len__()))\n",
    "\n",
    "    net.eval()\n",
    "    score = 0\n",
    "    total = 0\n",
    "    for i,(images, labels) in enumerate(test_loader) :\n",
    "        images = images.to(device)\n",
    "        labels = labels.to(device)\n",
    "        output = net(images)\n",
    "\n",
    "        total += images.size(0)\n",
    "        _, argmax = torch.max(output, 1)\n",
    "        score += (labels == argmax).sum().item()\n",
    "    print(\"Epoch : {}, Loss : {:.4f}\".format(\n",
    "        epoch+1, total_loss / total_step\n",
    "    ))\n",
    "\n",
    "    avg = (score / total * 100)\n",
    "    print(\"Accuracy : {:.2f}\\n\".format(avg))\n",
    "    net.train()\n",
    "\n",
    "    if best_score < avg :\n",
    "        best_score = avg\n",
    "        torch.save(net.state_dict(), \"./best.pt\")"
   ]
  }
 ],
 "metadata": {
  "kernelspec": {
   "display_name": "Python 3",
   "language": "python",
   "name": "python3"
  },
  "language_info": {
   "codemirror_mode": {
    "name": "ipython",
    "version": 3
   },
   "file_extension": ".py",
   "mimetype": "text/x-python",
   "name": "python",
   "nbconvert_exporter": "python",
   "pygments_lexer": "ipython3",
   "version": "3.10.5"
  },
  "orig_nbformat": 4,
  "vscode": {
   "interpreter": {
    "hash": "e89c93e4c07d4ac8f065cea982a638287e1c61026788fcbbad7e0263e2130583"
   }
  }
 },
 "nbformat": 4,
 "nbformat_minor": 2
}
