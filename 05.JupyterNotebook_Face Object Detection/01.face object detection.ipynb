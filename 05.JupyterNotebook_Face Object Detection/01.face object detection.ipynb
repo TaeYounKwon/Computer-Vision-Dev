{
 "cells": [
  {
   "cell_type": "code",
   "execution_count": 1,
   "metadata": {},
   "outputs": [],
   "source": [
    "import cv2\n",
    "import numpy as np"
   ]
  },
  {
   "attachments": {},
   "cell_type": "markdown",
   "metadata": {},
   "source": [
    "# Python에서 OpenCV로 얼굴정렬\n",
    "\n",
    "- 얼굴 및 눈 감지를 위해 OpenCV Haar 캐스케이드 구성을 사용해야함"
   ]
  },
  {
   "cell_type": "code",
   "execution_count": 2,
   "metadata": {},
   "outputs": [],
   "source": [
    "# Creating face_cascade and eye_cascade objects\n",
    "face_cascade = cv2.CascadeClassifier(\"haarcascade_frontalface_default.xml\") # 감지된 얼굴\n",
    "eye_cascade = cv2.CascadeClassifier(\"haarcascade_eye.xml\") # 감지된 눈"
   ]
  },
  {
   "cell_type": "code",
   "execution_count": 3,
   "metadata": {},
   "outputs": [
    {
     "data": {
      "text/plain": [
       "-1"
      ]
     },
     "execution_count": 3,
     "metadata": {},
     "output_type": "execute_result"
    }
   ],
   "source": [
    "# Loading the image ..\n",
    "img = cv2.imread(\"./face.png\")\n",
    "cv2.imshow(\"image show\", img)\n",
    "cv2.waitKey(0)"
   ]
  },
  {
   "attachments": {},
   "cell_type": "markdown",
   "metadata": {},
   "source": [
    "얼굴 이미지 바운딩 박스 >> 케스케이드 경우에는 그레이 스케일 이미지에서만 작동\n",
    "\n",
    "그래서 cvtColor을 통해 컬러이미지 >> 흑백 으로 재구성 해줘야함"
   ]
  },
  {
   "cell_type": "code",
   "execution_count": 4,
   "metadata": {},
   "outputs": [],
   "source": [
    "# Converting the image into grayscale\n",
    "gray = cv2.cvtColor(img, cv2.COLOR_BGR2GRAY)"
   ]
  },
  {
   "cell_type": "code",
   "execution_count": 5,
   "metadata": {},
   "outputs": [
    {
     "data": {
      "text/plain": [
       "array([[ 45,  52, 219, 219]])"
      ]
     },
     "execution_count": 5,
     "metadata": {},
     "output_type": "execute_result"
    }
   ],
   "source": [
    "faces = face_cascade.detectMultiScale(gray, 1.1, 4)\n",
    "faces"
   ]
  },
  {
   "cell_type": "code",
   "execution_count": 6,
   "metadata": {},
   "outputs": [],
   "source": [
    "# Defining and drawing the rectangles around the face\n",
    "for (x, y, w, h) in faces:\n",
    "    cv2.rectangle(img, (x, y), (x+w, y+h), (255, 0, 255), 2)"
   ]
  },
  {
   "attachments": {},
   "cell_type": "markdown",
   "metadata": {},
   "source": [
    "roi_gray => 눈을 감지할 회색조 이미지 첫번째 영역이 필요함\n",
    "\n",
    "roi_color => 얼굴 전ㄴ체 사각형을 그릴 컬러 이미지가 필요"
   ]
  },
  {
   "cell_type": "code",
   "execution_count": 7,
   "metadata": {},
   "outputs": [],
   "source": [
    "roi_gray = gray[y:(y+h), x:(x+w)]\n",
    "roi_color = img[y:(y+h), x:(x+w)]"
   ]
  },
  {
   "cell_type": "code",
   "execution_count": 8,
   "metadata": {},
   "outputs": [
    {
     "name": "stdout",
     "output_type": "stream",
     "text": [
      "[[ 41  82  45  45]\n",
      " [112  48  52  52]]\n"
     ]
    }
   ],
   "source": [
    "# eyes\n",
    "eyes = eye_cascade.detectMultiScale(roi_gray, 1.1, 4)\n",
    "print(eyes)\n",
    "index = 0"
   ]
  },
  {
   "cell_type": "code",
   "execution_count": 9,
   "metadata": {},
   "outputs": [],
   "source": [
    "# Creating for loop in order to divide one eye from another\n",
    "for (ex, ey, ew, eh) in eyes:\n",
    "    if index == 0:\n",
    "        eye_1 = (ex, ey, ew, eh)\n",
    "    elif index == 1:\n",
    "        eye_2 = (ex, ey, ew, eh)\n",
    "\n",
    "    cv2.rectangle(roi_color, (ex, ey), (ex+ew, ey+eh), (0, 0, 255), 2)\n",
    "    index = index + 1"
   ]
  },
  {
   "cell_type": "code",
   "execution_count": 10,
   "metadata": {},
   "outputs": [
    {
     "data": {
      "text/plain": [
       "-1"
      ]
     },
     "execution_count": 10,
     "metadata": {},
     "output_type": "execute_result"
    }
   ],
   "source": [
    "cv2.imshow(\"face\", img)\n",
    "cv2.waitKey(0)\n"
   ]
  },
  {
   "attachments": {},
   "cell_type": "markdown",
   "metadata": {},
   "source": [
    "# 개인 사진으로 한번 더 해보기!! "
   ]
  },
  {
   "cell_type": "code",
   "execution_count": 11,
   "metadata": {},
   "outputs": [
    {
     "data": {
      "text/plain": [
       "-1"
      ]
     },
     "execution_count": 11,
     "metadata": {},
     "output_type": "execute_result"
    }
   ],
   "source": [
    "# Loading new image ..\n",
    "img = cv2.imread(\"./viv.jpg\")\n",
    "cv2.imshow(\"my image\", img)\n",
    "cv2.waitKey(0)"
   ]
  },
  {
   "cell_type": "code",
   "execution_count": 12,
   "metadata": {},
   "outputs": [
    {
     "name": "stdout",
     "output_type": "stream",
     "text": [
      "()\n"
     ]
    },
    {
     "data": {
      "text/plain": [
       "-1"
      ]
     },
     "execution_count": 12,
     "metadata": {},
     "output_type": "execute_result"
    }
   ],
   "source": [
    "# Repeat the steps above\n",
    "\n",
    "gray = cv2.cvtColor(img, cv2.COLOR_BGR2GRAY)\n",
    "\n",
    "faces = face_cascade.detectMultiScale(gray, 1.1, 4)\n",
    "for (x, y, w, h) in faces:\n",
    "    cv2.rectangle(img, (x, y), (x+w, y+h), (255, 0, 255), 2)\n",
    "\n",
    "\n",
    "roi_gray = gray[y:(y+h), x:(x+w)]\n",
    "roi_color = img[y:(y+h), x:(x+w)]\n",
    "\n",
    "# eyes\n",
    "eyes = eye_cascade.detectMultiScale(roi_gray, 1.1, 4)\n",
    "print(eyes)\n",
    "\"\"\"\n",
    "[[ 41  82  45  45]\n",
    " [112  48  52  52]]\n",
    "\"\"\"\n",
    "index = 0\n",
    "\n",
    "# Creating for loop in order to divide one eye from another\n",
    "for (ex, ey, ew, eh) in eyes:\n",
    "    if index == 0:\n",
    "        eye_1 = (ex, ey, ew, eh)\n",
    "    elif index == 1:\n",
    "        eye_2 = (ex, ey, ew, eh)\n",
    "\n",
    "    cv2.rectangle(roi_color, (ex, ey), (ex+ew, ey+eh), (0, 0, 255), 2)\n",
    "    index = index + 1\n",
    "\n",
    "cv2.imshow(\"face\", img)\n",
    "cv2.waitKey(0)\n"
   ]
  },
  {
   "attachments": {},
   "cell_type": "markdown",
   "metadata": {},
   "source": [
    "눈은 잘 찾아 내었으나, 마스크와 머리를 덮은 후드때문에 얼굴인식은 잘 안된 것으로 보임..."
   ]
  }
 ],
 "metadata": {
  "kernelspec": {
   "display_name": "Python 3",
   "language": "python",
   "name": "python3"
  },
  "language_info": {
   "codemirror_mode": {
    "name": "ipython",
    "version": 3
   },
   "file_extension": ".py",
   "mimetype": "text/x-python",
   "name": "python",
   "nbconvert_exporter": "python",
   "pygments_lexer": "ipython3",
   "version": "3.10.5 (tags/v3.10.5:f377153, Jun  6 2022, 16:14:13) [MSC v.1929 64 bit (AMD64)]"
  },
  "orig_nbformat": 4,
  "vscode": {
   "interpreter": {
    "hash": "e89c93e4c07d4ac8f065cea982a638287e1c61026788fcbbad7e0263e2130583"
   }
  }
 },
 "nbformat": 4,
 "nbformat_minor": 2
}
