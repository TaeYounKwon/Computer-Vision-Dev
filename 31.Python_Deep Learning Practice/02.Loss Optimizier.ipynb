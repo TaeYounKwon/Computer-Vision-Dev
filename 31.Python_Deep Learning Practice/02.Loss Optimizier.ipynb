{
 "cells": [
  {
   "cell_type": "code",
   "execution_count": 1,
   "metadata": {},
   "outputs": [],
   "source": [
    "import torch\n",
    "import torch.nn as nn\n",
    "import torch.nn.functional as F\n",
    "import torch.optim as optim"
   ]
  },
  {
   "cell_type": "code",
   "execution_count": 2,
   "metadata": {},
   "outputs": [
    {
     "data": {
      "text/plain": [
       "<torch._C.Generator at 0x1eca34b31d0>"
      ]
     },
     "execution_count": 2,
     "metadata": {},
     "output_type": "execute_result"
    }
   ],
   "source": [
    "# 랜덤 시드 설정\n",
    "torch.manual_seed(1)"
   ]
  },
  {
   "cell_type": "code",
   "execution_count": 3,
   "metadata": {},
   "outputs": [],
   "source": [
    "# 실습을 위한 기본셋팅 훈련데이터 x_train , y_train 을 선언\n",
    "x_train = torch.FloatTensor(([1], [2], [3]))\n",
    "y_train = torch.FloatTensor(([2], [4], [6]))"
   ]
  },
  {
   "cell_type": "code",
   "execution_count": 5,
   "metadata": {},
   "outputs": [
    {
     "name": "stdout",
     "output_type": "stream",
     "text": [
      "tensor([[1.],\n",
      "        [2.],\n",
      "        [3.]]) \n",
      " torch.Size([3, 1])\n",
      "tensor([[2.],\n",
      "        [4.],\n",
      "        [6.]]) \n",
      " torch.Size([3, 1])\n"
     ]
    }
   ],
   "source": [
    "# x_train 와 shape 출력\n",
    "print(x_train,'\\n', x_train.shape)  # shape or size\n",
    "print(y_train,\"\\n\", y_train.shape)  # shape or size"
   ]
  },
  {
   "cell_type": "code",
   "execution_count": 6,
   "metadata": {},
   "outputs": [],
   "source": [
    "# 가중치와 편향의 초기화 직선 -> w and b\n",
    "# requires_grad=True -> 학습을 통해 계속 값이 변경되는 변수\n",
    "w = torch.zeros(1, requires_grad=True)\n",
    "b = torch.zeros(1, requires_grad=True)"
   ]
  },
  {
   "cell_type": "code",
   "execution_count": 7,
   "metadata": {},
   "outputs": [],
   "source": [
    "# 가설 세우기\n",
    "# 직선의 방정식\n",
    "hypothesis = x_train * w + b"
   ]
  },
  {
   "cell_type": "code",
   "execution_count": 8,
   "metadata": {},
   "outputs": [
    {
     "name": "stdout",
     "output_type": "stream",
     "text": [
      "tensor(18.6667, grad_fn=<MeanBackward0>)\n"
     ]
    }
   ],
   "source": [
    "# loss fn 선언 하기\n",
    "# 평균 제곱 오차 선언\n",
    "loss = torch.mean((hypothesis - y_train) ** 2)\n",
    "print(loss)"
   ]
  },
  {
   "cell_type": "code",
   "execution_count": 9,
   "metadata": {},
   "outputs": [],
   "source": [
    "# 경사하강법 구현 하기\n",
    "optimizer = optim.SGD([w, b], lr=0.01)"
   ]
  },
  {
   "cell_type": "code",
   "execution_count": 10,
   "metadata": {},
   "outputs": [],
   "source": [
    "# 기울기 0 으로 초기화\n",
    "optimizer.zero_grad()\n",
    "loss.backward()"
   ]
  },
  {
   "cell_type": "code",
   "execution_count": 11,
   "metadata": {},
   "outputs": [],
   "source": [
    "# 학습 진행\n",
    "epoch_num = 2000"
   ]
  },
  {
   "cell_type": "code",
   "execution_count": 12,
   "metadata": {},
   "outputs": [
    {
     "name": "stdout",
     "output_type": "stream",
     "text": [
      "Epoch    0/2000 W : 0.187 b : 0.080 loss : 18.666666\n",
      "Epoch  100/2000 W : 1.746 b : 0.578 loss : 0.048171\n",
      "Epoch  200/2000 W : 1.800 b : 0.454 loss : 0.029767\n",
      "Epoch  300/2000 W : 1.843 b : 0.357 loss : 0.018394\n",
      "Epoch  400/2000 W : 1.876 b : 0.281 loss : 0.011366\n",
      "Epoch  500/2000 W : 1.903 b : 0.221 loss : 0.007024\n",
      "Epoch  600/2000 W : 1.924 b : 0.174 loss : 0.004340\n",
      "Epoch  700/2000 W : 1.940 b : 0.136 loss : 0.002682\n",
      "Epoch  800/2000 W : 1.953 b : 0.107 loss : 0.001657\n",
      "Epoch  900/2000 W : 1.963 b : 0.084 loss : 0.001024\n",
      "Epoch 1000/2000 W : 1.971 b : 0.066 loss : 0.000633\n",
      "Epoch 1100/2000 W : 1.977 b : 0.052 loss : 0.000391\n",
      "Epoch 1200/2000 W : 1.982 b : 0.041 loss : 0.000242\n",
      "Epoch 1300/2000 W : 1.986 b : 0.032 loss : 0.000149\n",
      "Epoch 1400/2000 W : 1.989 b : 0.025 loss : 0.000092\n",
      "Epoch 1500/2000 W : 1.991 b : 0.020 loss : 0.000057\n",
      "Epoch 1600/2000 W : 1.993 b : 0.016 loss : 0.000035\n",
      "Epoch 1700/2000 W : 1.995 b : 0.012 loss : 0.000022\n",
      "Epoch 1800/2000 W : 1.996 b : 0.010 loss : 0.000013\n",
      "Epoch 1900/2000 W : 1.997 b : 0.008 loss : 0.000008\n",
      "Epoch 2000/2000 W : 1.997 b : 0.006 loss : 0.000005\n"
     ]
    }
   ],
   "source": [
    "# epoch : 전체 훈련 데이터가 학습에 한번 사용된 주기\n",
    "# train loop\n",
    "for epoch in range(epoch_num+1):\n",
    "\n",
    "    # 1. 가설 -> model\n",
    "    hypothesis = x_train * w + b\n",
    "\n",
    "    # loss\n",
    "    loss = torch.mean((hypothesis - y_train) ** 2)\n",
    "\n",
    "    # loss H(x) 개선\n",
    "    optimizer.zero_grad()\n",
    "    loss.backward()\n",
    "    optimizer.step()\n",
    "\n",
    "    # 100 번 마다\n",
    "    if epoch % 100 == 0:\n",
    "        print(\"Epoch {:4d}/{} W : {:.3f} b : {:.3f} loss : {:.6f}\".format(\n",
    "            epoch, epoch_num, w.item(), b.item(), loss.item()\n",
    "        ))"
   ]
  },
  {
   "cell_type": "code",
   "execution_count": null,
   "metadata": {},
   "outputs": [],
   "source": []
  }
 ],
 "metadata": {
  "kernelspec": {
   "display_name": "Python 3",
   "language": "python",
   "name": "python3"
  },
  "language_info": {
   "codemirror_mode": {
    "name": "ipython",
    "version": 3
   },
   "file_extension": ".py",
   "mimetype": "text/x-python",
   "name": "python",
   "nbconvert_exporter": "python",
   "pygments_lexer": "ipython3",
   "version": "3.10.5 (tags/v3.10.5:f377153, Jun  6 2022, 16:14:13) [MSC v.1929 64 bit (AMD64)]"
  },
  "orig_nbformat": 4,
  "vscode": {
   "interpreter": {
    "hash": "e89c93e4c07d4ac8f065cea982a638287e1c61026788fcbbad7e0263e2130583"
   }
  }
 },
 "nbformat": 4,
 "nbformat_minor": 2
}
