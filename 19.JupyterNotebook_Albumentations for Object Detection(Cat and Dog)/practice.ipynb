{
 "cells": [
  {
   "cell_type": "code",
   "execution_count": 9,
   "metadata": {},
   "outputs": [],
   "source": [
    "import random\n",
    "import cv2\n",
    "import albumentations as A\n",
    "import numpy as np "
   ]
  },
  {
   "cell_type": "code",
   "execution_count": 10,
   "metadata": {},
   "outputs": [],
   "source": [
    "BOX_COLOR = (255,0,0) # red color\n",
    "TEXT_COLOR = (255,255,255) # white color"
   ]
  },
  {
   "cell_type": "code",
   "execution_count": 18,
   "metadata": {},
   "outputs": [],
   "source": [
    "# visualize a single bounding box on the image\n",
    "def visualize_bbox(image, bboxes, category_ids, category_id_to_name, color=BOX_COLOR, thickness=2) :\n",
    "    img = image.copy()\n",
    "    for bbox, category_id in zip(bboxes, category_ids) :\n",
    "        class_name = category_id_to_name[category_id]\n",
    "        # print('class_name >>> ', class_name)\n",
    "        x_min, y_min, w, h = bbox\n",
    "        x_min, x_max, y_min, y_max = int(x_min), int(x_min + w), int(y_min), int(y_min + h)\n",
    "\n",
    "        cv2.rectangle(img, (x_min, y_min), (x_max, y_max), color=color, thickness=thickness)\n",
    "        cv2.putText(img, text=class_name, org=(x_min, y_min+30), fontFace=cv2.FONT_HERSHEY_COMPLEX, fontScale=1, color=color, thickness=thickness)\n",
    "    cv2.imshow(\"test\", img)\n",
    "    cv2.waitKey(0)"
   ]
  },
  {
   "cell_type": "code",
   "execution_count": 22,
   "metadata": {},
   "outputs": [],
   "source": [
    "image = cv2.imread(\"./cat.png\")"
   ]
  },
  {
   "cell_type": "code",
   "execution_count": 23,
   "metadata": {},
   "outputs": [],
   "source": [
    "# cat --> [3.96, 183.38, 200.88, 214.03] 1\n",
    "# dog --> [468.94, 92.01, 171.06,248.45] 2\n",
    "bboxes = [[3.96, 183.38, 200.88, 214.03], [468.94, 92.01, 171.06,248.45]]\n",
    "category_ids = [1, 2]\n",
    "category_id_to_name = {1 : 'cat', 2 : 'dog'}"
   ]
  },
  {
   "cell_type": "code",
   "execution_count": 25,
   "metadata": {},
   "outputs": [],
   "source": [
    "transform = A.Compose([\n",
    "    A.RandomSizedBBoxSafeCrop(width=450, height=360, erosion_rate=0.2),\n",
    "    A.HorizontalFlip(p=1),\n",
    "    A.RandomRotate90(p=1),\n",
    "    A.MultiplicativeNoise(multiplier=[0.5, 1.5], elementwise=True, p=1),\n",
    "    A.MultiplicativeNoise(multiplier=0.5, p=1)\n",
    "    # A.MultiplicativeNoise(multiplier=[0.5, 1.5], elementwise=True, p=1)\n",
    "], bbox_params=A.BboxParams(format='coco', label_fields=['category_ids']))"
   ]
  },
  {
   "cell_type": "code",
   "execution_count": 26,
   "metadata": {},
   "outputs": [],
   "source": [
    "transformed = transform(image=image, bboxes = bboxes, category_ids=category_ids)"
   ]
  },
  {
   "cell_type": "code",
   "execution_count": 27,
   "metadata": {},
   "outputs": [],
   "source": [
    "visualize_bbox(transformed['image'], transformed['bboxes'], transformed['category_ids'], category_id_to_name, color=BOX_COLOR, thickness=2)"
   ]
  },
  {
   "cell_type": "code",
   "execution_count": null,
   "metadata": {},
   "outputs": [],
   "source": []
  }
 ],
 "metadata": {
  "kernelspec": {
   "display_name": "Python 3",
   "language": "python",
   "name": "python3"
  },
  "language_info": {
   "codemirror_mode": {
    "name": "ipython",
    "version": 3
   },
   "file_extension": ".py",
   "mimetype": "text/x-python",
   "name": "python",
   "nbconvert_exporter": "python",
   "pygments_lexer": "ipython3",
   "version": "3.10.5 (tags/v3.10.5:f377153, Jun  6 2022, 16:14:13) [MSC v.1929 64 bit (AMD64)]"
  },
  "orig_nbformat": 4,
  "vscode": {
   "interpreter": {
    "hash": "e89c93e4c07d4ac8f065cea982a638287e1c61026788fcbbad7e0263e2130583"
   }
  }
 },
 "nbformat": 4,
 "nbformat_minor": 2
}
