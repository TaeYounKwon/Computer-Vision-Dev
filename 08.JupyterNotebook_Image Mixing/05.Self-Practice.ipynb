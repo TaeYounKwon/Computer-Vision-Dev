{
 "cells": [
  {
   "cell_type": "code",
   "execution_count": 9,
   "metadata": {},
   "outputs": [],
   "source": [
    "import cv2\n",
    "import numpy as np"
   ]
  },
  {
   "cell_type": "code",
   "execution_count": 13,
   "metadata": {},
   "outputs": [],
   "source": [
    "face_cascade = cv2.CascadeClassifier(cv2.data.haarcascades + 'haarcascade_frontalface_default.xml')\n",
    "eye_cascade = cv2.CascadeClassifier(cv2.data.haarcascades + 'haarcascade_eye.xml')"
   ]
  },
  {
   "cell_type": "code",
   "execution_count": 14,
   "metadata": {},
   "outputs": [
    {
     "data": {
      "text/plain": [
       "-1"
      ]
     },
     "execution_count": 14,
     "metadata": {},
     "output_type": "execute_result"
    }
   ],
   "source": [
    "img = cv2.imread(\"./sample.jpg\")\n",
    "cv2.imshow(\"check\", img)\n",
    "cv2.waitKey(0)"
   ]
  },
  {
   "cell_type": "code",
   "execution_count": 15,
   "metadata": {},
   "outputs": [],
   "source": [
    "gray = cv2.cvtColor(img, cv2.COLOR_BGR2GRAY)\n",
    "faces = face_cascade.detectMultiScale(gray, 1.1, 4)"
   ]
  },
  {
   "cell_type": "code",
   "execution_count": 16,
   "metadata": {},
   "outputs": [
    {
     "name": "stdout",
     "output_type": "stream",
     "text": [
      "3\n"
     ]
    }
   ],
   "source": [
    "face_crop = []\n",
    "for (x, y, w, h) in faces:\n",
    "    face_crop.append(img[y:(y+h), x:(x+w)])\n",
    "\n",
    "print(len(face_crop))"
   ]
  },
  {
   "cell_type": "code",
   "execution_count": 30,
   "metadata": {},
   "outputs": [],
   "source": [
    "mask = np.zeros((683, 1024, 3), dtype='uint8')\n",
    "cv2.rectangle(mask, (60, 50), (280, 280), (255, 255, 255), -1)\n",
    "cv2.rectangle(mask, (420, 50), (550, 230), (255, 255, 255), -1)\n",
    "cv2.rectangle(mask, (750, 50), (920, 280), (255, 255, 255), -1)\n",
    "\n",
    "x_offset = [60,420,750]\n",
    "y_offset = [50,50,50]\n",
    "\n",
    "x_end = [280,550,920]\n",
    "y_end =[280,230,280]"
   ]
  },
  {
   "cell_type": "code",
   "execution_count": 31,
   "metadata": {},
   "outputs": [],
   "source": [
    "for i in range(len(face_crop)-1):\n",
    "    face_crop_resize1 = cv2.resize(face_crop[0],(x_end[0]-x_offset[0], y_end[0]-y_offset[0]))\n",
    "    face_crop_resize2 = cv2.resize(face_crop[1],(x_end[1]-x_offset[1], y_end[1]-y_offset[1]))\n",
    "    face_crop_resize3 = cv2.resize(face_crop[2],(x_end[2]-x_offset[2], y_end[2]-y_offset[2]))"
   ]
  },
  {
   "cell_type": "code",
   "execution_count": 32,
   "metadata": {},
   "outputs": [],
   "source": [
    "mask[y_offset[0]:y_offset[0]+face_crop_resize1.shape[0], \n",
    "     x_offset[0]:x_offset[0]+face_crop_resize1.shape[1]] = face_crop_resize1\n",
    "\n",
    "mask[y_offset[1]:y_offset[1]+face_crop_resize2.shape[0], \n",
    "     x_offset[1]:x_offset[1]+face_crop_resize2.shape[1]] = face_crop_resize2\n",
    "\n",
    "mask[y_offset[2]:y_offset[2]+face_crop_resize3.shape[0], \n",
    "     x_offset[2]:x_offset[2]+face_crop_resize3.shape[1]] = face_crop_resize3"
   ]
  },
  {
   "cell_type": "code",
   "execution_count": 33,
   "metadata": {},
   "outputs": [
    {
     "data": {
      "text/plain": [
       "-1"
      ]
     },
     "execution_count": 33,
     "metadata": {},
     "output_type": "execute_result"
    }
   ],
   "source": [
    "cv2.imshow(\"Before\", img)\n",
    "cv2.imshow(\"After\", mask)\n",
    "cv2.waitKey(0)"
   ]
  }
 ],
 "metadata": {
  "kernelspec": {
   "display_name": "Python 3",
   "language": "python",
   "name": "python3"
  },
  "language_info": {
   "codemirror_mode": {
    "name": "ipython",
    "version": 3
   },
   "file_extension": ".py",
   "mimetype": "text/x-python",
   "name": "python",
   "nbconvert_exporter": "python",
   "pygments_lexer": "ipython3",
   "version": "3.10.5 (tags/v3.10.5:f377153, Jun  6 2022, 16:14:13) [MSC v.1929 64 bit (AMD64)]"
  },
  "orig_nbformat": 4,
  "vscode": {
   "interpreter": {
    "hash": "e89c93e4c07d4ac8f065cea982a638287e1c61026788fcbbad7e0263e2130583"
   }
  }
 },
 "nbformat": 4,
 "nbformat_minor": 2
}
