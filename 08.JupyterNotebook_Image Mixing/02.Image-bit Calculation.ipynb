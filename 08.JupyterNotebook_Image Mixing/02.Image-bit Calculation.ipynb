{
 "cells": [
  {
   "cell_type": "code",
   "execution_count": 1,
   "metadata": {},
   "outputs": [],
   "source": [
    "import cv2\n",
    "import numpy as np"
   ]
  },
  {
   "cell_type": "code",
   "execution_count": 4,
   "metadata": {},
   "outputs": [
    {
     "data": {
      "text/plain": [
       "-1"
      ]
     },
     "execution_count": 4,
     "metadata": {},
     "output_type": "execute_result"
    }
   ],
   "source": [
    "# ex-01: 사각형 생성\n",
    "img_rectangle = np.ones((400, 400), dtype='uint8')\n",
    "cv2.rectangle(img_rectangle, (50, 50), (300, 300), (255, 255, 255), -1)\n",
    "cv2.imshow(\"image show\", img_rectangle)\n",
    "cv2.waitKey(0)"
   ]
  },
  {
   "cell_type": "code",
   "execution_count": 6,
   "metadata": {},
   "outputs": [
    {
     "data": {
      "text/plain": [
       "-1"
      ]
     },
     "execution_count": 6,
     "metadata": {},
     "output_type": "execute_result"
    }
   ],
   "source": [
    "# ex-02: 우측 아래 1/4크기의 원 생성\n",
    "img_circle = np.ones((400, 400), dtype='uint8')\n",
    "cv2.circle(img_circle, (300, 300), 70, (255, 255, 255), -1)\n",
    "cv2.imshow(\"image show\", img_circle)\n",
    "cv2.waitKey(0)"
   ]
  },
  {
   "cell_type": "code",
   "execution_count": 9,
   "metadata": {},
   "outputs": [
    {
     "data": {
      "text/plain": [
       "-1"
      ]
     },
     "execution_count": 9,
     "metadata": {},
     "output_type": "execute_result"
    }
   ],
   "source": [
    "# ex-03: 사각형과 원의 OR 값\n",
    "bitwiseOr = cv2.bitwise_or(img_rectangle, img_circle)\n",
    "cv2.imshow(\"image bitwiseOr\", bitwiseOr)\n",
    "cv2.waitKey(0)"
   ]
  },
  {
   "cell_type": "code",
   "execution_count": 10,
   "metadata": {},
   "outputs": [
    {
     "data": {
      "text/plain": [
       "-1"
      ]
     },
     "execution_count": 10,
     "metadata": {},
     "output_type": "execute_result"
    }
   ],
   "source": [
    "# ex-04: 사각형과 원의 AND 값\n",
    "bitwiseAnd = cv2.bitwise_and(img_rectangle, img_circle)\n",
    "cv2.imshow(\"image bitwiseAnd\", bitwiseAnd)\n",
    "cv2.waitKey(0)"
   ]
  },
  {
   "cell_type": "code",
   "execution_count": 13,
   "metadata": {},
   "outputs": [
    {
     "data": {
      "text/plain": [
       "-1"
      ]
     },
     "execution_count": 13,
     "metadata": {},
     "output_type": "execute_result"
    }
   ],
   "source": [
    "# ex-05: 사각형과 원의 XOR(OR-AND) 값\n",
    "bitwiseXor = cv2.bitwise_xor(img_rectangle, img_circle)\n",
    "cv2.imshow(\"Xor\", bitwiseXor)\n",
    "cv2.waitKey(0)"
   ]
  },
  {
   "cell_type": "code",
   "execution_count": 12,
   "metadata": {},
   "outputs": [
    {
     "data": {
      "text/plain": [
       "-1"
      ]
     },
     "execution_count": 12,
     "metadata": {},
     "output_type": "execute_result"
    }
   ],
   "source": [
    "# ex-06: 사각형이 아닌 값 (ALL-사각형)\n",
    "rec_not = cv2.bitwise_not(img_rectangle)\n",
    "cv2.imshow(\"rectangle not \", rec_not)\n",
    "cv2.waitKey(0)"
   ]
  },
  {
   "cell_type": "code",
   "execution_count": 14,
   "metadata": {},
   "outputs": [
    {
     "data": {
      "text/plain": [
       "-1"
      ]
     },
     "execution_count": 14,
     "metadata": {},
     "output_type": "execute_result"
    }
   ],
   "source": [
    "# ex-07: 원이 아닌 값 (ALL-원)\n",
    "circle_not = cv2.bitwise_not(img_circle)\n",
    "cv2.imshow(\"circle not \", circle_not)\n",
    "cv2.waitKey(0)"
   ]
  },
  {
   "cell_type": "code",
   "execution_count": 15,
   "metadata": {},
   "outputs": [
    {
     "data": {
      "text/plain": [
       "-1"
      ]
     },
     "execution_count": 15,
     "metadata": {},
     "output_type": "execute_result"
    }
   ],
   "source": [
    "# ex-08: 마스킹 과제는 흰색대신 이미지를 넣어주시면 됩니다. (원하는 이미지 혹은 얼굴이미지)\n",
    "mask = np.zeros((683, 1024), dtype='uint8')\n",
    "cv2.rectangle(mask, (60, 50), (280, 280), (255, 255, 255), -1)\n",
    "cv2.rectangle(mask, (420, 50), (550, 230), (255, 255, 255), -1)\n",
    "cv2.rectangle(mask, (750, 50), (920, 280), (255, 255, 255), -1)\n",
    "cv2.imshow(\"...\", mask)\n",
    "cv2.waitKey(0)"
   ]
  },
  {
   "cell_type": "code",
   "execution_count": null,
   "metadata": {},
   "outputs": [],
   "source": []
  }
 ],
 "metadata": {
  "kernelspec": {
   "display_name": "Python 3",
   "language": "python",
   "name": "python3"
  },
  "language_info": {
   "codemirror_mode": {
    "name": "ipython",
    "version": 3
   },
   "file_extension": ".py",
   "mimetype": "text/x-python",
   "name": "python",
   "nbconvert_exporter": "python",
   "pygments_lexer": "ipython3",
   "version": "3.10.5"
  },
  "orig_nbformat": 4,
  "vscode": {
   "interpreter": {
    "hash": "e89c93e4c07d4ac8f065cea982a638287e1c61026788fcbbad7e0263e2130583"
   }
  }
 },
 "nbformat": 4,
 "nbformat_minor": 2
}
