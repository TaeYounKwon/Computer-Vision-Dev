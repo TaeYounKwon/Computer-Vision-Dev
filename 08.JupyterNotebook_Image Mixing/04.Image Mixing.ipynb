{
 "cells": [
  {
   "attachments": {},
   "cell_type": "markdown",
   "metadata": {},
   "source": [
    "### 블랜딩 작업\n",
    "\n",
    "- 첫 번째(배경 이미지)에서 ROI(관심 영역)을 선택하고 해당 영역의 값을 두번째 이미지의 값으로 대체한 다음 다시 추가해야함\n",
    "\n",
    "- 그러나 두번째의 이미지에는 이미 흰 배경이 깔려있음\n",
    "\n",
    "- 배경 제거(로고만 보이기 위해서)를 하기 위해 마스킹 절차와 비트 연산을 수행해야함\n",
    "\n",
    "- 01.Blnded Image.ipynb 에서 했던 cv2.addWeighted 방식을 사용 할 수 없음(이미지를 합친 부분의 색이 달라짐)\n",
    "\n",
    "#### 최종 목표(로고를 빨간색 글씨로 바꾼 뒤 자연스럽게 배경 이미지에 넣는 것) \n",
    "\n",
    "01. 배경이미지의 ROI를 찾고\n",
    "\n",
    "02. 워터마크는 cv2.resize()후 cv2.cvtColor()를 통한 흑백화\n",
    "\n",
    "03. 그 후, 워터마크는 cv2.threshold()를 통해 이미지 임계처리\n",
    "    - (두 개의 결과를 반환하는데 첫 번째 결과인 ret은 스레시홀딩에 사용한 임계값이고, 두번째 결과인 out은 스레시홀딩이 적용된 바이너리 이미지입니다.)\n",
    "\n",
    "\n",
    "04. 배경과 워터마크 이미지 둘다 cv2.bitwise_##를 통해 여러번(필요시!) 작업해줌\n",
    "\n",
    "05. cv2.add()를 통해 두 이미지를 합쳐줌"
   ]
  },
  {
   "cell_type": "code",
   "execution_count": 30,
   "metadata": {},
   "outputs": [],
   "source": [
    "import cv2\n",
    "import matplotlib.image as mimg\n",
    "import matplotlib.pyplot as plt"
   ]
  },
  {
   "cell_type": "code",
   "execution_count": 24,
   "metadata": {},
   "outputs": [],
   "source": [
    "large_img = cv2.imread('ex_image.png')\n",
    "watermark = cv2.imread('ex_image_logo.png')"
   ]
  },
  {
   "cell_type": "code",
   "execution_count": 25,
   "metadata": {},
   "outputs": [],
   "source": [
    "x_offset = 400\n",
    "y_offset = 170"
   ]
  },
  {
   "cell_type": "code",
   "execution_count": 35,
   "metadata": {},
   "outputs": [],
   "source": [
    "# STEP 1\n",
    "roi = large_img[y_offset:470, x_offset:700]"
   ]
  },
  {
   "cell_type": "code",
   "execution_count": 15,
   "metadata": {},
   "outputs": [],
   "source": [
    "# STEP 2: logo image 빨간색 부분을 제외한 모든 것을 필터링 하도록 -> 회색조 이미지로 변경\n",
    "small_img = cv2.resize(watermark, (300, 300))\n",
    "small_img_gray = cv2.cvtColor(small_img, cv2.COLOR_BGR2GRAY)"
   ]
  },
  {
   "cell_type": "code",
   "execution_count": 16,
   "metadata": {},
   "outputs": [],
   "source": [
    "# STEP 3: 임계처리(로고 값만 뽑아 비워둠) \n",
    "ret, mask = cv2.threshold(small_img_gray, 120, 255, cv2.THRESH_BINARY)\n"
   ]
  },
  {
   "cell_type": "code",
   "execution_count": 18,
   "metadata": {},
   "outputs": [],
   "source": [
    "# STEP 4: cv2.bitwise_## 처리\n",
    "\n",
    "# bg <= bitwise_or을 통해 배경과 로고만 빼고 비워있는 mask값을 OR을 통해 합침\n",
    "bg = cv2.bitwise_or(roi, roi, mask=mask)\n",
    "\n",
    "# mask_inv <= bitwise_not을 통해 배경이 비워진 로고 값만 추출\n",
    "mask_inv = cv2.bitwise_not(mask)"
   ]
  },
  {
   "cell_type": "code",
   "execution_count": 19,
   "metadata": {},
   "outputs": [],
   "source": [
    "# STEP 4: 원본 로고 이미지의 붉은 부분색을 로고색과 합침\n",
    "# 결과적으로 배경이 비워진 붉은 로고색으로 변경\n",
    "fg = cv2.bitwise_and(small_img, small_img, mask=mask_inv)"
   ]
  },
  {
   "cell_type": "code",
   "execution_count": null,
   "metadata": {},
   "outputs": [],
   "source": []
  },
  {
   "cell_type": "code",
   "execution_count": 20,
   "metadata": {},
   "outputs": [],
   "source": [
    "# STEP 5: 붉게 변한 로고(배경X)과 ROI영역(검은색 로고로 되어있는) 값을 합침\n",
    "final_roi = cv2.add(bg, fg)"
   ]
  },
  {
   "cell_type": "code",
   "execution_count": 21,
   "metadata": {},
   "outputs": [],
   "source": [
    "# 이미지에 수정된 FINAL_ROI를 붙여넣기\n",
    "large_img[y_offset: y_offset + small_img.shape[0],\n",
    "          x_offset: x_offset+small_img.shape[1]] = final_roi"
   ]
  },
  {
   "cell_type": "code",
   "execution_count": 22,
   "metadata": {},
   "outputs": [
    {
     "data": {
      "text/plain": [
       "-1"
      ]
     },
     "execution_count": 22,
     "metadata": {},
     "output_type": "execute_result"
    }
   ],
   "source": [
    "cv2.imshow(\"test\", large_img)\n",
    "cv2.waitKey(0)"
   ]
  }
 ],
 "metadata": {
  "kernelspec": {
   "display_name": "Python 3",
   "language": "python",
   "name": "python3"
  },
  "language_info": {
   "codemirror_mode": {
    "name": "ipython",
    "version": 3
   },
   "file_extension": ".py",
   "mimetype": "text/x-python",
   "name": "python",
   "nbconvert_exporter": "python",
   "pygments_lexer": "ipython3",
   "version": "3.10.5"
  },
  "orig_nbformat": 4,
  "vscode": {
   "interpreter": {
    "hash": "e89c93e4c07d4ac8f065cea982a638287e1c61026788fcbbad7e0263e2130583"
   }
  }
 },
 "nbformat": 4,
 "nbformat_minor": 2
}
