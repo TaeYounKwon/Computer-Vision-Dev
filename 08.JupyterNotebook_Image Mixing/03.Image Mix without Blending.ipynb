{
 "cells": [
  {
   "attachments": {},
   "cell_type": "markdown",
   "metadata": {},
   "source": [
    "### 블렌딩이 아닌 붙여넣기 기술\n",
    "\n",
    "- 이제 우리는 더 큰 이미지 픽셀 값 덩어리를 가져와 더 작은 이미지의 전체 콘텐츠로 대체하는 실제 논리를 파악해야 합니다. 실제로는 다음 이미지에 설명된 매우 간단한 프로세스입니다.\n"
   ]
  },
  {
   "cell_type": "code",
   "execution_count": 8,
   "metadata": {},
   "outputs": [],
   "source": [
    "import cv2"
   ]
  },
  {
   "cell_type": "code",
   "execution_count": 9,
   "metadata": {},
   "outputs": [],
   "source": [
    "large_img = cv2.imread('ex_image.png')\n",
    "watermark = cv2.imread('ex_image_logo.png')"
   ]
  },
  {
   "cell_type": "code",
   "execution_count": 11,
   "metadata": {},
   "outputs": [
    {
     "data": {
      "text/plain": [
       "-1"
      ]
     },
     "execution_count": 11,
     "metadata": {},
     "output_type": "execute_result"
    }
   ],
   "source": [
    "small_img = cv2.resize(watermark, (300, 300))\n",
    "cv2.imshow(\"check before\", small_img)\n",
    "cv2.waitKey(0)"
   ]
  },
  {
   "attachments": {},
   "cell_type": "markdown",
   "metadata": {},
   "source": [
    "- 여기서는 기본적으로 작은 이미지의 길이에 오프셋을 더한 값입니다. 튜플을 반환하는 작은 이미지의\n",
    "모양을 잡을 수 있습니다. \n",
    "\n",
    "- 여기에서 작은 이미지의 너비가 필요하며 이는 튜플의 두 번째 숫자입니다. \n",
    "\n",
    "- 그런 다음 에 대해 동일한 코드를 작성하지만 작은 이미지의 높이인 튜플의 첫 번째 숫자를 사용합니다."
   ]
  },
  {
   "cell_type": "code",
   "execution_count": 4,
   "metadata": {},
   "outputs": [],
   "source": [
    "x_offset = 30\n",
    "y_offset = 170"
   ]
  },
  {
   "cell_type": "code",
   "execution_count": 5,
   "metadata": {},
   "outputs": [],
   "source": [
    "x_end = x_offset + small_img.shape[0]\n",
    "y_end = y_offset + small_img.shape[1]"
   ]
  },
  {
   "cell_type": "code",
   "execution_count": 13,
   "metadata": {},
   "outputs": [
    {
     "data": {
      "text/plain": [
       "-1"
      ]
     },
     "execution_count": 13,
     "metadata": {},
     "output_type": "execute_result"
    }
   ],
   "source": [
    "# 이미지가 들어가기 전 원본 이미지를 확인\n",
    "crop = large_img[y_offset:y_end, x_offset:x_end]\n",
    "cv2.imshow(\"check crop\", crop)\n",
    "cv2.waitKey(0)"
   ]
  },
  {
   "cell_type": "code",
   "execution_count": 14,
   "metadata": {},
   "outputs": [
    {
     "data": {
      "text/plain": [
       "-1"
      ]
     },
     "execution_count": 14,
     "metadata": {},
     "output_type": "execute_result"
    }
   ],
   "source": [
    "# 들어간 후의 이미지를 확인\n",
    "large_img[y_offset:y_end, x_offset:x_end] = small_img\n",
    "cv2.imshow(\"test\", large_img)\n",
    "cv2.waitKey(0)\n"
   ]
  }
 ],
 "metadata": {
  "kernelspec": {
   "display_name": "Python 3",
   "language": "python",
   "name": "python3"
  },
  "language_info": {
   "codemirror_mode": {
    "name": "ipython",
    "version": 3
   },
   "file_extension": ".py",
   "mimetype": "text/x-python",
   "name": "python",
   "nbconvert_exporter": "python",
   "pygments_lexer": "ipython3",
   "version": "3.10.5"
  },
  "orig_nbformat": 4,
  "vscode": {
   "interpreter": {
    "hash": "e89c93e4c07d4ac8f065cea982a638287e1c61026788fcbbad7e0263e2130583"
   }
  }
 },
 "nbformat": 4,
 "nbformat_minor": 2
}
