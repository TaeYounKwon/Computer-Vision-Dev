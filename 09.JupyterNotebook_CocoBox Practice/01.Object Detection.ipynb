{
 "cells": [
  {
   "cell_type": "code",
   "execution_count": 1,
   "metadata": {},
   "outputs": [],
   "source": [
    "import os\n",
    "import json\n",
    "import cv2\n",
    "import pandas as pd"
   ]
  },
  {
   "cell_type": "code",
   "execution_count": 3,
   "metadata": {},
   "outputs": [],
   "source": [
    "# json path\n",
    "json_path = \"./annotations/instances_default.json\""
   ]
  },
  {
   "attachments": {},
   "cell_type": "markdown",
   "metadata": {},
   "source": [
    "### json 파일 읽기\n",
    "\n",
    "- import json이 필요함\n",
    "\n",
    "- assert 조건, 조건실패시 메세지: 방어적 코딩을 위해 사용하는 조건문\n",
    "\n",
    "    - 조건 실패시 에러 메세지와 조건실패시 메세지가 같이 나옴\n",
    "\n"
   ]
  },
  {
   "cell_type": "code",
   "execution_count": 9,
   "metadata": {},
   "outputs": [],
   "source": [
    "with open(json_path, \"r\") as f:\n",
    "    coco_info = json.load(f)\n",
    "\n",
    "assert len(coco_info) > 0, \"파일 읽기 실패\""
   ]
  },
  {
   "attachments": {},
   "cell_type": "markdown",
   "metadata": {},
   "source": [
    "### json파일에서 카테고리 정보 수집"
   ]
  },
  {
   "cell_type": "code",
   "execution_count": 10,
   "metadata": {},
   "outputs": [
    {
     "name": "stdout",
     "output_type": "stream",
     "text": [
      "categories info >>  {1: 'kiwi'}\n"
     ]
    }
   ],
   "source": [
    "categories = dict()\n",
    "for category in coco_info['categories']:\n",
    "    categories[category[\"id\"]] = category[\"name\"]\n",
    "    \n",
    "print(\"categories info >> \", categories)"
   ]
  },
  {
   "attachments": {},
   "cell_type": "markdown",
   "metadata": {},
   "source": [
    "### json파일에서 annotation 정보 수집\n",
    "\n",
    "- dict()을 사용\n",
    "\n",
    "    - image_id가 없을시 boxes정보와 categories정보를 입력\n",
    "\n",
    "    - image_id가 존재할 경우, boxes정보와 categories정보를 추가시켜줌 "
   ]
  },
  {
   "cell_type": "code",
   "execution_count": 11,
   "metadata": {},
   "outputs": [
    {
     "name": "stdout",
     "output_type": "stream",
     "text": [
      "ann_info >>  {1: {'boxes': [[0.0, 29.22, 251.91, 191.06], [102.27, 199.74, 192.79, 107.54], [245.99, 0.68, 213.33, 100.93], [265.83, 57.76, 205.67, 182.7]], 'categories': [1, 'kiwi', 'kiwi', 'kiwi']}, 2: {'boxes': [[186.13, 23.4, 157.78, 154.28], [8.81, 8.74, 163.01, 192.33], [132.7, 162.7, 166.18, 149.02]], 'categories': [1, 'kiwi', 'kiwi']}, 3: {'boxes': [[391.27, 106.11, 356.75, 398.12], [32.72, 91.12, 368.14, 337.57]], 'categories': [1, 'kiwi']}, 4: {'boxes': [[419.42, 189.47, 289.31, 308.96], [166.27, 309.75, 367.93, 310.53], [43.63, 158.02, 382.08, 303.46]], 'categories': [1, 'kiwi', 'kiwi']}, 5: {'boxes': [[238.73, 84.38, 218.03, 249.48], [165.36, 189.73, 233.75, 222.22], [38.52, 142.03, 202.31, 204.41]], 'categories': [1, 'kiwi', 'kiwi']}, 6: {'boxes': [[73.13, 63.29, 57.0, 56.78], [114.76, 69.82, 55.44, 60.23], [110.54, 10.0, 45.26, 61.73], [57.79, 9.01, 52.75, 57.35], [49.16, 113.55, 71.35, 62.54], [0.24, 103.0, 49.11, 67.52], [7.72, 54.66, 55.82, 56.01], [16.35, 16.3, 46.81, 44.69], [0.0, 0.76, 27.1, 51.02], [0.05, 56.39, 18.8, 58.7], [54.14, 0.57, 64.46, 22.82]], 'categories': [1, 'kiwi', 'kiwi', 'kiwi', 'kiwi', 'kiwi', 'kiwi', 'kiwi', 'kiwi', 'kiwi', 'kiwi']}, 7: {'boxes': [[684.58, 90.83, 459.17, 435.0], [432.92, 337.5, 401.66, 410.83], [162.92, 342.5, 284.16, 344.17], [254.58, 60.0, 472.5, 411.67]], 'categories': [1, 'kiwi', 'kiwi', 'kiwi']}}\n"
     ]
    }
   ],
   "source": [
    "ann_info = dict()\n",
    "for annotation in coco_info['annotations']:\n",
    "    image_id = annotation[\"image_id\"]\n",
    "    bbox = annotation[\"bbox\"]\n",
    "    category_id = annotation[\"category_id\"]\n",
    "\n",
    "    if image_id not in ann_info:\n",
    "        ann_info[image_id] = {\n",
    "            \"boxes\": [bbox], \"categories\": [category_id]\n",
    "        }\n",
    "    else:\n",
    "        ann_info[image_id][\"boxes\"].append(bbox)\n",
    "        ann_info[image_id][\"categories\"].append(categories[category_id])\n",
    "\n",
    "print(\"ann_info >> \", ann_info)"
   ]
  },
  {
   "attachments": {},
   "cell_type": "markdown",
   "metadata": {},
   "source": [
    "### 이미지 정보 출력\n",
    "\n",
    "- json파일의 'images' 태그에서 width, height, id정보를 찾아옴\n",
    "\n",
    "- 이미지를 불러온 후, json에서 불러온 박스정보를 토대로 bounding box를 이미지에 그려줌\n",
    "\n"
   ]
  },
  {
   "cell_type": "code",
   "execution_count": 27,
   "metadata": {},
   "outputs": [
    {
     "name": "stdout",
     "output_type": "stream",
     "text": [
      "kiwi_1.jpg 500 332 1\n",
      "0.0 29.22 251.91 191.06\n",
      "102.27 199.74 192.79 107.54\n",
      "245.99 0.68 213.33 100.93\n",
      "265.83 57.76 205.67 182.7\n",
      "kiwi_2.jpg 388 333 2\n",
      "186.13 23.4 157.78 154.28\n",
      "8.81 8.74 163.01 192.33\n",
      "132.7 162.7 166.18 149.02\n",
      "kiwi_3.jpg 764 572 3\n",
      "391.27 106.11 356.75 398.12\n",
      "32.72 91.12 368.14 337.57\n",
      "kiwi_4.jpg 750 750 4\n",
      "419.42 189.47 289.31 308.96\n",
      "166.27 309.75 367.93 310.53\n",
      "43.63 158.02 382.08 303.46\n",
      "kiwi_5.jpg 500 500 5\n",
      "238.73 84.38 218.03 249.48\n",
      "165.36 189.73 233.75 222.22\n",
      "38.52 142.03 202.31 204.41\n",
      "kiwi_6.jpg 275 183 6\n",
      "73.13 63.29 57.0 56.78\n",
      "114.76 69.82 55.44 60.23\n",
      "110.54 10.0 45.26 61.73\n",
      "57.79 9.01 52.75 57.35\n",
      "49.16 113.55 71.35 62.54\n",
      "0.24 103.0 49.11 67.52\n",
      "7.72 54.66 55.82 56.01\n",
      "16.35 16.3 46.81 44.69\n",
      "0.0 0.76 27.1 51.02\n",
      "0.05 56.39 18.8 58.7\n",
      "54.14 0.57 64.46 22.82\n",
      "kiwi_7.jpg 1200 795 7\n",
      "684.58 90.83 459.17 435.0\n",
      "432.92 337.5 401.66 410.83\n",
      "162.92 342.5 284.16 344.17\n",
      "254.58 60.0 472.5 411.67\n"
     ]
    },
    {
     "ename": "",
     "evalue": "",
     "output_type": "error",
     "traceback": [
      "\u001b[1;31mThe Kernel crashed while executing code in the the current cell or a previous cell. Please review the code in the cell(s) to identify a possible cause of the failure. Click <a href='https://aka.ms/vscodeJupyterKernelCrash'>here</a> for more info. View Jupyter <a href='command:jupyter.viewOutput'>log</a> for further details."
     ]
    }
   ],
   "source": [
    "file_list = []\n",
    "x_list, y_list, w_list, h_list = [], [], [], []\n",
    "\n",
    "for image_info in coco_info['images']:\n",
    "    \n",
    "    filename = image_info['file_name']\n",
    "    width = image_info['width']\n",
    "    height = image_info['height']\n",
    "    img_id = image_info['id']\n",
    "    print(filename, width, height, img_id)\n",
    "\n",
    "    # 이미지 가져오기 위한 처리\n",
    "    file_path = os.path.join(\"./images\", filename)\n",
    "    img = cv2.imread(file_path)\n",
    "    try:\n",
    "        annotation = ann_info[img_id]\n",
    "    except KeyError:\n",
    "        continue\n",
    "    \n",
    "    # box category\n",
    "    for bbox, category in zip(annotation['boxes'], annotation['categories']):\n",
    "        x1, y1, w, h = bbox\n",
    "        rec_img = cv2.rectangle(img, (int(x1), int(y1)),\n",
    "                                (int(x1+w), int(y1+h)), (225, 0, 255), 2)\n",
    "        print(x1, y1, w, h)\n",
    "    \n",
    "    # cv2.imshow(\"test\", rec_img)\n",
    "    # cv2.waitKey(0)\n",
    "    \n",
    "    file_list.append(filename)\n",
    "    x_list.append(x1)\n",
    "    y_list.append(y1)\n",
    "    w_list.append(w)\n",
    "    h_list.append(h)\n",
    "    \n",
    "data_dict = {'fileName' : file_list,\n",
    "'x1': x_list,\n",
    "'y1': y_list,\n",
    "'w' : w_list,\n",
    "'h' : h_list\n",
    "}\n",
    "df = pd.DataFrame(data_dict)\n",
    "df.to_csv('./', sep=',')\n",
    "# print(df.head(10))"
   ]
  },
  {
   "cell_type": "code",
   "execution_count": null,
   "metadata": {},
   "outputs": [],
   "source": []
  },
  {
   "attachments": {},
   "cell_type": "markdown",
   "metadata": {},
   "source": [
    "### 이미지에 그려진 박스 정보를 xml파일로 저장"
   ]
  },
  {
   "cell_type": "code",
   "execution_count": 12,
   "metadata": {},
   "outputs": [
    {
     "name": "stdout",
     "output_type": "stream",
     "text": [
      "---------------------------\n",
      "image info:  {'id': 1, 'width': 500, 'height': 332, 'file_name': 'kiwi_1.jpg', 'license': 0, 'flickr_url': '', 'coco_url': '', 'date_captured': 0}\n",
      "kiwi_1.jpg 500 332 1\n",
      "kiwi_1.jpg 0.0 29.22 251.91 191.06\n",
      "kiwi_1.jpg 102.27 199.74 192.79 107.54\n",
      "kiwi_1.jpg 245.99 0.68 213.33 100.93\n",
      "kiwi_1.jpg 265.83 57.76 205.67 182.7\n",
      "xml ok \n",
      "---------------------------\n",
      "image info:  {'id': 2, 'width': 388, 'height': 333, 'file_name': 'kiwi_2.jpg', 'license': 0, 'flickr_url': '', 'coco_url': '', 'date_captured': 0}\n",
      "kiwi_2.jpg 388 333 2\n",
      "kiwi_2.jpg 186.13 23.4 157.78 154.28\n",
      "kiwi_2.jpg 8.81 8.74 163.01 192.33\n",
      "kiwi_2.jpg 132.7 162.7 166.18 149.02\n",
      "xml ok \n",
      "---------------------------\n",
      "image info:  {'id': 3, 'width': 764, 'height': 572, 'file_name': 'kiwi_3.jpg', 'license': 0, 'flickr_url': '', 'coco_url': '', 'date_captured': 0}\n",
      "kiwi_3.jpg 764 572 3\n",
      "kiwi_3.jpg 391.27 106.11 356.75 398.12\n",
      "kiwi_3.jpg 32.72 91.12 368.14 337.57\n",
      "xml ok \n",
      "---------------------------\n",
      "image info:  {'id': 4, 'width': 750, 'height': 750, 'file_name': 'kiwi_4.jpg', 'license': 0, 'flickr_url': '', 'coco_url': '', 'date_captured': 0}\n",
      "kiwi_4.jpg 750 750 4\n",
      "kiwi_4.jpg 419.42 189.47 289.31 308.96\n",
      "kiwi_4.jpg 166.27 309.75 367.93 310.53\n",
      "kiwi_4.jpg 43.63 158.02 382.08 303.46\n",
      "xml ok \n",
      "---------------------------\n",
      "image info:  {'id': 5, 'width': 500, 'height': 500, 'file_name': 'kiwi_5.jpg', 'license': 0, 'flickr_url': '', 'coco_url': '', 'date_captured': 0}\n",
      "kiwi_5.jpg 500 500 5\n",
      "kiwi_5.jpg 238.73 84.38 218.03 249.48\n",
      "kiwi_5.jpg 165.36 189.73 233.75 222.22\n",
      "kiwi_5.jpg 38.52 142.03 202.31 204.41\n",
      "xml ok \n",
      "---------------------------\n",
      "image info:  {'id': 6, 'width': 275, 'height': 183, 'file_name': 'kiwi_6.jpg', 'license': 0, 'flickr_url': '', 'coco_url': '', 'date_captured': 0}\n",
      "kiwi_6.jpg 275 183 6\n",
      "kiwi_6.jpg 73.13 63.29 57.0 56.78\n",
      "kiwi_6.jpg 114.76 69.82 55.44 60.23\n",
      "kiwi_6.jpg 110.54 10.0 45.26 61.73\n",
      "kiwi_6.jpg 57.79 9.01 52.75 57.35\n",
      "kiwi_6.jpg 49.16 113.55 71.35 62.54\n",
      "kiwi_6.jpg 0.24 103.0 49.11 67.52\n",
      "kiwi_6.jpg 7.72 54.66 55.82 56.01\n",
      "kiwi_6.jpg 16.35 16.3 46.81 44.69\n",
      "kiwi_6.jpg 0.0 0.76 27.1 51.02\n",
      "kiwi_6.jpg 0.05 56.39 18.8 58.7\n",
      "kiwi_6.jpg 54.14 0.57 64.46 22.82\n",
      "xml ok \n",
      "---------------------------\n",
      "image info:  {'id': 7, 'width': 1200, 'height': 795, 'file_name': 'kiwi_7.jpg', 'license': 0, 'flickr_url': '', 'coco_url': '', 'date_captured': 0}\n",
      "kiwi_7.jpg 1200 795 7\n",
      "kiwi_7.jpg 684.58 90.83 459.17 435.0\n",
      "kiwi_7.jpg 432.92 337.5 401.66 410.83\n",
      "kiwi_7.jpg 162.92 342.5 284.16 344.17\n",
      "kiwi_7.jpg 254.58 60.0 472.5 411.67\n",
      "xml ok \n"
     ]
    }
   ],
   "source": [
    "import xml.etree.ElementTree as ET\n",
    "\n",
    "# 이미지 정보 출력\n",
    "tree = ET.ElementTree()\n",
    "root = ET.Element(\"annotations\")\n",
    "for i, image_info in enumerate(coco_info['images']):\n",
    "    print('---------------------------')\n",
    "    print('image info: ', image_info)\n",
    "    \n",
    "    # xml file save folder\n",
    "    os.makedirs(\"./xml_folder/\", exist_ok=True)\n",
    "    xml_save_path = \"./xml_folder/test.xml\"\n",
    "\n",
    "    filename = image_info['file_name']\n",
    "    width = image_info['width']\n",
    "    height = image_info['height']\n",
    "    img_id = image_info['id']\n",
    "    print(filename, width, height, img_id)\n",
    "    xml_frame = ET.SubElement(\n",
    "        root, \"image\", id=str(i), name=filename, width=\"%d\" % width,\n",
    "        height=\"%d\" % height)\n",
    "\n",
    "    # 이미지 가져오기 위한 처리\n",
    "    file_path = os.path.join(\"./images\", filename)\n",
    "    img = cv2.imread(file_path)\n",
    "    try:\n",
    "        annotation = ann_info[img_id]\n",
    "    except KeyError:\n",
    "        continue\n",
    "    # box category\n",
    "    label_list = {1: \"kiwi\", 2: \"apply\"}\n",
    "\n",
    "    for bbox, category in zip(annotation['boxes'], annotation['categories']):\n",
    "        x1, y1, w, h = bbox\n",
    "        print(filename, x1, y1, w, h)\n",
    "        ET.SubElement(xml_frame, \"box\", label=\"Kiwi\", occluded=\"0\",\n",
    "                      source=\"manual\", x1=str(x1), y1=str(y1), w=str(w), h=str(h), z_order=\"0\")\n",
    "        rec_img = cv2.rectangle(img, (int(x1), int(y1)),\n",
    "                                (int(x1+w), int(y1+h)), (225, 0, 255), 2)\n",
    "        \n",
    "    # cv2.imwrite()\n",
    "    # cv2.imshow('Rectangle', rec_img)\n",
    "    # cv2.waitKey(0)\n",
    "\n",
    "    tree._setroot(root)\n",
    "    tree.write(xml_save_path, encoding='utf-8')\n",
    "    print(\"xml ok \")\n"
   ]
  },
  {
   "cell_type": "code",
   "execution_count": null,
   "metadata": {},
   "outputs": [],
   "source": []
  }
 ],
 "metadata": {
  "kernelspec": {
   "display_name": "Python 3",
   "language": "python",
   "name": "python3"
  },
  "language_info": {
   "codemirror_mode": {
    "name": "ipython",
    "version": 3
   },
   "file_extension": ".py",
   "mimetype": "text/x-python",
   "name": "python",
   "nbconvert_exporter": "python",
   "pygments_lexer": "ipython3",
   "version": "3.10.5 (tags/v3.10.5:f377153, Jun  6 2022, 16:14:13) [MSC v.1929 64 bit (AMD64)]"
  },
  "orig_nbformat": 4,
  "vscode": {
   "interpreter": {
    "hash": "e89c93e4c07d4ac8f065cea982a638287e1c61026788fcbbad7e0263e2130583"
   }
  }
 },
 "nbformat": 4,
 "nbformat_minor": 2
}
