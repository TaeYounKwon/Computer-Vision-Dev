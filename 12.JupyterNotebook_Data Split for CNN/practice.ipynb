{
 "cells": [
  {
   "cell_type": "code",
   "execution_count": 1,
   "metadata": {},
   "outputs": [],
   "source": [
    "import os\n",
    "import glob\n",
    "import natsort\n",
    "import cv2\n",
    "# pip install natsort\n",
    "from sklearn.model_selection import train_test_split"
   ]
  },
  {
   "cell_type": "code",
   "execution_count": 2,
   "metadata": {},
   "outputs": [],
   "source": [
    "cat_image_path = \"./images/cats/\"\n",
    "dog_image_path = \"./images/dogs/\""
   ]
  },
  {
   "cell_type": "code",
   "execution_count": 3,
   "metadata": {},
   "outputs": [
    {
     "name": "stdout",
     "output_type": "stream",
     "text": [
      "cat image size >>  0\n",
      "dog image size >>  0\n"
     ]
    }
   ],
   "source": [
    "# cat 4000장\n",
    "cat_image_full_path = natsort.natsorted(\n",
    "    glob.glob(os.path.join(f\"{cat_image_path}/*.jpg\")))\n",
    "print(\"cat image size >> \", len(cat_image_full_path))\n",
    "\n",
    "# dog 4005장 (5장 중복)\n",
    "dog_image_full_path = natsort.natsorted(\n",
    "    glob.glob(os.path.join(f\"{dog_image_path}/*.jpg\")))\n",
    "print(\"dog image size >> \", len(dog_image_full_path))"
   ]
  },
  {
   "cell_type": "code",
   "execution_count": 5,
   "metadata": {},
   "outputs": [
    {
     "ename": "ValueError",
     "evalue": "With n_samples=0, test_size=0.2 and train_size=None, the resulting train set will be empty. Adjust any of the aforementioned parameters.",
     "output_type": "error",
     "traceback": [
      "\u001b[1;31m---------------------------------------------------------------------------\u001b[0m",
      "\u001b[1;31mValueError\u001b[0m                                Traceback (most recent call last)",
      "Cell \u001b[1;32mIn [5], line 2\u001b[0m\n\u001b[0;32m      1\u001b[0m \u001b[39m# tarin 80 val 20 -> val 10 test 10\u001b[39;00m\n\u001b[1;32m----> 2\u001b[0m cat_train_data, cat_val_data \u001b[39m=\u001b[39m train_test_split(\n\u001b[0;32m      3\u001b[0m     cat_image_full_path, test_size\u001b[39m=\u001b[39;49m\u001b[39m0.2\u001b[39;49m, random_state\u001b[39m=\u001b[39;49m\u001b[39m7777\u001b[39;49m)\n\u001b[0;32m      4\u001b[0m cat_val, cat_test \u001b[39m=\u001b[39m train_test_split(\n\u001b[0;32m      5\u001b[0m     cat_val_data, test_size\u001b[39m=\u001b[39m\u001b[39m0.5\u001b[39m, random_state\u001b[39m=\u001b[39m\u001b[39m7777\u001b[39m)\n\u001b[0;32m      6\u001b[0m \u001b[39mprint\u001b[39m(\n\u001b[0;32m      7\u001b[0m     \u001b[39mf\u001b[39m\u001b[39m\"\u001b[39m\u001b[39mcat train data : \u001b[39m\u001b[39m{\u001b[39;00m\u001b[39mlen\u001b[39m(cat_train_data)\u001b[39m}\u001b[39;00m\u001b[39m, cat val data : \u001b[39m\u001b[39m{\u001b[39;00m\u001b[39mlen\u001b[39m(cat_val)\u001b[39m}\u001b[39;00m\u001b[39m, cat test data : \u001b[39m\u001b[39m{\u001b[39;00m\u001b[39mlen\u001b[39m(cat_test)\u001b[39m}\u001b[39;00m\u001b[39m\"\u001b[39m)\n",
      "File \u001b[1;32mc:\\Users\\tempe\\AppData\\Local\\Programs\\Python\\Python310\\lib\\site-packages\\sklearn\\model_selection\\_split.py:2448\u001b[0m, in \u001b[0;36mtrain_test_split\u001b[1;34m(test_size, train_size, random_state, shuffle, stratify, *arrays)\u001b[0m\n\u001b[0;32m   2445\u001b[0m arrays \u001b[39m=\u001b[39m indexable(\u001b[39m*\u001b[39marrays)\n\u001b[0;32m   2447\u001b[0m n_samples \u001b[39m=\u001b[39m _num_samples(arrays[\u001b[39m0\u001b[39m])\n\u001b[1;32m-> 2448\u001b[0m n_train, n_test \u001b[39m=\u001b[39m _validate_shuffle_split(\n\u001b[0;32m   2449\u001b[0m     n_samples, test_size, train_size, default_test_size\u001b[39m=\u001b[39;49m\u001b[39m0.25\u001b[39;49m\n\u001b[0;32m   2450\u001b[0m )\n\u001b[0;32m   2452\u001b[0m \u001b[39mif\u001b[39;00m shuffle \u001b[39mis\u001b[39;00m \u001b[39mFalse\u001b[39;00m:\n\u001b[0;32m   2453\u001b[0m     \u001b[39mif\u001b[39;00m stratify \u001b[39mis\u001b[39;00m \u001b[39mnot\u001b[39;00m \u001b[39mNone\u001b[39;00m:\n",
      "File \u001b[1;32mc:\\Users\\tempe\\AppData\\Local\\Programs\\Python\\Python310\\lib\\site-packages\\sklearn\\model_selection\\_split.py:2126\u001b[0m, in \u001b[0;36m_validate_shuffle_split\u001b[1;34m(n_samples, test_size, train_size, default_test_size)\u001b[0m\n\u001b[0;32m   2123\u001b[0m n_train, n_test \u001b[39m=\u001b[39m \u001b[39mint\u001b[39m(n_train), \u001b[39mint\u001b[39m(n_test)\n\u001b[0;32m   2125\u001b[0m \u001b[39mif\u001b[39;00m n_train \u001b[39m==\u001b[39m \u001b[39m0\u001b[39m:\n\u001b[1;32m-> 2126\u001b[0m     \u001b[39mraise\u001b[39;00m \u001b[39mValueError\u001b[39;00m(\n\u001b[0;32m   2127\u001b[0m         \u001b[39m\"\u001b[39m\u001b[39mWith n_samples=\u001b[39m\u001b[39m{}\u001b[39;00m\u001b[39m, test_size=\u001b[39m\u001b[39m{}\u001b[39;00m\u001b[39m and train_size=\u001b[39m\u001b[39m{}\u001b[39;00m\u001b[39m, the \u001b[39m\u001b[39m\"\u001b[39m\n\u001b[0;32m   2128\u001b[0m         \u001b[39m\"\u001b[39m\u001b[39mresulting train set will be empty. Adjust any of the \u001b[39m\u001b[39m\"\u001b[39m\n\u001b[0;32m   2129\u001b[0m         \u001b[39m\"\u001b[39m\u001b[39maforementioned parameters.\u001b[39m\u001b[39m\"\u001b[39m\u001b[39m.\u001b[39mformat(n_samples, test_size, train_size)\n\u001b[0;32m   2130\u001b[0m     )\n\u001b[0;32m   2132\u001b[0m \u001b[39mreturn\u001b[39;00m n_train, n_test\n",
      "\u001b[1;31mValueError\u001b[0m: With n_samples=0, test_size=0.2 and train_size=None, the resulting train set will be empty. Adjust any of the aforementioned parameters."
     ]
    }
   ],
   "source": [
    "# tarin 80 val 20 -> val 10 test 10\n",
    "cat_train_data, cat_val_data = train_test_split(\n",
    "    cat_image_full_path, test_size=0.2, random_state=7777)\n",
    "cat_val, cat_test = train_test_split(\n",
    "    cat_val_data, test_size=0.5, random_state=7777)\n",
    "print(\n",
    "    f\"cat train data : {len(cat_train_data)}, cat val data : {len(cat_val)}, cat test data : {len(cat_test)}\")\n"
   ]
  },
  {
   "cell_type": "code",
   "execution_count": 6,
   "metadata": {},
   "outputs": [
    {
     "ename": "ValueError",
     "evalue": "With n_samples=0, test_size=0.2 and train_size=None, the resulting train set will be empty. Adjust any of the aforementioned parameters.",
     "output_type": "error",
     "traceback": [
      "\u001b[1;31m---------------------------------------------------------------------------\u001b[0m",
      "\u001b[1;31mValueError\u001b[0m                                Traceback (most recent call last)",
      "Cell \u001b[1;32mIn [6], line 2\u001b[0m\n\u001b[0;32m      1\u001b[0m \u001b[39m# train 80 val 20 -> val 10 test 10\u001b[39;00m\n\u001b[1;32m----> 2\u001b[0m dog_train_data, dog_val_data \u001b[39m=\u001b[39m train_test_split(\n\u001b[0;32m      3\u001b[0m     dog_image_full_path, test_size\u001b[39m=\u001b[39;49m\u001b[39m0.2\u001b[39;49m, random_state\u001b[39m=\u001b[39;49m\u001b[39m7777\u001b[39;49m)\n\u001b[0;32m      4\u001b[0m dog_val, dog_test \u001b[39m=\u001b[39m train_test_split(\n\u001b[0;32m      5\u001b[0m     dog_val_data, test_size\u001b[39m=\u001b[39m\u001b[39m0.5\u001b[39m, random_state\u001b[39m=\u001b[39m\u001b[39m7777\u001b[39m)\n\u001b[0;32m      6\u001b[0m \u001b[39mprint\u001b[39m(\n\u001b[0;32m      7\u001b[0m     \u001b[39mf\u001b[39m\u001b[39m\"\u001b[39m\u001b[39mdog train data : \u001b[39m\u001b[39m{\u001b[39;00m\u001b[39mlen\u001b[39m(dog_train_data)\u001b[39m}\u001b[39;00m\u001b[39m, dog val data : \u001b[39m\u001b[39m{\u001b[39;00m\u001b[39mlen\u001b[39m(dog_val)\u001b[39m}\u001b[39;00m\u001b[39m, dog test data : \u001b[39m\u001b[39m{\u001b[39;00m\u001b[39mlen\u001b[39m(dog_test)\u001b[39m}\u001b[39;00m\u001b[39m\"\u001b[39m)\n",
      "File \u001b[1;32mc:\\Users\\tempe\\AppData\\Local\\Programs\\Python\\Python310\\lib\\site-packages\\sklearn\\model_selection\\_split.py:2448\u001b[0m, in \u001b[0;36mtrain_test_split\u001b[1;34m(test_size, train_size, random_state, shuffle, stratify, *arrays)\u001b[0m\n\u001b[0;32m   2445\u001b[0m arrays \u001b[39m=\u001b[39m indexable(\u001b[39m*\u001b[39marrays)\n\u001b[0;32m   2447\u001b[0m n_samples \u001b[39m=\u001b[39m _num_samples(arrays[\u001b[39m0\u001b[39m])\n\u001b[1;32m-> 2448\u001b[0m n_train, n_test \u001b[39m=\u001b[39m _validate_shuffle_split(\n\u001b[0;32m   2449\u001b[0m     n_samples, test_size, train_size, default_test_size\u001b[39m=\u001b[39;49m\u001b[39m0.25\u001b[39;49m\n\u001b[0;32m   2450\u001b[0m )\n\u001b[0;32m   2452\u001b[0m \u001b[39mif\u001b[39;00m shuffle \u001b[39mis\u001b[39;00m \u001b[39mFalse\u001b[39;00m:\n\u001b[0;32m   2453\u001b[0m     \u001b[39mif\u001b[39;00m stratify \u001b[39mis\u001b[39;00m \u001b[39mnot\u001b[39;00m \u001b[39mNone\u001b[39;00m:\n",
      "File \u001b[1;32mc:\\Users\\tempe\\AppData\\Local\\Programs\\Python\\Python310\\lib\\site-packages\\sklearn\\model_selection\\_split.py:2126\u001b[0m, in \u001b[0;36m_validate_shuffle_split\u001b[1;34m(n_samples, test_size, train_size, default_test_size)\u001b[0m\n\u001b[0;32m   2123\u001b[0m n_train, n_test \u001b[39m=\u001b[39m \u001b[39mint\u001b[39m(n_train), \u001b[39mint\u001b[39m(n_test)\n\u001b[0;32m   2125\u001b[0m \u001b[39mif\u001b[39;00m n_train \u001b[39m==\u001b[39m \u001b[39m0\u001b[39m:\n\u001b[1;32m-> 2126\u001b[0m     \u001b[39mraise\u001b[39;00m \u001b[39mValueError\u001b[39;00m(\n\u001b[0;32m   2127\u001b[0m         \u001b[39m\"\u001b[39m\u001b[39mWith n_samples=\u001b[39m\u001b[39m{}\u001b[39;00m\u001b[39m, test_size=\u001b[39m\u001b[39m{}\u001b[39;00m\u001b[39m and train_size=\u001b[39m\u001b[39m{}\u001b[39;00m\u001b[39m, the \u001b[39m\u001b[39m\"\u001b[39m\n\u001b[0;32m   2128\u001b[0m         \u001b[39m\"\u001b[39m\u001b[39mresulting train set will be empty. Adjust any of the \u001b[39m\u001b[39m\"\u001b[39m\n\u001b[0;32m   2129\u001b[0m         \u001b[39m\"\u001b[39m\u001b[39maforementioned parameters.\u001b[39m\u001b[39m\"\u001b[39m\u001b[39m.\u001b[39mformat(n_samples, test_size, train_size)\n\u001b[0;32m   2130\u001b[0m     )\n\u001b[0;32m   2132\u001b[0m \u001b[39mreturn\u001b[39;00m n_train, n_test\n",
      "\u001b[1;31mValueError\u001b[0m: With n_samples=0, test_size=0.2 and train_size=None, the resulting train set will be empty. Adjust any of the aforementioned parameters."
     ]
    }
   ],
   "source": [
    "# train 80 val 20 -> val 10 test 10\n",
    "dog_train_data, dog_val_data = train_test_split(\n",
    "    dog_image_full_path, test_size=0.2, random_state=7777)\n",
    "dog_val, dog_test = train_test_split(\n",
    "    dog_val_data, test_size=0.5, random_state=7777)\n",
    "print(\n",
    "    f\"dog train data : {len(dog_train_data)}, dog val data : {len(dog_val)}, dog test data : {len(dog_test)}\")\n"
   ]
  },
  {
   "cell_type": "code",
   "execution_count": 7,
   "metadata": {},
   "outputs": [
    {
     "ename": "NameError",
     "evalue": "name 'dog_train_data' is not defined",
     "output_type": "error",
     "traceback": [
      "\u001b[1;31m---------------------------------------------------------------------------\u001b[0m",
      "\u001b[1;31mNameError\u001b[0m                                 Traceback (most recent call last)",
      "Cell \u001b[1;32mIn [7], line 2\u001b[0m\n\u001b[0;32m      1\u001b[0m \u001b[39m# dog image data save\u001b[39;00m\n\u001b[1;32m----> 2\u001b[0m \u001b[39mfor\u001b[39;00m dog_train_path \u001b[39min\u001b[39;00m dog_train_data:\n\u001b[0;32m      3\u001b[0m     dog_train_img \u001b[39m=\u001b[39m cv2\u001b[39m.\u001b[39mimread(dog_train_path)\n\u001b[0;32m      4\u001b[0m     dog_train_file_name \u001b[39m=\u001b[39m os\u001b[39m.\u001b[39mpath\u001b[39m.\u001b[39mbasename(dog_train_path)\n",
      "\u001b[1;31mNameError\u001b[0m: name 'dog_train_data' is not defined"
     ]
    }
   ],
   "source": [
    "# dog image data save\n",
    "for dog_train_path in dog_train_data:\n",
    "    dog_train_img = cv2.imread(dog_train_path)\n",
    "    dog_train_file_name = os.path.basename(dog_train_path)\n",
    "    os.makedirs(\"./dataset/train/dog/\", exist_ok=True)\n",
    "    cv2.imwrite(f\"./dataset/train/dog/{dog_train_file_name}\", dog_train_img)\n",
    "\n",
    "for dog_val_path, dog_test_path in zip(dog_val, dog_test):\n",
    "    dog_val_img = cv2.imread(dog_val_path)\n",
    "    dog_test_img = cv2.imread(dog_test_path)\n",
    "    dog_val_name = os.path.basename(dog_val_path)\n",
    "    dog_test_name = os.path.basename(dog_test_path)\n",
    "    os.makedirs(\"./dataset/val/dog/\", exist_ok=True)\n",
    "    os.makedirs(\"./dataset/test/dog/\", exist_ok=True)\n",
    "    cv2.imwrite(f\"./dataset/val/dog/{dog_val_name}\", dog_val_img)\n",
    "    cv2.imwrite(f\"./dataset/test/dog/{dog_test_name}\", dog_test_img)\n",
    "\n",
    "    # image cv2 imarad -> 저장 하는 방법\n",
    "    # mv copy\n",
    "flog = False\n",
    "if flog == True:\n",
    "    for cat_train_data_path in cat_train_data:\n",
    "        img = cv2.imread(cat_train_data_path)\n",
    "        os.makedirs(\"./dataset/train/cat/\", exist_ok=True)\n",
    "        file_name = os.path.basename(cat_train_data_path)\n",
    "        cv2.imwrite(f\"./dataset/train/cat/{file_name}\", img)\n",
    "\n",
    "    for cat_val_path, cat_test_path in zip(cat_val, cat_test):\n",
    "        img_val = cv2.imread(cat_val_path)\n",
    "        img_test = cv2.imread(cat_test_path)\n",
    "        file_name_val = os.path.basename(cat_val_path)\n",
    "        file_name_test = os.path.basename(cat_test_path)\n",
    "        os.makedirs(\"./dataset/val/cat/\", exist_ok=True)\n",
    "        os.makedirs(\"./dataset/test/cat/\", exist_ok=True)\n",
    "        cv2.imwrite(f\"./dataset/val/cat/{file_name_val}\", img_val)\n",
    "        cv2.imwrite(f\"./dataset/test/cat/{file_name_test}\", img_test)"
   ]
  }
 ],
 "metadata": {
  "kernelspec": {
   "display_name": "Python 3",
   "language": "python",
   "name": "python3"
  },
  "language_info": {
   "codemirror_mode": {
    "name": "ipython",
    "version": 3
   },
   "file_extension": ".py",
   "mimetype": "text/x-python",
   "name": "python",
   "nbconvert_exporter": "python",
   "pygments_lexer": "ipython3",
   "version": "3.10.5"
  },
  "orig_nbformat": 4,
  "vscode": {
   "interpreter": {
    "hash": "e89c93e4c07d4ac8f065cea982a638287e1c61026788fcbbad7e0263e2130583"
   }
  }
 },
 "nbformat": 4,
 "nbformat_minor": 2
}
