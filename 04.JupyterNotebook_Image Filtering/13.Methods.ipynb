{
 "cells": [
  {
   "cell_type": "markdown",
   "metadata": {},
   "source": [
    "Gradient : detect edge (dilation - erosion)\n",
    "\n",
    "Tophat : original - opening\n",
    "\n",
    "Blackhat : Closing - original\n",
    "\n",
    "opening : dilation @ erosion\n",
    "\n",
    "closing : erosion @ dilation"
   ]
  },
  {
   "cell_type": "code",
   "execution_count": 1,
   "metadata": {},
   "outputs": [],
   "source": [
    "import numpy as np\n",
    "import cv2\n",
    "import matplotlib.pyplot as plt"
   ]
  },
  {
   "cell_type": "code",
   "execution_count": 2,
   "metadata": {},
   "outputs": [],
   "source": [
    "img = cv2.imread('Billiards.png', cv2.IMREAD_GRAYSCALE)\n",
    "\n",
    "_, mask = cv2.threshold(img, 230, 255, cv2.THRESH_BINARY_INV)"
   ]
  },
  {
   "cell_type": "code",
   "execution_count": 3,
   "metadata": {},
   "outputs": [],
   "source": [
    "op_idx = {\n",
    "    'gradient': cv2.MORPH_GRADIENT,\n",
    "    'tophat': cv2.MORPH_TOPHAT,\n",
    "    'blackhat': cv2.MORPH_BLACKHAT\n",
    "}"
   ]
  },
  {
   "cell_type": "code",
   "execution_count": 4,
   "metadata": {},
   "outputs": [],
   "source": [
    "def onChange(k, op_name):\n",
    "    if k == 0:\n",
    "        cv2.imshow(op_name, mask)\n",
    "    kernel = cv2.getStructuringElement(cv2.MORPH_RECT, (k, k))\n",
    "    dst = cv2.morphologyEx(mask, op_idx[op_name], kernel)\n",
    "    cv2.imshow(op_name, dst)"
   ]
  },
  {
   "cell_type": "code",
   "execution_count": null,
   "metadata": {},
   "outputs": [],
   "source": [
    "# cv2.imshow('origin', img)\n",
    "# cv2.imshow('gradient', mask)\n",
    "# cv2.imshow('tophat', mask)\n",
    "cv2.imshow('blackhat', mask)\n",
    "#\n",
    "# cv2.createTrackbar('k', 'gradient', 0, 300, lambda x: onChange(k=x, op_name='gradient'))\n",
    "cv2.createTrackbar('k', 'tophat', 0, 300, lambda x: onChange(k=x, op_name='tophat'))\n",
    "#cv2.createTrackbar('k', 'blackhat', 0, 300, lambda x: onChange(k=x, op_name='blackhat'))\n",
    "\n",
    "cv2.waitKey(0)\n",
    "cv2.destroyAllWindows()\n"
   ]
  }
 ],
 "metadata": {
  "kernelspec": {
   "display_name": "Python 3.10.5 64-bit",
   "language": "python",
   "name": "python3"
  },
  "language_info": {
   "codemirror_mode": {
    "name": "ipython",
    "version": 3
   },
   "file_extension": ".py",
   "mimetype": "text/x-python",
   "name": "python",
   "nbconvert_exporter": "python",
   "pygments_lexer": "ipython3",
   "version": "3.10.5"
  },
  "orig_nbformat": 4,
  "vscode": {
   "interpreter": {
    "hash": "e89c93e4c07d4ac8f065cea982a638287e1c61026788fcbbad7e0263e2130583"
   }
  }
 },
 "nbformat": 4,
 "nbformat_minor": 2
}
