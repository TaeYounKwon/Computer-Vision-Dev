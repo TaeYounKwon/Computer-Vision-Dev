{
 "cells": [
  {
   "cell_type": "markdown",
   "metadata": {},
   "source": [
    "# 기본적인 이미지 처리 기술을 이용한 이미지 선명하게 해보기\n",
    "\n",
    "선명화 프로세스는 일반적으로 이미지의 가장자리를 향상시키는 데 사용됩니다. 우리가 사용할 수 있\n",
    "는 많은 필터가 있지만 이미지를 선명하게 할 수 있는 필터는 아래 매트릭스에 표시되어 있습니다\n",
    "\n",
    "[-1 -1 -1] \n",
    "\n",
    "[-1  9 -1]\n",
    "\n",
    "[-1 -1 -1]\n",
    "\n",
    "보시다시피 이 필터는 중앙에 양수 9가 있는 반면 다른 모든 위치에는 -1이 있습니다. 이 특정 필터의 경\n",
    "우 구현된 OpenCV 기능이 없습니다.\n",
    "\n",
    "따라서 cv2.filter2D() 임의의 필터로 이미지를 처리하는 기능을 사용할 것입니다. 이 필터는 종종 컬러\n",
    "이미지를 선명하게 하는데 사용됩니다. "
   ]
  },
  {
   "cell_type": "code",
   "execution_count": 1,
   "metadata": {},
   "outputs": [],
   "source": [
    "import cv2\n",
    "import numpy as np\n",
    "from utils import image_show"
   ]
  },
  {
   "cell_type": "code",
   "execution_count": 2,
   "metadata": {},
   "outputs": [],
   "source": [
    "image = cv2.imread('./car.jpg')"
   ]
  },
  {
   "cell_type": "code",
   "execution_count": 3,
   "metadata": {},
   "outputs": [],
   "source": [
    "# Creating out sharpening filter\n",
    "filter = np.array([[-1, -1, -1], [-1, 9, -1], [-1, -1, -1]])"
   ]
  },
  {
   "cell_type": "code",
   "execution_count": 5,
   "metadata": {},
   "outputs": [
    {
     "data": {
      "text/plain": [
       "True"
      ]
     },
     "execution_count": 5,
     "metadata": {},
     "output_type": "execute_result"
    }
   ],
   "source": [
    "sharpen_img = cv2.filter2D(image, -1, filter)\n",
    "cv2.imshow(\"org image \", image)\n",
    "cv2.waitKey(0)\n",
    "image_show(sharpen_img)\n",
    "cv2.imwrite(\"03.Shaper.png\",sharpen_img)"
   ]
  }
 ],
 "metadata": {
  "kernelspec": {
   "display_name": "Python 3.10.5 64-bit",
   "language": "python",
   "name": "python3"
  },
  "language_info": {
   "codemirror_mode": {
    "name": "ipython",
    "version": 3
   },
   "file_extension": ".py",
   "mimetype": "text/x-python",
   "name": "python",
   "nbconvert_exporter": "python",
   "pygments_lexer": "ipython3",
   "version": "3.10.5"
  },
  "orig_nbformat": 4,
  "vscode": {
   "interpreter": {
    "hash": "e89c93e4c07d4ac8f065cea982a638287e1c61026788fcbbad7e0263e2130583"
   }
  }
 },
 "nbformat": 4,
 "nbformat_minor": 2
}
