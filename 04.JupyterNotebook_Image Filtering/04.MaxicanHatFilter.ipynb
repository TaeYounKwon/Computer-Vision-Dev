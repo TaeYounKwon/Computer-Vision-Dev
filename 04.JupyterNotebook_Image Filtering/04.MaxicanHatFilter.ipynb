{
 "cells": [
  {
   "cell_type": "code",
   "execution_count": 1,
   "metadata": {},
   "outputs": [],
   "source": [
    "import cv2\n",
    "import numpy as np\n",
    "from utils import image_show"
   ]
  },
  {
   "cell_type": "code",
   "execution_count": 2,
   "metadata": {},
   "outputs": [],
   "source": [
    "image = cv2.imread('./car.jpg')"
   ]
  },
  {
   "cell_type": "code",
   "execution_count": 3,
   "metadata": {},
   "outputs": [],
   "source": [
    "# creating maxican hat filter for\n",
    "# 5x5\n",
    "filter = np.array([[0, 0, -1, 0, 0], [0, -1, -2, -1, 0],\n",
    "                  [-1, -2, 16, -2, -1], [0, -1, -2, -1, 0],\n",
    "                  [0, 0, -1, 0, 0]])"
   ]
  },
  {
   "cell_type": "code",
   "execution_count": 5,
   "metadata": {},
   "outputs": [
    {
     "data": {
      "text/plain": [
       "True"
      ]
     },
     "execution_count": 5,
     "metadata": {},
     "output_type": "execute_result"
    }
   ],
   "source": [
    "# 3x3\n",
    "# filter = np.array([[-1, -1, -1], [-1, 8, -1], [-1, -1, -1]])\n",
    "mexican_hat_image = cv2.filter2D(image, -1, filter)\n",
    "image_show(mexican_hat_image)\n",
    "cv2.imwrite('04.Mexican Hat.png', mexican_hat_image)"
   ]
  },
  {
   "cell_type": "markdown",
   "metadata": {},
   "source": [
    "# 샤프닝 필터 버전 – 멕시칸 햇 또는 라플라시안 필터\n",
    "\n",
    "출력 이미지가 이미지의 가장자리를 보존했음을 알 수 있습니다.\n"
   ]
  }
 ],
 "metadata": {
  "kernelspec": {
   "display_name": "Python 3.10.5 64-bit",
   "language": "python",
   "name": "python3"
  },
  "language_info": {
   "codemirror_mode": {
    "name": "ipython",
    "version": 3
   },
   "file_extension": ".py",
   "mimetype": "text/x-python",
   "name": "python",
   "nbconvert_exporter": "python",
   "pygments_lexer": "ipython3",
   "version": "3.10.5"
  },
  "orig_nbformat": 4,
  "vscode": {
   "interpreter": {
    "hash": "e89c93e4c07d4ac8f065cea982a638287e1c61026788fcbbad7e0263e2130583"
   }
  }
 },
 "nbformat": 4,
 "nbformat_minor": 2
}
