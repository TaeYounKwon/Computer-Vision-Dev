{
 "cells": [
  {
   "cell_type": "markdown",
   "metadata": {},
   "source": [
    "# Instagram 같은 필터 만들기\n",
    "\n",
    "- 세피아 효과 필터\n",
    "\n",
    "약간 다른 이미지 처리를 사용하여 매우 흥미로운 필터링 효과를 만들 수도 있습니다. 여기서는 컨볼루션\n",
    "을 적용하지 않고 색상 변환을 수행하고 있습니다.\n",
    "\n",
    "세피아 효과를 만드는 프로세스에는 다음 단계가 포함됩니다. 먼저 채널을 분할합니다. 빨강, 녹색 및 파\n",
    "랑 채널에는 특정 계수가 곱해지고 빨강, 녹색 및 파랑에 대한 새로운 값이 만들어집니다.\n",
    "\n",
    "이를 처리한 후 빨간색, 녹색 및 파란색에 대한 새 채널을 얻었습니다.\n",
    "이 작업이 완료되면 채널을 새로운 빨간색, 새로운 녹색 및 새로운 파란색으로 다시 병합하여 최종 출력\n",
    "이미지를 만듭니다.\n",
    "\n",
    "마지막으로 이미지를 플롯하면 우리가 만든 세피아 효과를 볼 수 있습니다."
   ]
  },
  {
   "cell_type": "code",
   "execution_count": 1,
   "metadata": {},
   "outputs": [],
   "source": [
    "import cv2\n",
    "import numpy as np\n",
    "from utils import image_show"
   ]
  },
  {
   "cell_type": "code",
   "execution_count": 2,
   "metadata": {},
   "outputs": [],
   "source": [
    "img_path = \"./car.jpg\"\n",
    "img = cv2.imread(img_path)"
   ]
  },
  {
   "cell_type": "code",
   "execution_count": 3,
   "metadata": {},
   "outputs": [],
   "source": [
    "# 세피아 효과 필터\n",
    "filter = np.array([[0.272, 0.534, 0.131],\n",
    "                   [0.349, 0.686, 0.168],\n",
    "                   [0.393, 0.769, 0.189]])"
   ]
  },
  {
   "cell_type": "markdown",
   "metadata": {},
   "source": [
    "cv2.transform(src, dst, M)\n",
    "\n",
    "•src: 입력 영상의 점의 좌표\n",
    "\n",
    "•dst: 변환된 점의 좌표를 담을 결과 영상\n",
    "\n",
    "•M: 어파인 변환 행렬"
   ]
  },
  {
   "cell_type": "code",
   "execution_count": 5,
   "metadata": {},
   "outputs": [
    {
     "data": {
      "text/plain": [
       "True"
      ]
     },
     "execution_count": 5,
     "metadata": {},
     "output_type": "execute_result"
    }
   ],
   "source": [
    "sepia_img = cv2.transform(img, filter)\n",
    "image_show(sepia_img)\n",
    "cv2.imwrite(\"06.SepiaFilter.png\",sepia_img)"
   ]
  }
 ],
 "metadata": {
  "kernelspec": {
   "display_name": "Python 3.10.5 64-bit",
   "language": "python",
   "name": "python3"
  },
  "language_info": {
   "codemirror_mode": {
    "name": "ipython",
    "version": 3
   },
   "file_extension": ".py",
   "mimetype": "text/x-python",
   "name": "python",
   "nbconvert_exporter": "python",
   "pygments_lexer": "ipython3",
   "version": "3.10.5"
  },
  "orig_nbformat": 4,
  "vscode": {
   "interpreter": {
    "hash": "e89c93e4c07d4ac8f065cea982a638287e1c61026788fcbbad7e0263e2130583"
   }
  }
 },
 "nbformat": 4,
 "nbformat_minor": 2
}
