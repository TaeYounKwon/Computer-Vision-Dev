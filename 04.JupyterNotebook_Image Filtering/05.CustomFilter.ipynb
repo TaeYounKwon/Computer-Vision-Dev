{
 "cells": [
  {
   "cell_type": "markdown",
   "metadata": {},
   "source": [
    "# Custom filter 만들기\n",
    "\n",
    "우리가 이미 본 것처럼 OpenCV는 cv2.filter2D() 임의의 필터로 이미지를 처리하는 기능을 제공합니다.\n",
    "-> 계수 필터 값을 설정하여 다양한 종류의 필터링을 수행할 수 있습니다.\n",
    "\n",
    "이 필터의 인수가 -1이라는 사실은 흥미롭습니다.\n",
    "이 인수는 출력 이미지가 입력 이미지와 동일한 깊이임을\n",
    "나타냅니다. 즉, 필터로 회색 이미지를 처리한 경우 출력은\n",
    "하나의 채널이 있는 회색 이미지가 됩니다. 반면에 입력이\n",
    "컬러 이미지이면 출력도 3채널(BGR)의 컬러 이미지가 됩니\n",
    "다.\n"
   ]
  },
  {
   "cell_type": "code",
   "execution_count": 2,
   "metadata": {},
   "outputs": [],
   "source": [
    "import cv2\n",
    "import numpy as np\n",
    "from utils import image_show"
   ]
  },
  {
   "cell_type": "code",
   "execution_count": 3,
   "metadata": {},
   "outputs": [],
   "source": [
    "image = cv2.imread('./car.jpg')"
   ]
  },
  {
   "cell_type": "code",
   "execution_count": 4,
   "metadata": {},
   "outputs": [],
   "source": [
    "filter = np.array([[3, -2, -3], [-4, 8, -6], [5, -1, -0]])\n",
    "custom_image_filter = cv2.filter2D(image, -1, filter)"
   ]
  },
  {
   "cell_type": "code",
   "execution_count": 5,
   "metadata": {},
   "outputs": [
    {
     "data": {
      "text/plain": [
       "True"
      ]
     },
     "execution_count": 5,
     "metadata": {},
     "output_type": "execute_result"
    }
   ],
   "source": [
    "image_show(custom_image_filter)\n",
    "cv2.imwrite(\"05.CustomFilter.png\",custom_image_filter)"
   ]
  }
 ],
 "metadata": {
  "kernelspec": {
   "display_name": "Python 3.10.5 64-bit",
   "language": "python",
   "name": "python3"
  },
  "language_info": {
   "codemirror_mode": {
    "name": "ipython",
    "version": 3
   },
   "file_extension": ".py",
   "mimetype": "text/x-python",
   "name": "python",
   "nbconvert_exporter": "python",
   "pygments_lexer": "ipython3",
   "version": "3.10.5"
  },
  "orig_nbformat": 4,
  "vscode": {
   "interpreter": {
    "hash": "e89c93e4c07d4ac8f065cea982a638287e1c61026788fcbbad7e0263e2130583"
   }
  }
 },
 "nbformat": 4,
 "nbformat_minor": 2
}
