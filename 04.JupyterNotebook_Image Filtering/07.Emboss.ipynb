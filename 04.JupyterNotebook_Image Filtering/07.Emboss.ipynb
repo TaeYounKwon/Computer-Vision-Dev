{
 "cells": [
  {
   "cell_type": "markdown",
   "metadata": {},
   "source": [
    "# 엠보스 효과\n",
    "\n",
    "필터의 방향에 따라 사용할 수 있는 여러 필터가 있습니다. 이 필터의 수직, 수평 또는 대각선 버전을 가질 수\n",
    "있습니다. 우리의 경우 수직 이미지를 사용하고 일단 이미지를 필터링하면 매우 낮은 차이를 얻게 됩니다.\n",
    "즉, 출력 이미지가 다소 검은색이 됩니다. 따라서 각 픽셀에 상수 128을 추가하고 결과 이미지를 회색으로\n",
    "얻습니다."
   ]
  },
  {
   "cell_type": "code",
   "execution_count": 2,
   "metadata": {},
   "outputs": [],
   "source": [
    "import cv2\n",
    "import numpy as np\n",
    "from utils import image_show"
   ]
  },
  {
   "cell_type": "code",
   "execution_count": 3,
   "metadata": {},
   "outputs": [],
   "source": [
    "image_path = \"./car.jpg\"\n",
    "img = cv2.imread(image_path)"
   ]
  },
  {
   "cell_type": "code",
   "execution_count": 4,
   "metadata": {},
   "outputs": [],
   "source": [
    "# 엠보싱 효과\n",
    "filter1 = np.array([[0, 1, 0], [0, 0, 0], [0, -1, 0]])\n",
    "filter2 = np.array([[-1, -1, 0], [-1, 0, 1], [0, 1, 1]])"
   ]
  },
  {
   "cell_type": "code",
   "execution_count": 5,
   "metadata": {},
   "outputs": [],
   "source": [
    "emboss_img = cv2.filter2D(img, -1, filter1)\n",
    "emboss_img = emboss_img + 128"
   ]
  },
  {
   "cell_type": "code",
   "execution_count": 6,
   "metadata": {},
   "outputs": [
    {
     "data": {
      "text/plain": [
       "True"
      ]
     },
     "execution_count": 6,
     "metadata": {},
     "output_type": "execute_result"
    }
   ],
   "source": [
    "image_show(emboss_img)\n",
    "cv2.imwrite(\"07.Emboss.png\",emboss_img)"
   ]
  }
 ],
 "metadata": {
  "kernelspec": {
   "display_name": "Python 3.10.5 64-bit",
   "language": "python",
   "name": "python3"
  },
  "language_info": {
   "codemirror_mode": {
    "name": "ipython",
    "version": 3
   },
   "file_extension": ".py",
   "mimetype": "text/x-python",
   "name": "python",
   "nbconvert_exporter": "python",
   "pygments_lexer": "ipython3",
   "version": "3.10.5"
  },
  "orig_nbformat": 4,
  "vscode": {
   "interpreter": {
    "hash": "e89c93e4c07d4ac8f065cea982a638287e1c61026788fcbbad7e0263e2130583"
   }
  }
 },
 "nbformat": 4,
 "nbformat_minor": 2
}
