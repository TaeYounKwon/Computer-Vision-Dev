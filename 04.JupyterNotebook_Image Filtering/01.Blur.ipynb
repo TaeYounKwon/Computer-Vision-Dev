{
 "cells": [
  {
   "cell_type": "markdown",
   "metadata": {},
   "source": [
    "# 기본적인 이미지 처리 기술을 이용한 이미지 선명하게 해보기\n",
    "\n",
    "이미지 읽기 블러처리 : 보시다시피 출력 이미지가 상당히 흐릿합니다.\n",
    "\n",
    "그러나 여기에는 몇 가지 문제가 있습니다.\n",
    "\n",
    "이미지를 매끄럽게 만들고 싶을 때 우리의 목표는 노이즈를 제거하는 것입니다."
   ]
  },
  {
   "cell_type": "code",
   "execution_count": 1,
   "metadata": {},
   "outputs": [],
   "source": [
    "# 기본적인 이미지 처리 기술을 이용한 이미지 선명화 -1\n",
    "import cv2\n",
    "import numpy as np"
   ]
  },
  {
   "cell_type": "code",
   "execution_count": 4,
   "metadata": {},
   "outputs": [
    {
     "name": "stdout",
     "output_type": "stream",
     "text": [
      "(640, 960)\n"
     ]
    },
    {
     "data": {
      "text/plain": [
       "array([[102, 100, 101, ..., 250, 249, 250],\n",
       "       [100, 102, 102, ..., 250, 249, 250],\n",
       "       [101, 102, 102, ..., 251, 249, 250],\n",
       "       ...,\n",
       "       [ 91,  91,  91, ...,  50,  49,  49],\n",
       "       [ 93,  92,  92, ...,  48,  47,  48],\n",
       "       [ 95,  96,  94, ...,  49,  48,  50]], dtype=uint8)"
      ]
     },
     "execution_count": 4,
     "metadata": {},
     "output_type": "execute_result"
    }
   ],
   "source": [
    "img = cv2.imread('./car.jpg', 0)\n",
    "print(img.shape)\n",
    "img"
   ]
  },
  {
   "cell_type": "code",
   "execution_count": 5,
   "metadata": {},
   "outputs": [],
   "source": [
    "img_rsize = cv2.resize(img, (320, 240))"
   ]
  },
  {
   "cell_type": "code",
   "execution_count": 6,
   "metadata": {},
   "outputs": [],
   "source": [
    "blurred_1 = np.hstack([\n",
    "    cv2.blur(img_rsize, (3, 3)),\n",
    "    cv2.blur(img_rsize, (5, 5)),\n",
    "    cv2.blur(img_rsize, (9, 9))\n",
    "])"
   ]
  },
  {
   "cell_type": "code",
   "execution_count": 8,
   "metadata": {},
   "outputs": [
    {
     "data": {
      "text/plain": [
       "True"
      ]
     },
     "execution_count": 8,
     "metadata": {},
     "output_type": "execute_result"
    }
   ],
   "source": [
    "cv2.imshow(\"show\", blurred_1)\n",
    "cv2.waitKey(0)\n",
    "cv2.imwrite(\"01.Blur.png\",blurred_1)"
   ]
  }
 ],
 "metadata": {
  "kernelspec": {
   "display_name": "Python 3.10.5 64-bit",
   "language": "python",
   "name": "python3"
  },
  "language_info": {
   "codemirror_mode": {
    "name": "ipython",
    "version": 3
   },
   "file_extension": ".py",
   "mimetype": "text/x-python",
   "name": "python",
   "nbconvert_exporter": "python",
   "pygments_lexer": "ipython3",
   "version": "3.10.5"
  },
  "orig_nbformat": 4,
  "vscode": {
   "interpreter": {
    "hash": "e89c93e4c07d4ac8f065cea982a638287e1c61026788fcbbad7e0263e2130583"
   }
  }
 },
 "nbformat": 4,
 "nbformat_minor": 2
}
