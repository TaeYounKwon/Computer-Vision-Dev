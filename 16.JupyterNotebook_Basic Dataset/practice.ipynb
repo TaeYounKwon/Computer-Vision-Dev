{
 "cells": [
  {
   "cell_type": "code",
   "execution_count": 1,
   "metadata": {},
   "outputs": [],
   "source": [
    "import cv2\n",
    "from torch.utils.data.dataset import Dataset\n",
    "from torchvision import transforms"
   ]
  },
  {
   "attachments": {},
   "cell_type": "markdown",
   "metadata": {},
   "source": [
    "### 사용자 정의 데이터 세트 기초\n",
    "\n",
    "가장 중요한 것은 데이터 세트 클래스를 만드는 것\n",
    "\n",
    "- __init__(): 함수는 csv 읽기, 변환 할당, 데이터 필터링 등과 같은 초기 논리가 발생하는 곳입니다.\n",
    "\n",
    "- __getitem__(): 데이터와 레이블을 반환합니다.이 함수는 다음과 같이 dataloader에서 호출됩니다.\n",
    "    -  단일 데이터 포인트(예: 텐서, numpy 배열 등)에 대한 특정 유형을 반환한다는 것입니다.\n",
    "\n",
    "- __len__(): 보유한 샘플 수를 반환"
   ]
  },
  {
   "cell_type": "code",
   "execution_count": 2,
   "metadata": {},
   "outputs": [],
   "source": [
    "label_dic = {\"cat\": 0, \"dog\": 1}\n",
    "\n",
    "\n",
    "class MyCustomDataset(Dataset):\n",
    "    \n",
    "    \n",
    "    # csv, folder 등 읽기, 변환 할당, 데이터 필터링 등과 같은 초기 논리가 발생\n",
    "    # data_path --> ./dataset/train\n",
    "    # train --> ./dataset/train/\n",
    "    # val --> ./dataset/val/\n",
    "    # test --> ./dataset/test/\n",
    "    def __init__(self, path, transforms=None):\n",
    "        # data path\n",
    "        self.all_data_path = \"./image/*.jpg\"  # --> dataset/train/cat/ or dog/ | 모든 jpg 파일을 읽어옴\n",
    "        self.transforms = transforms\n",
    "\n",
    "     # 데이터 레이블 반환 image, label\n",
    "    def __getitem__(self, index):\n",
    "        image_path = self.all_data_path[index]\n",
    "        # \"image01.png , image02.png , image03.png ......\"\n",
    "        label_temp = image_path.split(\"/\")\n",
    "        label_temp = label_temp[2]\n",
    "        label_temp = label_temp.replace(\".jpg\", \"\")\n",
    "        label = label_dic[label_temp]\n",
    "        image = cv2.imread(image_path)\n",
    "\n",
    "        if self.transforms is not None:\n",
    "            image = self.transforms(image)\n",
    "\n",
    "        # return filename, bbox\n",
    "        return image, label\n",
    "\n",
    "    def __len__(self):\n",
    "        return len(self.all_data_path)"
   ]
  },
  {
   "cell_type": "code",
   "execution_count": 3,
   "metadata": {},
   "outputs": [],
   "source": [
    "\n",
    "temp = MyCustomDataset(\"./dataset\")\n",
    "\n",
    "for i in temp:\n",
    "    print(i)"
   ]
  }
 ],
 "metadata": {
  "kernelspec": {
   "display_name": "Python 3",
   "language": "python",
   "name": "python3"
  },
  "language_info": {
   "codemirror_mode": {
    "name": "ipython",
    "version": 3
   },
   "file_extension": ".py",
   "mimetype": "text/x-python",
   "name": "python",
   "nbconvert_exporter": "python",
   "pygments_lexer": "ipython3",
   "version": "3.10.5 (tags/v3.10.5:f377153, Jun  6 2022, 16:14:13) [MSC v.1929 64 bit (AMD64)]"
  },
  "orig_nbformat": 4,
  "vscode": {
   "interpreter": {
    "hash": "e89c93e4c07d4ac8f065cea982a638287e1c61026788fcbbad7e0263e2130583"
   }
  }
 },
 "nbformat": 4,
 "nbformat_minor": 2
}
