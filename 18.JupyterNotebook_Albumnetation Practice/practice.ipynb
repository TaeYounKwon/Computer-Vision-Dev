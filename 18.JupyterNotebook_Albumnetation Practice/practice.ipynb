{
 "cells": [
  {
   "attachments": {},
   "cell_type": "markdown",
   "metadata": {},
   "source": [
    "### Albumentation\n",
    "\n",
    "- numpy, opencv 기반으로 구현된 image transform library이며,\n",
    "\n",
    "- 사용법은 torchivision.transform과 비슷함, 다만\n",
    "\n",
    "- torchvision보다 약 2~15배 빠른 속도를 나타냄!! "
   ]
  },
  {
   "cell_type": "code",
   "execution_count": 1,
   "metadata": {},
   "outputs": [],
   "source": [
    "import numpy as np\n",
    "import random\n",
    "import cv2\n",
    "import albumentations as A"
   ]
  },
  {
   "cell_type": "code",
   "execution_count": 2,
   "metadata": {},
   "outputs": [],
   "source": [
    "keypoints = [\n",
    "    (100, 100, 50, np.pi/4.0),\n",
    "    (720, 410, 50, np.pi/4.0),\n",
    "    (1100, 400, 50, np.pi/4.0),\n",
    "    (1700, 30, 50, np.pi/4.0),\n",
    "    (300, 650, 50, np.pi/4.0),\n",
    "    (1570, 590, 50, np.pi/4.0),\n",
    "    (560, 800, 50, np.pi/4.0),\n",
    "    (1300, 750, 50, np.pi/4.0),\n",
    "    (900, 1000, 50, np.pi/4.0),\n",
    "    (910, 780, 50, np.pi/4.0),\n",
    "    (670, 670, 50, np.pi/4.0),\n",
    "    (830, 670, 50, np.pi/4.0),\n",
    "    (1000, 670, 50, np.pi/4.0),\n",
    "    (1150, 670, 50, np.pi/4.0),\n",
    "    (820, 900, 50, np.pi/4.0),\n",
    "    (1000, 900, 50, np.pi/4.0),\n",
    "]"
   ]
  },
  {
   "cell_type": "code",
   "execution_count": 3,
   "metadata": {},
   "outputs": [],
   "source": [
    "KEYPOINT_COLOR = (0, 255, 0)  # green"
   ]
  },
  {
   "cell_type": "code",
   "execution_count": 4,
   "metadata": {},
   "outputs": [],
   "source": [
    "def vis_keypoints(image, keypoints, color=KEYPOINT_COLOR, diameter=2):\n",
    "    image = image.copy()\n",
    "    for (x, y, s, a) in keypoints:\n",
    "        print(x, y, s, a)\n",
    "        cv2.circle(image, (int(x), int(y)), diameter, color, -1)\n",
    "\n",
    "        x0 = int(x) + s * np.cos(a)\n",
    "        y0 = int(y) - s * np.sin(a)\n",
    "        cv2.arrowedLine(image, (int(x), int(y)), (int(x0), int(y0)), color, 2)\n",
    "\n",
    "    cv2.imshow(\"test\", image)\n",
    "    cv2.waitKey(0)"
   ]
  },
  {
   "cell_type": "code",
   "execution_count": 7,
   "metadata": {},
   "outputs": [],
   "source": [
    "image = cv2.imread(\"./fox.png\")\n",
    "# image = cv2.cvtColor(image, cv2.COLOR_BGR2RGB)"
   ]
  },
  {
   "cell_type": "code",
   "execution_count": 8,
   "metadata": {},
   "outputs": [
    {
     "name": "stdout",
     "output_type": "stream",
     "text": [
      "13 714 51.957047810632965 1.4742803320723414\n",
      "716 553 51.957047810632965 1.4742803320723414\n",
      "1014 294 51.957047810632965 1.4742803320723414\n",
      "537 1023 51.957047810632965 1.4742803320723414\n",
      "1516 136 51.957047810632965 1.4742803320723414\n",
      "845 971 51.957047810632965 1.4742803320723414\n",
      "1405 443 51.957047810632965 1.4742803320723414\n",
      "1250 907 51.957047810632965 1.4742803320723414\n",
      "1112 724 51.957047810632965 1.4742803320723414\n",
      "847 795 51.957047810632965 1.4742803320723414\n",
      "976 689 51.957047810632965 1.4742803320723414\n",
      "1112 577 51.957047810632965 1.4742803320723414\n",
      "1232 477 51.957047810632965 1.4742803320723414\n",
      "1119 880 51.957047810632965 1.4742803320723414\n",
      "1264 761 51.957047810632965 1.4742803320723414\n"
     ]
    }
   ],
   "source": [
    "transform = A.Compose([\n",
    "    A.ShiftScaleRotate(p=1),\n",
    "], keypoint_params=A.KeypointParams(format='xysa', angle_in_degrees=False))\n",
    "\n",
    "transformed = transform(image=image, keypoints=keypoints)\n",
    "vis_keypoints(transformed['image'], transformed['keypoints'])\n",
    "# vis_keypoints(image, keypoints)"
   ]
  }
 ],
 "metadata": {
  "kernelspec": {
   "display_name": "Python 3",
   "language": "python",
   "name": "python3"
  },
  "language_info": {
   "codemirror_mode": {
    "name": "ipython",
    "version": 3
   },
   "file_extension": ".py",
   "mimetype": "text/x-python",
   "name": "python",
   "nbconvert_exporter": "python",
   "pygments_lexer": "ipython3",
   "version": "3.10.5"
  },
  "orig_nbformat": 4,
  "vscode": {
   "interpreter": {
    "hash": "e89c93e4c07d4ac8f065cea982a638287e1c61026788fcbbad7e0263e2130583"
   }
  }
 },
 "nbformat": 4,
 "nbformat_minor": 2
}
