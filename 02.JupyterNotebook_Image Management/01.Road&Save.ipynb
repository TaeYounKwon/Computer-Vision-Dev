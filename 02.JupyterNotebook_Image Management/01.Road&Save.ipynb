{
 "cells": [
  {
   "cell_type": "code",
   "execution_count": 4,
   "metadata": {},
   "outputs": [],
   "source": [
    "import numpy as np\n",
    "# !pip install opencv-python \n",
    "import cv2"
   ]
  },
  {
   "cell_type": "code",
   "execution_count": 5,
   "metadata": {},
   "outputs": [
    {
     "data": {
      "text/plain": [
       "array([[237, 237, 237, ..., 236, 236, 237],\n",
       "       [237, 236, 238, ..., 237, 237, 237],\n",
       "       [238, 237, 237, ..., 237, 238, 237],\n",
       "       ...,\n",
       "       [247, 247, 247, ..., 248, 249, 249],\n",
       "       [248, 248, 248, ..., 249, 250, 248],\n",
       "       [248, 247, 248, ..., 249, 249, 249]], dtype=uint8)"
      ]
     },
     "execution_count": 5,
     "metadata": {},
     "output_type": "execute_result"
    }
   ],
   "source": [
    "# 이미지 경로\n",
    "x = cv2.imread(\"./cat.jpg\", 0)  # 흑백 이미지\n",
    "cv2.imshow(\"gray\", x)\n",
    "cv2.imwrite('01.cat_grey.png',x)\n",
    "cv2.waitKey(0) # image => 0, video  => 1 \n",
    "x"
   ]
  },
  {
   "cell_type": "code",
   "execution_count": 6,
   "metadata": {},
   "outputs": [
    {
     "data": {
      "text/plain": [
       "array([[[244, 238, 233],\n",
       "        [244, 238, 233],\n",
       "        [244, 238, 233],\n",
       "        ...,\n",
       "        [247, 236, 232],\n",
       "        [247, 236, 232],\n",
       "        [248, 237, 233]],\n",
       "\n",
       "       [[244, 238, 233],\n",
       "        [243, 237, 232],\n",
       "        [245, 239, 234],\n",
       "        ...,\n",
       "        [248, 237, 233],\n",
       "        [248, 237, 233],\n",
       "        [248, 237, 233]],\n",
       "\n",
       "       [[245, 239, 234],\n",
       "        [244, 238, 233],\n",
       "        [244, 238, 233],\n",
       "        ...,\n",
       "        [248, 238, 231],\n",
       "        [249, 239, 232],\n",
       "        [248, 238, 231]],\n",
       "\n",
       "       ...,\n",
       "\n",
       "       [[251, 247, 246],\n",
       "        [251, 247, 246],\n",
       "        [251, 247, 246],\n",
       "        ...,\n",
       "        [252, 249, 245],\n",
       "        [254, 249, 246],\n",
       "        [254, 249, 246]],\n",
       "\n",
       "       [[252, 248, 247],\n",
       "        [252, 248, 247],\n",
       "        [252, 248, 247],\n",
       "        ...,\n",
       "        [253, 250, 246],\n",
       "        [255, 250, 247],\n",
       "        [253, 248, 245]],\n",
       "\n",
       "       [[252, 248, 247],\n",
       "        [251, 247, 246],\n",
       "        [252, 248, 247],\n",
       "        ...,\n",
       "        [253, 250, 246],\n",
       "        [254, 249, 246],\n",
       "        [254, 249, 246]]], dtype=uint8)"
      ]
     },
     "execution_count": 6,
     "metadata": {},
     "output_type": "execute_result"
    }
   ],
   "source": [
    "y = cv2.imread(\"./cat.jpg\", 1)  # 컬러 이미지\n",
    "cv2.imshow(\"color\", y)\n",
    "cv2.imwrite('01.cat_color.png',y)\n",
    "cv2.waitKey(0)\n",
    "y"
   ]
  },
  {
   "cell_type": "code",
   "execution_count": 7,
   "metadata": {},
   "outputs": [],
   "source": [
    "# 여러개 파일 save .npz\n",
    "np.savez(\"./image.npz\", array1=x, array2=y)"
   ]
  },
  {
   "cell_type": "code",
   "execution_count": 8,
   "metadata": {},
   "outputs": [],
   "source": [
    "# 압축 방법\n",
    "np.savez_compressed(\"./image_compressed.npz\", array1=x, array2=y)"
   ]
  },
  {
   "cell_type": "code",
   "execution_count": 9,
   "metadata": {},
   "outputs": [],
   "source": [
    "# npz 데이터 로드\n",
    "data = np.load(\"./image_compressed.npz\")"
   ]
  },
  {
   "cell_type": "code",
   "execution_count": 10,
   "metadata": {},
   "outputs": [],
   "source": [
    "result1 = data['array1']\n",
    "result2 = data['array2']"
   ]
  },
  {
   "cell_type": "code",
   "execution_count": 11,
   "metadata": {},
   "outputs": [
    {
     "data": {
      "text/plain": [
       "-1"
      ]
     },
     "execution_count": 11,
     "metadata": {},
     "output_type": "execute_result"
    }
   ],
   "source": [
    "cv2.imshow(\"result01\", result1)\n",
    "cv2.waitKey(0)"
   ]
  },
  {
   "cell_type": "code",
   "execution_count": 12,
   "metadata": {},
   "outputs": [
    {
     "data": {
      "text/plain": [
       "-1"
      ]
     },
     "execution_count": 12,
     "metadata": {},
     "output_type": "execute_result"
    }
   ],
   "source": [
    "img = cv2.resize(result2,(500,500))\n",
    "cv2.imshow(\"result02\", img)\n",
    "\n",
    "cv2.waitKey(0)"
   ]
  }
 ],
 "metadata": {
  "kernelspec": {
   "display_name": "Python 3.10.5 64-bit",
   "language": "python",
   "name": "python3"
  },
  "language_info": {
   "codemirror_mode": {
    "name": "ipython",
    "version": 3
   },
   "file_extension": ".py",
   "mimetype": "text/x-python",
   "name": "python",
   "nbconvert_exporter": "python",
   "pygments_lexer": "ipython3",
   "version": "3.10.5"
  },
  "orig_nbformat": 4,
  "vscode": {
   "interpreter": {
    "hash": "e89c93e4c07d4ac8f065cea982a638287e1c61026788fcbbad7e0263e2130583"
   }
  }
 },
 "nbformat": 4,
 "nbformat_minor": 2
}
