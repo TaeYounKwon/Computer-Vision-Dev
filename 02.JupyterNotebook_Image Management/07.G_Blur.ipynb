{
 "cells": [
  {
   "cell_type": "markdown",
   "metadata": {},
   "source": [
    "일반 Blur보다 머신러닝할때 특징 및 집중도가 더 잘 나타남!\n",
    "\n",
    "다만!!!! 야간 이미지같은 경우 가우시안 블러를 사용하면 x 형체들이 많이 없어짐\n",
    "\n",
    "항상 데이터 처리 전 데이터 질 및 종류 파악!"
   ]
  },
  {
   "cell_type": "code",
   "execution_count": 1,
   "metadata": {},
   "outputs": [],
   "source": [
    "# 가우시안 블러\n",
    "import cv2\n",
    "from utils import image_show"
   ]
  },
  {
   "cell_type": "code",
   "execution_count": 2,
   "metadata": {},
   "outputs": [],
   "source": [
    "image_path = \"./cat.jpg\""
   ]
  },
  {
   "cell_type": "code",
   "execution_count": 3,
   "metadata": {},
   "outputs": [
    {
     "name": "stdout",
     "output_type": "stream",
     "text": [
      "[[[244 238 233]\n",
      "  [244 238 233]\n",
      "  [244 238 233]\n",
      "  ...\n",
      "  [247 236 232]\n",
      "  [247 236 232]\n",
      "  [248 237 233]]\n",
      "\n",
      " [[244 238 233]\n",
      "  [243 237 232]\n",
      "  [245 239 234]\n",
      "  ...\n",
      "  [248 237 233]\n",
      "  [248 237 233]\n",
      "  [248 237 233]]\n",
      "\n",
      " [[245 239 234]\n",
      "  [244 238 233]\n",
      "  [244 238 233]\n",
      "  ...\n",
      "  [248 238 231]\n",
      "  [249 239 232]\n",
      "  [248 238 231]]\n",
      "\n",
      " ...\n",
      "\n",
      " [[251 247 246]\n",
      "  [251 247 246]\n",
      "  [251 247 246]\n",
      "  ...\n",
      "  [252 249 245]\n",
      "  [254 249 246]\n",
      "  [254 249 246]]\n",
      "\n",
      " [[252 248 247]\n",
      "  [252 248 247]\n",
      "  [252 248 247]\n",
      "  ...\n",
      "  [253 250 246]\n",
      "  [255 250 247]\n",
      "  [253 248 245]]\n",
      "\n",
      " [[252 248 247]\n",
      "  [251 247 246]\n",
      "  [252 248 247]\n",
      "  ...\n",
      "  [253 250 246]\n",
      "  [254 249 246]\n",
      "  [254 249 246]]]\n"
     ]
    }
   ],
   "source": [
    "# 이미지 읽기\n",
    "image = cv2.imread(image_path)\n",
    "print(image)"
   ]
  },
  {
   "cell_type": "code",
   "execution_count": 4,
   "metadata": {},
   "outputs": [
    {
     "data": {
      "text/plain": [
       "True"
      ]
     },
     "execution_count": 4,
     "metadata": {},
     "output_type": "execute_result"
    }
   ],
   "source": [
    "image_g_blury = cv2.GaussianBlur(image, (5, 5), 0)\n",
    "image_show(image_g_blury)\n",
    "cv2.imwrite('07.cat_G-Blur.png',image_g_blury)"
   ]
  }
 ],
 "metadata": {
  "kernelspec": {
   "display_name": "Python 3.10.5 64-bit",
   "language": "python",
   "name": "python3"
  },
  "language_info": {
   "codemirror_mode": {
    "name": "ipython",
    "version": 3
   },
   "file_extension": ".py",
   "mimetype": "text/x-python",
   "name": "python",
   "nbconvert_exporter": "python",
   "pygments_lexer": "ipython3",
   "version": "3.10.5"
  },
  "orig_nbformat": 4,
  "vscode": {
   "interpreter": {
    "hash": "e89c93e4c07d4ac8f065cea982a638287e1c61026788fcbbad7e0263e2130583"
   }
  }
 },
 "nbformat": 4,
 "nbformat_minor": 2
}
