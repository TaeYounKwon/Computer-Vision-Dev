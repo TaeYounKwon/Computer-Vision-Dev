{
 "cells": [
  {
   "cell_type": "code",
   "execution_count": 8,
   "metadata": {},
   "outputs": [],
   "source": [
    "import cv2"
   ]
  },
  {
   "cell_type": "code",
   "execution_count": 9,
   "metadata": {},
   "outputs": [],
   "source": [
    "# 이미지 경로\n",
    "image_path = \"./cat.jpg\""
   ]
  },
  {
   "cell_type": "code",
   "execution_count": 10,
   "metadata": {},
   "outputs": [],
   "source": [
    "# 이미지 읽기\n",
    "image = cv2.imread(image_path)"
   ]
  },
  {
   "cell_type": "code",
   "execution_count": 11,
   "metadata": {},
   "outputs": [],
   "source": [
    "# 이미지 좌우 및 상하 반전\n",
    "# 1 좌우 반전 0 상하 반전\n",
    "dst_tmep1 = cv2.flip(image, 1)\n",
    "dst_tmep2 = cv2.flip(image, 0)"
   ]
  },
  {
   "cell_type": "code",
   "execution_count": 12,
   "metadata": {},
   "outputs": [
    {
     "data": {
      "text/plain": [
       "-1"
      ]
     },
     "execution_count": 12,
     "metadata": {},
     "output_type": "execute_result"
    }
   ],
   "source": [
    "cv2.imshow(\"dst_tmep1\", dst_tmep1)\n",
    "cv2.imwrite(\"11.cat_horizontal flip.png\",dst_tmep1)\n",
    "cv2.imshow(\"dst_tmep2\", dst_tmep2)\n",
    "cv2.imwrite(\"11.cat_vertical flip.png\",dst_tmep2)\n",
    "cv2.waitKey(0)"
   ]
  },
  {
   "cell_type": "code",
   "execution_count": 13,
   "metadata": {},
   "outputs": [],
   "source": [
    "img90 = cv2.rotate(image, cv2.ROTATE_90_CLOCKWISE)  # 시계 방향 으로 90도 회전\n",
    "img180 = cv2.rotate(image, cv2.ROTATE_180)  # 180도 회전\n",
    "img270 = cv2.rotate(image, cv2.ROTATE_90_COUNTERCLOCKWISE) # 반시계방향으로 90도 회전\n"
   ]
  },
  {
   "cell_type": "code",
   "execution_count": 14,
   "metadata": {},
   "outputs": [
    {
     "name": "stdout",
     "output_type": "stream",
     "text": [
      "(399, 600, 3)\n",
      "(600, 399, 3)\n",
      "(600, 399, 3)\n"
     ]
    },
    {
     "data": {
      "text/plain": [
       "-1"
      ]
     },
     "execution_count": 14,
     "metadata": {},
     "output_type": "execute_result"
    }
   ],
   "source": [
    "# 반시계 방향으로 90도 회전 = 시계방향 270도 회전\n",
    "print(image.shape)\n",
    "print(img90.shape)\n",
    "print(img270.shape)\n",
    "cv2.imshow(\"orginal image\", image)\n",
    "cv2.imshow(\"rotate_90\", img90)\n",
    "cv2.imshow(\"rotate_180\", img180)\n",
    "cv2.imshow(\"rotate_270\", img270)\n",
    "cv2.imwrite(\"11.cat_rotate_0.png\",image)\n",
    "cv2.imwrite(\"11.cat_rotate_90.png\",img90)\n",
    "cv2.imwrite(\"11.cat_rotate_180.png\",img180)\n",
    "cv2.imwrite(\"11.cat_rotate_270.png\",img270)\n",
    "\n",
    "cv2.waitKey(0)"
   ]
  }
 ],
 "metadata": {
  "kernelspec": {
   "display_name": "Python 3.10.5 64-bit",
   "language": "python",
   "name": "python3"
  },
  "language_info": {
   "codemirror_mode": {
    "name": "ipython",
    "version": 3
   },
   "file_extension": ".py",
   "mimetype": "text/x-python",
   "name": "python",
   "nbconvert_exporter": "python",
   "pygments_lexer": "ipython3",
   "version": "3.10.5"
  },
  "orig_nbformat": 4,
  "vscode": {
   "interpreter": {
    "hash": "e89c93e4c07d4ac8f065cea982a638287e1c61026788fcbbad7e0263e2130583"
   }
  }
 },
 "nbformat": 4,
 "nbformat_minor": 2
}
