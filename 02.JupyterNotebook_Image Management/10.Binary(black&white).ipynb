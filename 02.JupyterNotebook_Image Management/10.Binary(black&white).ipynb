{
 "cells": [
  {
   "cell_type": "markdown",
   "metadata": {},
   "source": [
    "# 이미지 이진화\n",
    "\n",
    "이미지 이진화(임계처리)는 어떤 값보다 큰 값을 가진 픽셀을 흰색으로 만들고, 작은 값을 가진 픽셀은 검은 색으로 만드는 과정\n",
    "\n",
    "더 고급 기술은 적응적 이진화(Adaptive Thresholding)로, 픽셀의 임곗값이 주변 픽셀의 강도에 의해 결정됨"
   ]
  },
  {
   "cell_type": "code",
   "execution_count": 1,
   "metadata": {},
   "outputs": [],
   "source": [
    "import cv2\n",
    "from utils import image_show"
   ]
  },
  {
   "cell_type": "code",
   "execution_count": 2,
   "metadata": {},
   "outputs": [],
   "source": [
    "# 이미지 경로\n",
    "image_path = \"./cat.jpg\""
   ]
  },
  {
   "cell_type": "code",
   "execution_count": 3,
   "metadata": {},
   "outputs": [],
   "source": [
    "# 이미지 이진화\n",
    "image_gray = cv2.imread(image_path, cv2.IMREAD_GRAYSCALE)\n",
    "max_output_value = 255 \n",
    "neighborhood_size = 99 \n",
    "subtract_from_mean = 5"
   ]
  },
  {
   "cell_type": "code",
   "execution_count": 4,
   "metadata": {},
   "outputs": [],
   "source": [
    "image_binary = cv2.adaptiveThreshold(image_gray, max_output_value, # 출력 픽셀 강도의 최댓값 저장\n",
    "                                     cv2.ADAPTIVE_THRESH_GAUSSIAN_C, # 픽셀의 임곗값을 주변 픽셀 강도의 가중치 합으로 설정, 가중치는 가우시안 윈도우에 의해 결정\n",
    "                                     cv2.THRESH_BINARY, neighborhood_size, # 주변 픽셀의 평균을 임계값으로 설정\n",
    "                                     subtract_from_mean)"
   ]
  },
  {
   "cell_type": "code",
   "execution_count": 5,
   "metadata": {},
   "outputs": [
    {
     "data": {
      "text/plain": [
       "True"
      ]
     },
     "execution_count": 5,
     "metadata": {},
     "output_type": "execute_result"
    }
   ],
   "source": [
    "image_show(image_binary)\n",
    "cv2.imwrite('10.cat_Binary(Black&White).png',image_binary)\n"
   ]
  }
 ],
 "metadata": {
  "kernelspec": {
   "display_name": "Python 3.10.5 64-bit",
   "language": "python",
   "name": "python3"
  },
  "language_info": {
   "codemirror_mode": {
    "name": "ipython",
    "version": 3
   },
   "file_extension": ".py",
   "mimetype": "text/x-python",
   "name": "python",
   "nbconvert_exporter": "python",
   "pygments_lexer": "ipython3",
   "version": "3.10.5"
  },
  "orig_nbformat": 4,
  "vscode": {
   "interpreter": {
    "hash": "e89c93e4c07d4ac8f065cea982a638287e1c61026788fcbbad7e0263e2130583"
   }
  }
 },
 "nbformat": 4,
 "nbformat_minor": 2
}
