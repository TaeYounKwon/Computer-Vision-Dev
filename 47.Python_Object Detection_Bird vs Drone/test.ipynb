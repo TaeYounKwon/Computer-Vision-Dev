{
 "cells": [
  {
   "attachments": {},
   "cell_type": "markdown",
   "metadata": {},
   "source": [
    "### GUI 프로그램 구동 시 작동 되야 할 것\n",
    "\n",
    "1. Multi-processing 사용 -> Pyqt를 사용한 gui 시작\n",
    "2. Multi-processing 사용 -> 모니터링 시작 버튼을 누르면 detect.py를 통해 카메라로 연결되어 하늘에서 드론 탐지 시작\n",
    "3. 아직 정한건 아니지만, 매 10초마다: SUM(드론이 나왔던 프레임 때의 confidence 값)/ SUM(드론 출몰 프레임 시간) > 0.8(?)보다 높다면\n",
    "\n",
    "    a. Multi-thread 사용, 자동으로 유저에게 이메일을 보냄. 보낼 시에 \n",
    "        - 발견된 현재 주소 \n",
    "        - geolocate를 사용한 지도 값 및 드론 공중 이동 범위\n",
    "        - 발견 시간 범위 (예: 오후 3시 56분 23초 ~ 3시 56분 33초)에 발견되었습니다. \n",
    "    b. log data 값 DB에 보내기\n",
    "\n",
    "### GUI 프로그램에 있어야할 버튼(?)\n",
    "\n",
    "1. 모니터링 시작 \n",
    "\n",
    "2. 이메일 시스템 \n",
    "\n",
    "3. Confidence 값 조정 \n",
    "\n",
    "4. 드론 발견 빈도 통계 보기  \n",
    "\n",
    "### 그렇다면 있어야 될 .py파일\n",
    "\n",
    "1. main.py: Multi-Processing을 담당할 파이썬 파일 \n",
    "2. python-gui.py: main.py에서 불러와서 "
   ]
  }
 ],
 "metadata": {
  "kernelspec": {
   "display_name": "base",
   "language": "python",
   "name": "python3"
  },
  "language_info": {
   "name": "python",
   "version": "3.9.12"
  },
  "orig_nbformat": 4,
  "vscode": {
   "interpreter": {
    "hash": "ec1db613bd433334d4526401b52388526e3088498c79e7df5f78f6c21e8ddf15"
   }
  }
 },
 "nbformat": 4,
 "nbformat_minor": 2
}
